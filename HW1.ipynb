{
 "cells": [
  {
   "cell_type": "markdown",
   "metadata": {},
   "source": [
    "# HW1"
   ]
  },
  {
   "cell_type": "markdown",
   "metadata": {},
   "source": [
    "Please enter your name inside the double quotes and then \"Run\" the cell below."
   ]
  },
  {
   "cell_type": "code",
   "execution_count": null,
   "metadata": {},
   "outputs": [],
   "source": [
    "name = \"\"\n",
    "\n",
    "if name == \"\":\n",
    "    print(f\"Please enter your name and re-run this cell!\")\n",
    "else:\n",
    "    print(f\"HW1 submission for {name}\")"
   ]
  },
  {
   "cell_type": "markdown",
   "metadata": {},
   "source": [
    "### Run the following code to confirm that you successfully installed Python\n",
    "\n",
    "Please see Canvas for instructions on how to download Python via anaconda."
   ]
  },
  {
   "cell_type": "code",
   "execution_count": null,
   "metadata": {},
   "outputs": [],
   "source": [
    "import random\n",
    "import math\n",
    "import sys\n",
    "import os\n",
    "print (sys.version)"
   ]
  },
  {
   "cell_type": "code",
   "execution_count": null,
   "metadata": {},
   "outputs": [],
   "source": [
    "try:\n",
    "    import numpy as np\n",
    "except:\n",
    "    print(\"numpy not installed!!\")\n",
    "else:\n",
    "    print(\"numpy installed!\")\n",
    "\n",
    "try:\n",
    "    import matplotlib.pyplot as plt\n",
    "except:\n",
    "    print(\"matplotlib not installed!!\")\n",
    "else:\n",
    "    print(\"matplotlib installed!\")\n",
    "\n",
    "try:    \n",
    "    import pandas as pd\n",
    "except:\n",
    "    print(\"pandas not installed!!\")\n",
    "else:\n",
    "    print(\"pandas installed!\")"
   ]
  },
  {
   "cell_type": "markdown",
   "metadata": {
    "tags": []
   },
   "source": [
    "<b>If any of the import statements fail, please reach out to the professor or TA!</b>"
   ]
  },
  {
   "cell_type": "markdown",
   "metadata": {},
   "source": [
    "Download hello.py from Canvas (it is located in Module A), verify that hello.py is located in the same directory as this notebook (or move the file to the directory identified below), and then run the remaining lines of code."
   ]
  },
  {
   "cell_type": "code",
   "execution_count": null,
   "metadata": {},
   "outputs": [],
   "source": [
    "print(\"Current working directory:\", os.getcwd())\n",
    "\n",
    "if 'download' in os.getcwd().lower():\n",
    "    print(os.getcwd(), \"is probably not the best directory in which to save files for class\")"
   ]
  },
  {
   "cell_type": "code",
   "execution_count": null,
   "metadata": {},
   "outputs": [],
   "source": [
    "if \"hello.py\" in os.listdir():\n",
    "    print(f\"Great! The script 'hello.py' is located in {os.getcwd()}\")\n",
    "else:\n",
    "    print(f\"Please move 'hello.py' to {os.getcwd()}\")"
   ]
  },
  {
   "cell_type": "code",
   "execution_count": null,
   "metadata": {},
   "outputs": [],
   "source": [
    "run hello.py"
   ]
  },
  {
   "cell_type": "code",
   "execution_count": null,
   "metadata": {},
   "outputs": [],
   "source": [
    "run hello.py Steve Miller"
   ]
  },
  {
   "cell_type": "markdown",
   "metadata": {},
   "source": [
    "<b>If 'run hello.py' does not return 'Hello World' and 'run hello.py Steve Miller' does not return 'Hello Steve', please reach out to the professor or TA! (But first, please make sure that hello.py is in the appropriate directory.)</b>"
   ]
  },
  {
   "cell_type": "markdown",
   "metadata": {},
   "source": [
    "### 1. The syllabus contains essential information. Did you read <b>all</b> of the syllabus? (2 points)\n",
    "\n",
    "- Set the variable 'syllabus' equal to \"Yes\" or \"Y\" or \"y\" to affirm that you read the entire syllabus and agree to follow the rules."
   ]
  },
  {
   "cell_type": "code",
   "execution_count": null,
   "metadata": {},
   "outputs": [],
   "source": [
    "syllabus = ''    # Writing \"Heck yes\" or \"Absolutely\" results in 0 points"
   ]
  },
  {
   "cell_type": "code",
   "execution_count": null,
   "metadata": {},
   "outputs": [],
   "source": [
    "# Do not edit the code in this cell\n",
    "# Simply run this code to determine your score this question\n",
    "\n",
    "if syllabus.strip().lower()[0] == 'y':\n",
    "    s1 = 2\n",
    "else:\n",
    "    s1 = 0\n",
    "    \n",
    "print(\"\\nYour score on question 1 is {} out of 2\".format(s1))\n",
    "\n",
    "if s1 == 2:\n",
    "    print(\"\\nDon't be surprised if there is a pop quiz about the syllabus in class\")"
   ]
  },
  {
   "cell_type": "markdown",
   "metadata": {},
   "source": [
    "### 2. Creating variables (4 points)\n",
    "\n",
    "Create four variables. \n",
    "- Variable 'a' should be a string; it can contain any (inoffensive) word or phrase that you like.\n",
    "- Variable 'b' should be an integer; it can contain any integer that you like.\n",
    "- Variable 'c' should be a floating point; it can contain any floating point number that you like.\n",
    "- Variable 'd' should be a string that contains as many digits as you like but only contains digits."
   ]
  },
  {
   "cell_type": "code",
   "execution_count": null,
   "metadata": {},
   "outputs": [],
   "source": [
    "# Use this cell to define the variables 'a', 'b', 'c', and 'd'\n",
    "\n",
    "# a = ..."
   ]
  },
  {
   "cell_type": "code",
   "execution_count": null,
   "metadata": {
    "tags": []
   },
   "outputs": [],
   "source": [
    "# Do not edit the code in this cell\n",
    "# Simply run this code to determine your score on question 1\n",
    "\n",
    "s2 = 0\n",
    "\n",
    "try:\n",
    "    str(a)+str(b)+str(c)+str(d)\n",
    "    if type(a)==str and len(a)>0:\n",
    "        print(\"+1 Variable 'a' is coded correctly\")\n",
    "        s2 += 1\n",
    "    else:\n",
    "        print(\"+0 Variable 'a' is of wrong type\")\n",
    "    \n",
    "    if type(b)==int:\n",
    "        print(\"+1 Variable 'b' is coded correctly\")\n",
    "        s2 += 1\n",
    "    else:\n",
    "        print(\"+0 Variable 'b' is of wrong type\")\n",
    "    \n",
    "    if type(c)==float:\n",
    "        print(\"+1 Variable 'c' is coded correctly\")\n",
    "        s2 += 1\n",
    "    else:\n",
    "        print(\"+0 Variable 'c' is of wrong type\")\n",
    "    \n",
    "    try:\n",
    "        type(int(d))==int\n",
    "        print(\"+1 Variable 'd' is coded correctly\")\n",
    "        s2 += 1\n",
    "    except:\n",
    "        print(\"+0 Variable 'd' cannot be converted into an integer\")\n",
    "except:\n",
    "    print(\"One or more of the variables is undefined\")\n",
    "    \n",
    "print(\"\\nYour score on question 2 is {} out of 4\".format(s2))\n",
    "\n",
    "if s2 == 3:\n",
    "    print(\"\\nPlease fix your error and run the cells again\")\n",
    "elif s2 < 3:\n",
    "    print(\"\\nPlease fix your errors and run the cells again\")\n",
    "else:\n",
    "    print(\"\\nGood job!\")"
   ]
  },
  {
   "cell_type": "markdown",
   "metadata": {
    "tags": []
   },
   "source": [
    "### 3. Modifying Variables (4 points)\n",
    "\n",
    "<b>Note: In the questions below, you are allowed to use multiple lines of code.</b>\n",
    "\n",
    "For example, if I gave you the variable 'a' which was equal to the string 'Apple' and I asked you to create a new variable 'A' which is the equal to the lowercase version of the first letter of 'a', you could write\n",
    "\n",
    "- A = a.lower()[0]\n",
    "\n",
    "which converts 'a' to lowercase and then slices the first element (index value of 0)."
   ]
  },
  {
   "cell_type": "code",
   "execution_count": null,
   "metadata": {},
   "outputs": [],
   "source": [
    "# Please use these as inputs when answering the remaining questions\n",
    "\n",
    "w = 'Douglas Adams'\n",
    "x = '1234'\n",
    "y = 42.\n",
    "z = 3"
   ]
  },
  {
   "cell_type": "markdown",
   "metadata": {},
   "source": [
    "<b>(1 point) 3a.</b> Use variables 'x' and 'z' (defined above) to create a new string variable 'q3a' which equals '123123123'.\n",
    "\n",
    "Hint: Slicing is your friend."
   ]
  },
  {
   "cell_type": "code",
   "execution_count": null,
   "metadata": {},
   "outputs": [],
   "source": [
    "# Your code goes here"
   ]
  },
  {
   "cell_type": "markdown",
   "metadata": {},
   "source": [
    "<b>(1 point) 3b.</b> Use variables 'w' and 'y' (defined above) and string addition and any other string(s) of your making to create a new string variable 'q3b' which equals 'Douglas Adams loves the number 42!'\n",
    "\n",
    "Note: You will need to convert 'y' into a string variable before adding it to other strings."
   ]
  },
  {
   "cell_type": "code",
   "execution_count": null,
   "metadata": {},
   "outputs": [],
   "source": [
    "# Your code goes here"
   ]
  },
  {
   "cell_type": "markdown",
   "metadata": {},
   "source": [
    "<b>(1 point) 3c.</b> Use the variables 'x', 'y', and 'z' to create a <i>new floating point variable</i> 'q3c' where\n",
    "\n",
    "$\\mbox{q3c} = \\left( \\frac{1234}{42} \\right)^{3}$\n",
    "\n",
    "Note: you will need to convert 'x' into a number before performing this calculation."
   ]
  },
  {
   "cell_type": "code",
   "execution_count": null,
   "metadata": {},
   "outputs": [],
   "source": [
    "# Your code goes here"
   ]
  },
  {
   "cell_type": "markdown",
   "metadata": {},
   "source": [
    "<b>(1 point) 3d.</b> Add string 'w' to itself and slice the resulting string to create a new string variable 'q3d' which equals 'AdamsDouglas'"
   ]
  },
  {
   "cell_type": "code",
   "execution_count": null,
   "metadata": {},
   "outputs": [],
   "source": [
    "# Your code goes here"
   ]
  },
  {
   "cell_type": "code",
   "execution_count": null,
   "metadata": {},
   "outputs": [],
   "source": [
    "# YOU MUST RUN ALL OF THE CELLS IN THIS NOTEBOOK BEFORE RUNNING THIS CELL\n",
    "\n",
    "# Do not edit the code in this cell or otherwise overwrite s1 or s2\n",
    "# Simply run this code to determine your score on question 2\n",
    "\n",
    "s3 = 0\n",
    "\n",
    "if q3a=='123123123':\n",
    "    print(\"+1 Variable 'q3a' is coded correctly\")\n",
    "    s3 += 1\n",
    "else:\n",
    "    print(\"+0 Variable 'q3a' has the wrong value\")\n",
    "\n",
    "if q3b=='Douglas Adams loves the number 42!':\n",
    "    print(\"+1 Variable 'q3b' is coded correctly\")\n",
    "    s3 += 1\n",
    "else:\n",
    "    print(\"+0 Variable 'q3b' has the wrong value\")\n",
    "    \n",
    "if str(q3c)[0:8]=='25362.82':\n",
    "    print(\"+1 Variable 'q3c' is coded correctly\")\n",
    "    s3 += 1\n",
    "else:\n",
    "    print(\"+0 Variable 'q3c' has the wrong value\")\n",
    "\n",
    "if q3d=='AdamsDouglas':\n",
    "    print(\"+1 Variable 'q3d' is coded correctly\")\n",
    "    s3 += 1\n",
    "else:\n",
    "    print(\"+0 Variable 'q3d' has the wrong value\")\n",
    "    \n",
    "print(\"\\nYour score on question 3 is {} out of 4\".format(s2))\n",
    "\n",
    "print(\"\\nYour score on questions 1, 2, and 3 is {} out of 10\".format(s1+s2+s3))"
   ]
  },
  {
   "cell_type": "markdown",
   "metadata": {},
   "source": [
    "### Finally, click on the disk icon to save your notebook and then upload it to Canvas."
   ]
  },
  {
   "cell_type": "code",
   "execution_count": null,
   "metadata": {},
   "outputs": [],
   "source": []
  }
 ],
 "metadata": {
  "kernelspec": {
   "display_name": "Python 3 (ipykernel)",
   "language": "python",
   "name": "python3"
  },
  "language_info": {
   "codemirror_mode": {
    "name": "ipython",
    "version": 3
   },
   "file_extension": ".py",
   "mimetype": "text/x-python",
   "name": "python",
   "nbconvert_exporter": "python",
   "pygments_lexer": "ipython3",
   "version": "3.9.17"
  }
 },
 "nbformat": 4,
 "nbformat_minor": 4
}

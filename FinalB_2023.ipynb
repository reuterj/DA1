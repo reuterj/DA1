{
 "cells": [
  {
   "cell_type": "markdown",
   "id": "83f74f20-a4e5-4397-8111-190e07fb0d8b",
   "metadata": {
    "tags": []
   },
   "source": [
    "# MFIN227001 Final Exam\n",
    "\n",
    "### Final Exam is worth 40 points\n",
    "\n",
    "### You have 3 hours\n",
    "\n",
    "### - Please complete Question 1 <span style=\"color: red;\">and</span> Question 2\n",
    "\n",
    "### - Please complete Question 3 <span style=\"color: red;\">or</span> Question 4\n",
    "\n",
    "### - Please complete Question 5 <span style=\"color: red;\">or</span> Question 6"
   ]
  },
  {
   "cell_type": "markdown",
   "id": "1dc184e2-953a-4367-9ea1-91a8b3c2ed82",
   "metadata": {},
   "source": [
    "<b>When taking this midterm, you may only rely upon a single Jupyter notebook as a cheat sheet, as described previously. You are not allowed to use ChatGPT or any other course materials during the exam. I will be wandering around the back of the classroom, to verify that everyone is following the rules.</b>\n",
    "\n",
    "<b>To avoid situations where students have mistakenly uploaded blank exams to Canvas in the past, you must:\n",
    "    \n",
    "1. Upload a copy of your completed midterm to Canvas by 3:30 pm.\n",
    "2. Email me a copy of your completed midterm by 3:30 pm (sent to reuterj@bc.edu), along with the .ipynb version of your cheat sheet. To help me process the emails, please use an email subject of 'MFIN227001 Final'."
   ]
  },
  {
   "cell_type": "markdown",
   "id": "4a40f969-342d-4f51-a9ee-7e527a52ccbb",
   "metadata": {},
   "source": [
    "## Libraries, Functions, and Data for the Final Exam"
   ]
  },
  {
   "cell_type": "code",
   "execution_count": null,
   "id": "e47509be-1d73-42ba-a7f1-66a4521f5d6c",
   "metadata": {},
   "outputs": [],
   "source": [
    "# Feel free to add additional libraries...\n",
    "\n",
    "import re\n",
    "import math\n",
    "import random\n",
    "import statistics\n",
    "import numpy as np\n",
    "import pandas as pd\n",
    "import statsmodels.api as sm\n",
    "import matplotlib.pyplot as plt"
   ]
  },
  {
   "cell_type": "code",
   "execution_count": null,
   "id": "8becd222-d4cf-4eec-8a81-405dd2bf4165",
   "metadata": {},
   "outputs": [],
   "source": [
    "# Our traditional regression function\n",
    "\n",
    "def reg_m(y,x):\n",
    "    X = sm.add_constant(x)\n",
    "    result = sm.OLS(y,X).fit()\n",
    "    return result"
   ]
  },
  {
   "cell_type": "code",
   "execution_count": null,
   "id": "7ff5bd06-88f4-457c-a965-87a0c469464d",
   "metadata": {},
   "outputs": [],
   "source": [
    "# Used in Questions 1, 2, and 4\n",
    "\n",
    "b_names = np.load('b_names.npy')\n",
    "b_rets  = np.load('b_rets.npy')\n",
    "b_dates = np.load('b_dates.npy')"
   ]
  },
  {
   "cell_type": "code",
   "execution_count": null,
   "id": "953e9af1-d189-4e9b-be83-28482df45ba1",
   "metadata": {},
   "outputs": [],
   "source": [
    "b_names  # four stocks, Bitcoin, FF3 factors, and risk-free rate"
   ]
  },
  {
   "cell_type": "code",
   "execution_count": 406,
   "id": "0c36cf1c-5eaf-46e8-9165-ab80636f2ef3",
   "metadata": {},
   "outputs": [
    {
     "data": {
      "text/plain": [
       "(2475, 9)"
      ]
     },
     "execution_count": 406,
     "metadata": {},
     "output_type": "execute_result"
    }
   ],
   "source": [
    "# Note: Bitcoin (BTC-USD) returns are NaN at beginning and end of sample\n",
    "\n",
    "b_rets.shape   # daily return data stored as columns; "
   ]
  },
  {
   "cell_type": "code",
   "execution_count": null,
   "id": "37fffed3-e445-4682-b352-f5690a9b03bf",
   "metadata": {},
   "outputs": [],
   "source": [
    "b_dates[0], b_dates[-1]  # January 2, 2014 through October 31, 2023"
   ]
  },
  {
   "cell_type": "code",
   "execution_count": null,
   "id": "4e3a9189-94f9-4e06-8ef2-83dfc02f6289",
   "metadata": {},
   "outputs": [],
   "source": [
    "# Used in Question 3b\n",
    "\n",
    "# Dates for 'vol' do not match dates for b_dates...\n",
    "# ... but you do not need dates for Question 3b\n",
    "\n",
    "vol = np.load('b_vol.npy')\n",
    "vol.shape"
   ]
  },
  {
   "cell_type": "markdown",
   "id": "5d937302-a2f9-4a13-bff4-f4b438046eac",
   "metadata": {
    "tags": []
   },
   "source": [
    "## Who are You and Which Questions Should I Grade (2 points)?"
   ]
  },
  {
   "cell_type": "code",
   "execution_count": null,
   "id": "b1cb8008-7cf7-47e4-b301-d3978fd69435",
   "metadata": {},
   "outputs": [],
   "source": [
    "# Please enter your name in this cell\n",
    "\n",
    "yourname = ''\n",
    "\n",
    "if yourname != '':\n",
    "    print(f'Thank you, {yourname}. You earned 1 point!')\n",
    "else:\n",
    "    print('PLEASE EDIT `yourname` TO RECEIVE YOUR 1 POINT')"
   ]
  },
  {
   "cell_type": "code",
   "execution_count": null,
   "id": "c09693f6-2bf4-4dd0-8321-ad39f068b714",
   "metadata": {
    "tags": []
   },
   "outputs": [],
   "source": [
    "# Everyone needs to answer questions 1 and 2.\n",
    "# Everyone needs to answer question 3 OR question 4\n",
    "# Everyone needs to answer question 5 OR question 6\n",
    "\n",
    "# Please replace [0,0] with the numbers of the questions to be graded\n",
    "# For example, grade = [3,5] implies I should grade questions 3 and 5\n",
    "\n",
    "grade = [0,0]   \n",
    "\n",
    "if sorted(grade) in [[3,5],[3,6],[4,5],[4,6]]:\n",
    "    print(f'I will grade questions 1, 2, {min(grade)}, and {max(grade)}. You just earned one point!')\n",
    "else:\n",
    "    print('PLEASE EDIT `grade` TO RECEIVE YOUR 1 POINT')"
   ]
  },
  {
   "cell_type": "markdown",
   "id": "1b67e20f-446a-4b7f-82ce-1c025132e20b",
   "metadata": {},
   "source": [
    "# Please complete Question 1 <span style=\"color: red;\">and</span> Question 2"
   ]
  },
  {
   "cell_type": "markdown",
   "id": "d28a544d-2f87-43c5-a336-68678d0f0ce4",
   "metadata": {
    "tags": []
   },
   "source": [
    "## Question 1. Working with Arrays (10 points)"
   ]
  },
  {
   "cell_type": "markdown",
   "id": "fa12ab27-0fee-4c48-9c84-d29b8c0cf777",
   "metadata": {},
   "source": [
    "<b>Question 1a (4 points)</b>. Calculate the mean daily return and standard deviation of daily returns for each of the 4 stocks ('GM', 'INTC', 'BUD', and 'MSFT') using all daily returns from 2018 and 2019 for each stock. Store these estimates in a (4,2) array named `q1b_stats`, where column 0 contains means and column 1 contains standard deviations. Print `q1b_stats`. \n",
    "\n",
    "<i>If you cannot get a date filter to work, please calculate the four means and standard deviations using all of the daily returns for each stock (max score 3 points).</i>"
   ]
  },
  {
   "cell_type": "code",
   "execution_count": null,
   "id": "825a490a-e35e-4f42-b261-947a17560322",
   "metadata": {},
   "outputs": [],
   "source": [
    "# your code goes here"
   ]
  },
  {
   "cell_type": "markdown",
   "id": "add9def1-fbee-44b4-8f11-bf1ffcf8c178",
   "metadata": {},
   "source": [
    "<b>Question 1b (3 points).</b> Calculate and print the correlation matrix using all of the daily returns for MKTRF, SMB, HML, and RF. Then, use the correlation matrix to answer the two questions below:\n",
    "- What is the correlation between MKTRF and SMB? How do you interpret this correlation?\n",
    "- Is there any evidence that higher risk-free rates of return are associated with higher MKTRF?\n",
    "\n",
    "Your answers to the two questions may appear in print statements or as comments."
   ]
  },
  {
   "cell_type": "code",
   "execution_count": 1,
   "id": "070ff158-6c6d-4023-9363-deb53b168400",
   "metadata": {},
   "outputs": [],
   "source": [
    "# your code goes here"
   ]
  },
  {
   "cell_type": "markdown",
   "id": "77a662d9-2dfd-4f50-9d08-69cd2b704b39",
   "metadata": {},
   "source": [
    "Answers to the two questions:\n",
    "\n",
    "- ???\n",
    "- ???"
   ]
  },
  {
   "cell_type": "markdown",
   "id": "3e392700-51f5-4013-936b-9197801b30d4",
   "metadata": {},
   "source": [
    "<b>Question 1c (3 points)</b>. Create an array named `q1c_ret` that contains the daily returns during 2020 for the following portfolio: (i) you invest \\\\$5000 in 'GM' and \\\\$5000 in 'INTC' on the last trading day of 2019; (ii) you do not ever rebalance the portfolio during 2020. <b>Print the mean daily net portfolio return and standard deviation of daily net portfolio returns. Your print statement should display 1 percent as 1.0000\\%.</b> \n",
    "\n",
    "<i>(Hint: The portfolio is worth \\\\$10000 on the last trading day of 2019. Determine how much the portfolio is worth at the end of each trading day during 2020 and then convert these daily portfolio balances back into daily portfolio returns.)</i>"
   ]
  },
  {
   "cell_type": "code",
   "execution_count": null,
   "id": "6829af3b-1897-4802-8a00-6998dcfec0c3",
   "metadata": {},
   "outputs": [],
   "source": [
    "# your code goes here"
   ]
  },
  {
   "cell_type": "markdown",
   "id": "c08f3470-a362-42ed-8ff1-3466da735d6a",
   "metadata": {
    "tags": []
   },
   "source": [
    "## Question 2. Fun with Regressions (14 points)"
   ]
  },
  {
   "cell_type": "markdown",
   "id": "c0a753f7-9408-4494-814e-0ba51c550042",
   "metadata": {},
   "source": [
    "<b>Question 2a (4 points)</b>. Estimate the Fama-French 3-factor model for 'GM' using all of the stock's daily returns. Print .summary(). Print sentences or add comments that provide your interpretation of the regression output. Specifically:\n",
    "\n",
    "- How much of the variation in GM's daily excess returns does the model explain? \n",
    "- How do you interpret each of the four estimated coefficients?"
   ]
  },
  {
   "cell_type": "code",
   "execution_count": 2,
   "id": "c1238840-35ba-42a3-919e-3d84bf01c14c",
   "metadata": {},
   "outputs": [],
   "source": [
    "# your code goes here"
   ]
  },
  {
   "cell_type": "markdown",
   "id": "ddd74d01-fe84-43e7-8271-c03e7e1906b0",
   "metadata": {},
   "source": [
    "Your comments/sentences go here:\n",
    "\n",
    "- ???\n",
    "- ???\n",
    "- ???\n",
    "- ???\n",
    "- ???"
   ]
  },
  {
   "cell_type": "markdown",
   "id": "388b430c-9ec1-420f-910c-5b3d34be760f",
   "metadata": {},
   "source": [
    "<b>Question 2b (6 points)</b>. Estimate a separate CAPM alpha for BTC for each year in the sample (2014-2023). Use <b>plt.scatter()</b> to plot alphas and the upper and lower bound of their 95% confidence intervals on the y-axis and calendar years on the x-axis. Please give your plot the title 'CAPM Alphas for BTC, 2014-2023'.\n",
    "\n",
    "<i>If you run into problems with missing returns for Bitcoin, please instead estimate and plot a separate CAPM alpha for each year in the sample for MSFT (max score 4.5 points).</i>"
   ]
  },
  {
   "cell_type": "code",
   "execution_count": null,
   "id": "61c79a41-fd1d-4529-be75-6f7c40ea0f09",
   "metadata": {},
   "outputs": [],
   "source": [
    "# your code goes here"
   ]
  },
  {
   "cell_type": "markdown",
   "id": "2fd7a54b-3149-4582-833c-8ad8203f0ce6",
   "metadata": {},
   "source": [
    "<b>Question 2c (4 points).</b> Use a regression to test whether the average CAPM beta on 'BUD' is different in the three-year period 2019, 2020, and 2021 than in the other years of the sample. Print the estimated beta for 2019-2021 (a single number), the estimated beta for the other years (another single number), the estimated difference in betas, and the p-value of the difference in betas. <b>Is the estimated difference in CAPM beta statistically significant at the 10% level?</b>"
   ]
  },
  {
   "cell_type": "code",
   "execution_count": null,
   "id": "0d88d862-e80c-4f6e-806d-8681285f2cea",
   "metadata": {},
   "outputs": [],
   "source": [
    "# your code goes here"
   ]
  },
  {
   "cell_type": "markdown",
   "id": "6833c770-c5e8-4bd8-bb53-348e689db957",
   "metadata": {},
   "source": [
    "# Please complete Question 3 <span style=\"color: red;\">or</span> Question 4"
   ]
  },
  {
   "cell_type": "markdown",
   "id": "85d18fc9-7d97-46b6-aa2d-294af3020851",
   "metadata": {
    "tags": []
   },
   "source": [
    "## Question 3. Dictionaries and Bar Charts (6 points)"
   ]
  },
  {
   "cell_type": "markdown",
   "id": "549f15c1-431b-49db-8909-be6a6890d18a",
   "metadata": {},
   "source": [
    "According to Benford's Law, when you focus on the first digit of real-world numerical data, smaller values are more likely than larger values. Specifically, the likelihood of the first digit by 1 through 9 is given by the corresponding values in the table below:\n",
    "\n",
    "<body>\n",
    "    <table border=\"1\">\n",
    "        <tr>\n",
    "            <th>Digit</th>\n",
    "            <th>Probability</th>\n",
    "        </tr>\n",
    "        <tr>\n",
    "            <td>1</td>\n",
    "            <td>0.301</td>\n",
    "        </tr>\n",
    "        <tr>\n",
    "            <td>2</td>\n",
    "            <td>0.176</td>\n",
    "        </tr>\n",
    "        <tr>\n",
    "            <td>3</td>\n",
    "            <td>0.125</td>\n",
    "        </tr>\n",
    "        <tr>\n",
    "            <td>4</td>\n",
    "            <td>0.097</td>\n",
    "        </tr>\n",
    "        <tr>\n",
    "            <td>5</td>\n",
    "            <td>0.079</td>\n",
    "        </tr>\n",
    "        <tr>\n",
    "            <td>6</td>\n",
    "            <td>0.067</td>\n",
    "        </tr>\n",
    "        <tr>\n",
    "            <td>7</td>\n",
    "            <td>0.058</td>\n",
    "        </tr>\n",
    "        <tr>\n",
    "            <td>8</td>\n",
    "            <td>0.051</td>\n",
    "        </tr>\n",
    "        <tr>\n",
    "            <td>9</td>\n",
    "            <td>0.046</td>\n",
    "        </tr>\n",
    "    </table>\n",
    "</body>\n",
    "</html>\n",
    "\n",
    "(Zero is missing because real-world numbers do not begin with zero.)"
   ]
  },
  {
   "cell_type": "markdown",
   "id": "17d49792-2a06-452f-8e3d-a957633e81aa",
   "metadata": {},
   "source": [
    "<b>Question 3a (2 points).</b> Create a dictionary named `benford` that maps each digit to its corresponding probability, verify that the values sum to one, and create a bar chart (<b>plt.bar()</b>) that plots the probabilities (y-axis) against the values (x-axis). Title your chart 'Benford's Law'."
   ]
  },
  {
   "cell_type": "code",
   "execution_count": null,
   "id": "b75f9e47-ce67-4cc6-b594-55ad357230c5",
   "metadata": {},
   "outputs": [],
   "source": [
    "# your code goes here"
   ]
  },
  {
   "cell_type": "markdown",
   "id": "6ef1a290-1711-4ca1-88be-009cafc2556c",
   "metadata": {},
   "source": [
    "<b>Question 3b (4 points).</b> `vol` contains the daily trading volume for General Motors between \"20131201\" and \"20231130\". (I am not giving you the corresponding list of dates because I want you to use all of the data in this question.) Create a dictionary named `gm1` that measures the fraction of days on which the first digit of GM's daily volume is 1, 2, 3, 4, 5, 6, 7, 8, and 9. Create a bar chart (<b>plt.bar()</b>) that plots these fractions (y-axis) against the digits 1 through 9 (x-axis). Create a similar dictionary and bar chart for `gm2`, which measures the distribution of numbers that appear as the 2nd digit in daily rating volume. (Note that `gm2` should include 0 as a key.) <b>Does either bar chart appear to be consistent with Benford's Law? (I am not looking for a formal statistical test, just an informal assessment.</b>"
   ]
  },
  {
   "cell_type": "code",
   "execution_count": null,
   "id": "f020a284-704a-4476-a783-287ec8adcf28",
   "metadata": {},
   "outputs": [],
   "source": [
    "# Repeating code from earlier in the notebook\n",
    "# in case it is helpful here\n",
    "\n",
    "# vol = np.load('b_vol.npy')\n",
    "# vol.shape"
   ]
  },
  {
   "cell_type": "code",
   "execution_count": null,
   "id": "d2b60b4f-03af-49dc-942a-167b67d65f1b",
   "metadata": {},
   "outputs": [],
   "source": [
    "# your code goes here"
   ]
  },
  {
   "cell_type": "markdown",
   "id": "d934be53-1b68-41cc-9b0a-14cc15c4a5d9",
   "metadata": {
    "tags": []
   },
   "source": [
    "## Question 4. Generating Your Own Stock Returns (6 points)"
   ]
  },
  {
   "cell_type": "markdown",
   "id": "83a59e81-7de6-4f08-8a41-ad3f04882e60",
   "metadata": {},
   "source": [
    "<b>Question 4 (6 points).</b> Use the historical factor returns in 'a_rets.npy', which we previously loaded as `rets`, to generate daily returns for a hypothethical stock with an Fama-French 3-factor alpha of 0.00, MKTRF beta of 0.75, SMB beta of 0.25, and HML beta of -0.50. (This is not a simulation. I am not asking you to sample from the historical factor returns. I am asking you to take the daily factor returns as given.) Please be sure to add a normally distributed error term so that the standard deviation of the daily returns of your hypothetical stock is approximately 2.25\\% over the full sample period. Please save the daily returns in an array named `hyp`. <b>Please print the .summary() from a Fama-French 3-factor model estimate on your simulated returns, with variable labels. \n",
    "    \n",
    "Please extract the 95% confidence intervals for the three beta estimates and use if-else statements to print sentences of the form: \n",
    "- \"Yes, the true SMB beta of 0.25 is within 95% confidence interval: [0.150, 0.350]\"\n",
    "- \"No, the true SMB beta of 0.25 is not within 95% confidence interval: [0.150, 0.350]\"\n",
    "    \n",
    "(where I am just assuming the lower and upper bounds of the 95% confidence interval for SMB are 0.150 to 0.350).   "
   ]
  },
  {
   "cell_type": "code",
   "execution_count": null,
   "id": "30abdff2-89ec-49c1-bde3-60807e55732d",
   "metadata": {},
   "outputs": [],
   "source": [
    "# Repeating code from earlier in the notebook\n",
    "# in case it is helpful here\n",
    "\n",
    "# names = np.load('b_names.npy')\n",
    "# rets  = np.load('b_rets.npy')\n",
    "# dates = np.load('b_dates.npy')"
   ]
  },
  {
   "cell_type": "code",
   "execution_count": null,
   "id": "0daed458-71d7-4561-a610-651cbfe14b0d",
   "metadata": {},
   "outputs": [],
   "source": [
    "# your code goes here"
   ]
  },
  {
   "cell_type": "markdown",
   "id": "85af8c49-ecc5-4e6d-877f-e837b22875f1",
   "metadata": {
    "tags": []
   },
   "source": [
    "# Please complete Question 5 <span style=\"color: red;\">or</span> Question 6"
   ]
  },
  {
   "cell_type": "markdown",
   "id": "a098f132-be06-448f-a7b5-57577da72a1d",
   "metadata": {
    "tags": []
   },
   "source": [
    "## Question 5. Last Hurrah with Regular Expressions (8 points)"
   ]
  },
  {
   "cell_type": "markdown",
   "id": "3bd3fb1d-d440-4a68-bbb0-67c96de59075",
   "metadata": {},
   "source": [
    "<b>Question 5a (6 points).</b> Use <b>re.findall()</b> to extract the dates and adjusted closing prices from the string `yf` (defined below). Store the regex results in a list named `lvmh`. Note that the adjusting closing price appears in the second-to-last column, immediately before volume. Note that many rows include additional tabs for no obvious reason. <b>Print the first five elements and last five elements of `lvmh`.<b>\n",
    "    \n",
    "<i>If you cannot get re.findall() to work, you can use .replace(), .split(), etc. to extract just the adjusted closing prices (max of 4 points)</i>"
   ]
  },
  {
   "cell_type": "code",
   "execution_count": null,
   "id": "cbf0e396-5c7c-421c-bf80-d3cfb46b159c",
   "metadata": {
    "tags": []
   },
   "outputs": [],
   "source": [
    "yf = \"\"\"\n",
    "Date\tOpen\tHigh\tLow\tClose\tAdj Close\tVolume\n",
    "Dec 14, 2023\t815.65\t825.00\t812.73\t817.00\t817.00\t1,067\n",
    "Dec 13, 2023\t789.01\t809.85\t789.01\t806.58\t806.58\t4,600\n",
    "Dec 12, 2023\t790.94\t\t\t801.45\t790.00\t792.51\t792.51\t1,000\n",
    "Dec 11, 2023\t797.30\t800.00\t\t791.61\t797.07\t797.07\t3,300\n",
    "Dec 08, 2023\t790.85\t803.01\t781.00\t797.00\t797.00\t6,200\n",
    "Dec 07, 2023\t773.25\t778.00\t769.95\t772.36\t\t772.36\t1,400\n",
    "Dec 06, 2023\t\t773.29\t780.00\t768.00\t770.43\t770.43\t6,600\n",
    "Dec 05, 2023\t757.03\t773.22\t757.03\t770.63\t770.63\t5,700\n",
    "Dec 04, 2023\t758.00\t\t760.78\t750.00\t760.33\t760.33\t1,800\n",
    "Dec 04, 2023\t5.987 Dividend\n",
    "Dec 01, 2023\t750.00\t765.22\t730.20\t763.45\t757.46\t1,500\n",
    "DEC BEGINS\n",
    "NOV ENDS\n",
    "Nov 30, 2023\t\t764.88\t768.40\t741.15\t768.40\t762.37\t2,100\n",
    "Nov 29, 2023\t737.20\t760.00\t\t737.20\t760.00\t\t\t754.04\t1,200\n",
    "Nov 28, 2023\t749.72\t753.62\t738.30\t750.98\t745.09\t2,000\n",
    "Nov 27, 2023\t765.97\t770.49\t762.10\t766.30\t760.29\t1,500\n",
    "Nov 24, 2023\t\t\t773.75\t776.24\t768.88\t772.00\t765.95\t2,300\n",
    "Nov 22, 2023\t775.28\t\t777.39\t769.75\t775.00\t768.92\t5,200\n",
    "Nov 21, 2023\t773.32\t773.70\t768.88\t770.00\t763.96\t2,600\n",
    "Nov 20, 2023\t779.76\t790.00\t\t\t779.75\t789.57\t\t783.38\t1,600\n",
    "Nov 17, 2023\t753.40\t790.00\t753.40\t779.75\t773.64\t800\n",
    "Nov 16, 2023\t764.29\t770.87\t761.15\t764.39\t758.40\t4,100\n",
    "Nov 15, 2023\t\t778.01\t\t783.00\t775.05\t\t779.77\t773.66\t2,100\n",
    "Nov 14, 2023\t752.60\t773.00\t752.60\t772.00\t765.95\t3,700\n",
    "Nov 13, 2023\t732.77\t740.00\t730.00\t740.00\t734.20\t3,600\n",
    "Nov 10, 2023\t735.49\t741.57\t726.20\t738.25\t732.46\t2,100\n",
    "Nov 09, 2023\t765.13\t769.00\t757.75\t761.00\t755.03\t500\n",
    "Nov 08, 2023\t\t754.49\t758.71\t748.70\t754.00\t748.09\t1,000\n",
    "Nov 07, 2023\t743.76\t747.11\t722.15\t744.54\t738.70\t2,000\n",
    "Nov 06, 2023\t752.33\t\t\t752.33\t745.43\t746.09\t740.24\t2,000\n",
    "Nov 03, 2023\t761.95\t762.97\t\t750.25\t752.01\t746.11\t1,900\n",
    "Nov 02, 2023\t739.14\t752.85\t739.14\t746.37\t740.52\t3,400\n",
    "Nov 01, 2023\t713.25\t\t717.30\t706.00\t715.96\t710.35\t1,800\n",
    "NOV BEGINS\n",
    "OCT ENDS\n",
    "Oct 31, 2023\t714.14\t723.28\t710.00\t717.39\t711.76\t1,100\n",
    "Oct 30, 2023\t706.85\t718.00\t706.76\t713.90\t708.30\t1,600\n",
    "Oct 27, 2023\t698.44\t709.48\t693.00\t693.50\t688.06\t3,200\n",
    "Oct 26, 2023\t\t\t713.71\t713.91\t698.75\t703.00\t697.49\t1,500\n",
    "Oct 25, 2023\t714.09\t720.59\t706.88\t715.59\t709.98\t4,700\n",
    "Oct 24, 2023\t720.10\t727.94\t\t714.42\t727.94\t722.23\t2,900\n",
    "Oct 23, 2023\t700.97\t716.23\t695.80\t713.00\t707.41\t1,300\n",
    "Oct 20, 2023\t699.00\t710.95\t699.00\t\t702.50\t696.99\t1,800\n",
    "Oct 19, 2023\t705.00\t717.88\t703.56\t703.56\t\t698.04\t3,400\n",
    "Oct 18, 2023\t716.43\t716.43\t700.00\t703.99\t698.47\t5,600\n",
    "Oct 17, 2023\t694.62\t711.78\t692.00\t705.50\t699.97\t8,600\n",
    "Oct 16, 2023\t\t695.30\t712.05\t695.30\t709.19\t703.63\t2,700\n",
    "Oct 13, 2023\t700.00\t706.24\t690.66\t694.00\t688.56\t2,500\n",
    "Oct 12, 2023\t718.29\t\t718.45\t705.10\t708.06\t702.51\t2,900\n",
    "Oct 11, 2023\t735.44\t741.54\t722.75\t726.00\t720.31\t18,500\n",
    "Oct 10, 2023\t764.85\t777.00\t\t\t742.25\t742.25\t736.43\t1,900\n",
    "Oct 09, 2023\t752.57\t760.74\t747.05\t759.18\t753.23\t900\n",
    "Oct 06, 2023\t763.12\t781.64\t756.01\t780.44\t774.32\t1,600\n",
    "Oct 05, 2023\t759.59\t\t766.18\t750.50\t765.90\t759.89\t3,100\n",
    "Oct 04, 2023\t752.90\t757.84\t745.88\t751.11\t745.22\t800\n",
    "Oct 03, 2023\t746.43\t746.43\t735.25\t\t740.52\t734.71\t1,500\n",
    "Oct 02, 2023\t747.43\t753.00\t742.33\t745.34\t739.50\t1,000\n",
    "OCT BEGINS\n",
    "\"\"\""
   ]
  },
  {
   "cell_type": "code",
   "execution_count": null,
   "id": "ad2d8202-d16e-43df-ab6c-e1312a3dc326",
   "metadata": {},
   "outputs": [],
   "source": [
    "# your code goes here"
   ]
  },
  {
   "cell_type": "code",
   "execution_count": null,
   "id": "ea00554e-debf-4423-99e9-0ff989032245",
   "metadata": {},
   "outputs": [],
   "source": [
    "print(lvmh[0:5], lvmh[-5:])"
   ]
  },
  {
   "cell_type": "markdown",
   "id": "5c51b3d1-f1c7-4a03-808e-c8d6dc2b42fa",
   "metadata": {},
   "source": [
    "<b>Question 5b (2 points).</b> Use the adjusted closing prices in `lvmh` to calculate an array of daily returns, named `drets`. <b>Print the mean, median, and standard deviation of `drets`, formatted so that 1 percent appears as 1.0000\\%.</b>"
   ]
  },
  {
   "cell_type": "code",
   "execution_count": null,
   "id": "374b7518-a2bd-4fe0-8955-c39ddc454fd5",
   "metadata": {},
   "outputs": [],
   "source": [
    "# your code goes here"
   ]
  },
  {
   "cell_type": "markdown",
   "id": "32948db9-841a-4688-94ba-4f0b090b0981",
   "metadata": {
    "tags": []
   },
   "source": [
    "## Question 6. Using Simulations to Estimate P-values (8 points)"
   ]
  },
  {
   "cell_type": "markdown",
   "id": "0733eb53-e01d-4869-8473-5a123d355298",
   "metadata": {},
   "source": [
    "<b>Question 6. (8 points)</b> Your friend just flipped a fair coin 100 times and claims that he flipped 8 heads in a row. Use a simulation with 10,000 iterations to calculate the probability of observing 8 or more heads (or tails) in a row when flipping a fair coin 100 times. (A fair coin is one where the probability of heads equals the probability of tails equals 50%.) \n",
    "\n",
    "For example, if I flipped 10 fair coins and observed the following pattern `[1, 1, 0, 1, 0, 0, 0, 1, 0, 0]` then the longest run of heads or tails is 3, because there are three tails in a row in elements 4, 5, and 6. If the pattern had been `[0, 0, 1, 0, 1, 1, 1, 0, 1, 1]` then the longest run is also 3, because there are three heads in a row in elements 4, 5, and 6.\n",
    "\n",
    "- (4 points) Create a function named `max_run` that takes `n` as its only input. The function flips `n` fair coins and returns the longest run of heads or tails as an integer.\n",
    "- (3 points) Use `max_run` to simulate the maximum number of runs in 100 coin flips 10,000 times. Use these outcomes to estimate the probability of observing 8 or more heads (or tails) in a row when flipping a fair coin 100 times.\n",
    "- (1 point) Print a sentence that includes this probability, formatted so that 10 percent appears as 10.00%."
   ]
  },
  {
   "cell_type": "code",
   "execution_count": null,
   "id": "bd13d638-29c9-4c24-927a-8a3becc2bc64",
   "metadata": {
    "tags": []
   },
   "outputs": [],
   "source": [
    "# your code goes here"
   ]
  },
  {
   "cell_type": "code",
   "execution_count": null,
   "id": "9b7fbc09-eb2c-4f36-b9b7-9a303e814451",
   "metadata": {},
   "outputs": [],
   "source": []
  }
 ],
 "metadata": {
  "kernelspec": {
   "display_name": "Python 3 (ipykernel)",
   "language": "python",
   "name": "python3"
  },
  "language_info": {
   "codemirror_mode": {
    "name": "ipython",
    "version": 3
   },
   "file_extension": ".py",
   "mimetype": "text/x-python",
   "name": "python",
   "nbconvert_exporter": "python",
   "pygments_lexer": "ipython3",
   "version": "3.9.17"
  }
 },
 "nbformat": 4,
 "nbformat_minor": 5
}

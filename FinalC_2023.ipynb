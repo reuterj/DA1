{
 "cells": [
  {
   "cell_type": "markdown",
   "id": "83f74f20-a4e5-4397-8111-190e07fb0d8b",
   "metadata": {
    "tags": []
   },
   "source": [
    "# MFIN227002 Final Exam\n",
    "\n",
    "### Final Exam is worth 40 points\n",
    "\n",
    "### You have 3 hours\n",
    "\n",
    "### - Please complete Question 1 <span style=\"color: red;\">and</span> Question 2\n",
    "\n",
    "### - Please complete Question 3 <span style=\"color: red;\">or</span> Question 4\n",
    "\n",
    "### - Please complete Question 5 <span style=\"color: red;\">or</span> Question 6"
   ]
  },
  {
   "cell_type": "markdown",
   "id": "1dc184e2-953a-4367-9ea1-91a8b3c2ed82",
   "metadata": {},
   "source": [
    "<b>When taking this midterm, you may only rely upon a single Jupyter notebook as a cheat sheet, as described previously. You are not allowed to use ChatGPT or any other course materials during the exam. I will be wandering around the back of the classroom, to verify that everyone is following the rules.</b>\n",
    "\n",
    "<b>To avoid situations where students have mistakenly uploaded blank exams to Canvas in the past, you must:\n",
    "    \n",
    "1. Upload a copy of your completed midterm to Canvas by 3:30 pm.\n",
    "2. Email me a copy of your completed midterm by 3:30 pm (sent to reuterj@bc.edu), along with the .ipynb version of your cheat sheet. To help me process the emails, please use an email subject of 'MFIN227002 Final'."
   ]
  },
  {
   "cell_type": "markdown",
   "id": "4a40f969-342d-4f51-a9ee-7e527a52ccbb",
   "metadata": {},
   "source": [
    "## Libraries, Functions, and Data for the Final Exam"
   ]
  },
  {
   "cell_type": "code",
   "execution_count": null,
   "id": "e47509be-1d73-42ba-a7f1-66a4521f5d6c",
   "metadata": {},
   "outputs": [],
   "source": [
    "# Feel free to add additional libraries...\n",
    "\n",
    "import re\n",
    "import math\n",
    "import random\n",
    "import statistics\n",
    "import numpy as np\n",
    "import pandas as pd\n",
    "import statsmodels.api as sm\n",
    "import matplotlib.pyplot as plt"
   ]
  },
  {
   "cell_type": "code",
   "execution_count": null,
   "id": "8becd222-d4cf-4eec-8a81-405dd2bf4165",
   "metadata": {},
   "outputs": [],
   "source": [
    "# Our traditional regression function\n",
    "\n",
    "def reg_m(y,x):\n",
    "    X = sm.add_constant(x)\n",
    "    result = sm.OLS(y,X).fit()\n",
    "    return result"
   ]
  },
  {
   "cell_type": "code",
   "execution_count": null,
   "id": "7ff5bd06-88f4-457c-a965-87a0c469464d",
   "metadata": {},
   "outputs": [],
   "source": [
    "# Used in Question 1 and Questions 2a and 2b\n",
    "\n",
    "c_names = np.load('c_names.npy')\n",
    "c_rets  = np.load('c_rets.npy')\n",
    "c_dates = np.load('c_dates.npy')"
   ]
  },
  {
   "cell_type": "code",
   "execution_count": null,
   "id": "953e9af1-d189-4e9b-be83-28482df45ba1",
   "metadata": {},
   "outputs": [],
   "source": [
    "c_names  # four stocks, Bitcoin, FF3 factors, and risk-free rate"
   ]
  },
  {
   "cell_type": "code",
   "execution_count": null,
   "id": "0c36cf1c-5eaf-46e8-9165-ab80636f2ef3",
   "metadata": {},
   "outputs": [],
   "source": [
    "# Note: Bitcoin (BTC-USD) returns are NaN at beginning of the sample\n",
    "\n",
    "c_rets.shape   # daily return data stored as columns"
   ]
  },
  {
   "cell_type": "code",
   "execution_count": null,
   "id": "37fffed3-e445-4682-b352-f5690a9b03bf",
   "metadata": {},
   "outputs": [],
   "source": [
    "c_dates[0], c_dates[-1]  # January 2, 2014 through December 30, 2020"
   ]
  },
  {
   "cell_type": "code",
   "execution_count": null,
   "id": "c7e08f7d-95c5-483a-b09f-bb72b79613b6",
   "metadata": {},
   "outputs": [],
   "source": [
    "# Data that you'll need for Question 2c\n",
    "\n",
    "q2c_names = np.array(['MSFT','SPY'])\n",
    "q2c_rets  = np.load('c_msft_rets.npy')\n",
    "q2c_dates = np.load('c_msft_dates.npy')"
   ]
  },
  {
   "cell_type": "code",
   "execution_count": null,
   "id": "74331ea4-3c11-4c32-8aa6-8c5f0890c2d0",
   "metadata": {},
   "outputs": [],
   "source": [
    "q2c_dates[0], q2c_dates[-1]"
   ]
  },
  {
   "cell_type": "markdown",
   "id": "5d937302-a2f9-4a13-bff4-f4b438046eac",
   "metadata": {
    "tags": []
   },
   "source": [
    "## Who are You and Which Questions Should I Grade (2 points)?"
   ]
  },
  {
   "cell_type": "code",
   "execution_count": null,
   "id": "b1cb8008-7cf7-47e4-b301-d3978fd69435",
   "metadata": {},
   "outputs": [],
   "source": [
    "# Please enter your name in this cell\n",
    "\n",
    "yourname = ''\n",
    "\n",
    "if yourname != '':\n",
    "    print(f'Thank you, {yourname}. You earned 1 point!')\n",
    "else:\n",
    "    print('PLEASE EDIT `yourname` TO RECEIVE YOUR 1 POINT')"
   ]
  },
  {
   "cell_type": "code",
   "execution_count": null,
   "id": "c09693f6-2bf4-4dd0-8321-ad39f068b714",
   "metadata": {
    "tags": []
   },
   "outputs": [],
   "source": [
    "# Everyone needs to answer questions 1 and 2.\n",
    "# Everyone needs to answer question 3 OR question 4\n",
    "# Everyone needs to answer question 5 OR question 6\n",
    "\n",
    "# Please replace [0,0] with the numbers of the questions to be graded\n",
    "# For example, grade = [3,5] implies I should grade questions 3 and 5\n",
    "\n",
    "grade = [0,0]   \n",
    "\n",
    "if sorted(grade) in [[3,5],[3,6],[4,5],[4,6]]:\n",
    "    print(f'I will grade questions 1, 2, {min(grade)}, and {max(grade)}. You just earned one point!')\n",
    "else:\n",
    "    print('PLEASE EDIT `grade` TO RECEIVE YOUR 1 POINT')"
   ]
  },
  {
   "cell_type": "markdown",
   "id": "1b67e20f-446a-4b7f-82ce-1c025132e20b",
   "metadata": {},
   "source": [
    "# Please complete Question 1 <span style=\"color: red;\">and</span> Question 2"
   ]
  },
  {
   "cell_type": "markdown",
   "id": "829ee7f5-1e8a-4d85-aced-27b8b2a572c1",
   "metadata": {
    "tags": []
   },
   "source": [
    "## Question 1. Working with arrays of financial data (12 points)\n",
    "\n",
    "Please use `c_names`, `c_dates`, and `c_rets` to answer each of the questions below. <b>When printed, all numbers should be formatted such that 1 percent appears as 1.000%, and a correlation of 0.5 is formatted as 0.500.</b>"
   ]
  },
  {
   "cell_type": "markdown",
   "id": "fa12ab27-0fee-4c48-9c84-d29b8c0cf777",
   "metadata": {},
   "source": [
    "<b>Question 1a (4 points)</b>. Calculate the cumulative net return of each stock plus Bitcoin between '20180101' and '20211231'. Store these five estimates as `q1a_rets`. Print each ticker followed by its cumulative net return over this 4-year period."
   ]
  },
  {
   "cell_type": "code",
   "execution_count": null,
   "id": "825a490a-e35e-4f42-b261-947a17560322",
   "metadata": {},
   "outputs": [],
   "source": [
    "# your code goes here"
   ]
  },
  {
   "cell_type": "markdown",
   "id": "add9def1-fbee-44b4-8f11-bf1ffcf8c178",
   "metadata": {},
   "source": [
    "<b>Question 1b (4 points).</b> Calculate and print the correlation coefficient between the daily returns of 'INTC' and the daily returns of 'BTC-USD' for each calendar <b>year</b> in which you observe all of the daily returns for Bitcoin."
   ]
  },
  {
   "cell_type": "code",
   "execution_count": null,
   "id": "070ff158-6c6d-4023-9363-deb53b168400",
   "metadata": {},
   "outputs": [],
   "source": [
    "# your code goes here"
   ]
  },
  {
   "cell_type": "markdown",
   "id": "3e392700-51f5-4013-936b-9197801b30d4",
   "metadata": {},
   "source": [
    "<b>Question 1c (4 points)</b>. Create an array `q1c_std` that contains the standard deviation of daily returns for GOLD during each half year of data (2014H1, 2014H2, ..., 2022H1, 2022H2). (Please define H1 as January through June and H2 as July through December.) Print each time period followed by the corresponding standard deviation."
   ]
  },
  {
   "cell_type": "code",
   "execution_count": null,
   "id": "6829af3b-1897-4802-8a00-6998dcfec0c3",
   "metadata": {},
   "outputs": [],
   "source": [
    "# your code goes here"
   ]
  },
  {
   "cell_type": "markdown",
   "id": "77d5e107-bc94-4478-ab3f-854f6224bde7",
   "metadata": {
    "tags": []
   },
   "source": [
    "## Question 2. Regressions (12 points)\n",
    "\n",
    "Please use `c_names`, `c_dates`, and `c_rets` to estimate the regressions in Question 2a and Question 2b."
   ]
  },
  {
   "cell_type": "markdown",
   "id": "09e00282-40ce-404a-8179-b4ef49d2e362",
   "metadata": {},
   "source": [
    "<b>Question 2a (4 points).</b> Estimate and print the CAPM alpha and FF3 alpha for each stock ('F', 'INTC', 'BUD', and 'GOLD') using all available daily returns for each stock, along with the stock's ticker. For each alpha, please print 5 decimal places."
   ]
  },
  {
   "cell_type": "code",
   "execution_count": null,
   "id": "acda3342-05cc-4ce0-a3bb-82778b2e2d62",
   "metadata": {},
   "outputs": [],
   "source": [
    "# your code goes here"
   ]
  },
  {
   "cell_type": "markdown",
   "id": "b13b54f8-f9c2-415e-917b-a83569452486",
   "metadata": {},
   "source": [
    "<b>Question 2b (4 points).</b> Estimate the 3-factor Fama-French model for Bitcoin using all available non-missing daily returns. \n",
    "- Print .summary() with variable names. <b>How do you intepret the regressions output?</b>\n",
    "- Plot Bitcoin's daily returns (y-axis) against MKTRF (x-axis) and plot the predicted values from the Fama-French model (y-axis) against MKTRF (x-axis). (The predicted values will not appear as a straight line.)"
   ]
  },
  {
   "cell_type": "code",
   "execution_count": null,
   "id": "dcc2b97b-1a72-4582-888e-da890bcfb5d3",
   "metadata": {},
   "outputs": [],
   "source": [
    "# your code goes here"
   ]
  },
  {
   "cell_type": "markdown",
   "id": "b5bf951d-9247-4f2d-811a-697abffd1321",
   "metadata": {},
   "source": [
    "<b>Question 2c (4 points).</b> On Friday, November 17, Sam Altman was out as CEO of OpenAI. Microsoft is the single largest investor in OpenAI and was temporarily the new employer of Sam Altman.\n",
    "\n",
    "Estimate a linear regression specification that allows you to test whether Microsoft's daily return was abnormally low on November 17. Include the daily returns on 'SPY' as a control for the market in your regression. (Please do not worry about the fact that neither stock's return is measured in excess of the risk-free rate.)\n",
    "\n",
    "<b>Print .summary() and interpret your regression coefficients. In particular, was MSFT's daily return negative and statistically significant on November 17?</b>"
   ]
  },
  {
   "cell_type": "code",
   "execution_count": null,
   "id": "33324640-4349-41af-b37e-582b3f97cbc5",
   "metadata": {},
   "outputs": [],
   "source": [
    "# Repeating code from above in case you missed it\n",
    "\n",
    "# q2c_names = np.array(['MSFT','SPY'])\n",
    "# q2c_rets  = np.load('c_msft_rets.npy')\n",
    "# q2c_dates = np.load('c_msft_dates.npy')"
   ]
  },
  {
   "cell_type": "code",
   "execution_count": null,
   "id": "6b8edbe2-d7ec-45ab-a855-830267fc5f7e",
   "metadata": {},
   "outputs": [],
   "source": [
    "# your code goes here"
   ]
  },
  {
   "cell_type": "markdown",
   "id": "6833c770-c5e8-4bd8-bb53-348e689db957",
   "metadata": {
    "tags": []
   },
   "source": [
    "# Please complete Question 3 <span style=\"color: red;\">or</span> Question 4"
   ]
  },
  {
   "cell_type": "markdown",
   "id": "32948db9-841a-4688-94ba-4f0b090b0981",
   "metadata": {
    "tags": []
   },
   "source": [
    "## Question 3. Simulation of Portfolio Returns (6 points)"
   ]
  },
  {
   "cell_type": "markdown",
   "id": "0733eb53-e01d-4869-8473-5a123d355298",
   "metadata": {},
   "source": [
    "<b>Question 3. (6 points).</b> According to the December 18 issue of the <i>Morning Brew</i> newsletter: \"These seven tech megacaps—Microsoft, Apple, Alphabet, Nvidia, Tesla, Meta, and Amazon—have surged 75% this year, while the other 493 companies in the S&P 500 have gained 12%.\"\n",
    "\n",
    "- (1 point) Calculate the annual net return of an equal-weighted portfolio that holds 500 stocks, where 7 stocks each earn annual net returns of 75% and the other 493 stocks each earn annual net returns of 12%. Assume that the portfolio is equal-weighted across the 500 stocks at the beginning of the year and not ever rebalanced. Store this benchmark return as a floating point variable named `benchmark`. (This is not the actual annual net return on the S&P 500 index through December 17, because the S&P 500 index is not an equal-weighted portfolio.)\n",
    "\n",
    "- (5 points) You decide to invest in an equal-weighted portfolio that holds 25 of the 500 stocks for one year, where those 25 stocks are to be chosen at random, and where the portfolio is not rebalanced during the year. <b>Use a simulation with 10,000 iterations to estimate the probability that a randomly-chosen portfolio at the beginning of the year has a higher net return at the end of the year than the benchmark portfolio holding all 500 stocks.</b>\n",
    "\n",
    "To repeat myself: Please assume that there are 500 stocks from which to pick, that 7 of the 500 stocks each earn 75% during the year, that the other 493 stocks each earn 12% during the year, that all portfolios are equal-weighted at the beginning of the year, and that portfolios are not rebalanced at any point during the year."
   ]
  },
  {
   "cell_type": "code",
   "execution_count": null,
   "id": "7589bf8f-b607-4d1b-bb1a-118ef8678b88",
   "metadata": {},
   "outputs": [],
   "source": [
    "# your code goes here"
   ]
  },
  {
   "cell_type": "markdown",
   "id": "dbaf5a6e-19dc-4ba9-87fc-86751db561bb",
   "metadata": {
    "tags": []
   },
   "source": [
    "## Question 4. Friendly Financial Function (6 points)"
   ]
  },
  {
   "cell_type": "markdown",
   "id": "a319f0ae-73d0-4ea2-9191-828d0a56f97c",
   "metadata": {},
   "source": [
    "<b>Question 4 (6 points).</b> Create a function named <b>geo()</b> that takes an array of shape (N,12) named `arr` as its only input, where `arr` contains the non-missing monthly net returns for $N$ calendar years for a single asset. Row 0 corresponds to the first year and Row $N-1$ corresponds to the last year. The new function should calculate four statistics and return them as a tuple with the following structure: (the average annual rate of return over the full $N$ years, the cumulative net rate of return over the full $N$ years, the geometric average annual net rate of return over the full $N$ years, and $N$).\n",
    "\n",
    "<i>Reminder: The geometric average annual rate of return over an N-year period is the constant annual rate of return that compounds to generates the same cumulative net rate of return as the actual rate of return data over the same N-year period.</i>"
   ]
  },
  {
   "cell_type": "code",
   "execution_count": null,
   "id": "a819576b-9720-49c1-be7d-ed18fedbf4a6",
   "metadata": {},
   "outputs": [],
   "source": [
    "np.random.seed(42)\n",
    "test1 = np.random.normal(0.01,0.00,(3,12))\n",
    "test2 = np.random.normal(0.02,0.02,(10,12))\n",
    "test3 = np.random.normal(0.00,0.00,(2,12))"
   ]
  },
  {
   "cell_type": "code",
   "execution_count": null,
   "id": "6c799b46-cc44-42f7-be54-3c806962043d",
   "metadata": {},
   "outputs": [],
   "source": [
    "# your code goes here"
   ]
  },
  {
   "cell_type": "code",
   "execution_count": null,
   "id": "b04975f4-294f-4a57-a63a-640a233b706d",
   "metadata": {},
   "outputs": [],
   "source": [
    "geo(test1), geo(test2), geo(test3)"
   ]
  },
  {
   "cell_type": "markdown",
   "id": "85af8c49-ecc5-4e6d-877f-e837b22875f1",
   "metadata": {
    "tags": []
   },
   "source": [
    "# Please complete Question 5 <span style=\"color: red;\">or</span> Question 6"
   ]
  },
  {
   "cell_type": "markdown",
   "id": "21fcbfb8-2af1-4804-b146-b8382ce63c8a",
   "metadata": {
    "tags": []
   },
   "source": [
    "## Question 5. Measuring Sentiment in Songs (8 points)"
   ]
  },
  {
   "cell_type": "markdown",
   "id": "7af3b168-cb7a-4583-adf8-dff74a9ceb2f",
   "metadata": {},
   "source": [
    "You've just been hired as a data scientist at a popular online music site. Your first task is to measure the sentiment of five popular songs. Unfortunately, all you have to work with are word lists from finance.\n",
    "\n",
    "The object `list_of_lyrics` is a list of list containing information on five songs. For each song, the interior list contains the title of the song, the artist who performed the song, and a string containing the lyrics.\n",
    "\n",
    "Please use `list_of_lyrics` and the lists `pos`, `neg`, and `unc` (which are lists of uppercase words associated with positivity, negativity, and uncertainty in the context of finance and accounting) to measure the sentiment of each song. <b>Specifically, for each song, please print the song title, the total number of words in the song, the fraction of words that are classified as positive, the fraction that are classified as negative, and the fraction that are classified as uncertain.</b> Please standardize the length of the song names so that the output resembles a table. You do not need to worry about how repetitive song lyrics tend to be, but you do need to worry about punctuation!"
   ]
  },
  {
   "cell_type": "code",
   "execution_count": null,
   "id": "21ec45ca-fd02-405d-90de-9d7d080ce21a",
   "metadata": {},
   "outputs": [],
   "source": [
    "# Lists of words for your use\n",
    "\n",
    "neg = ['ABANDON', 'ABANDONED', 'ABANDONING', 'ABANDONMENT', 'ABANDONMENTS', 'ABANDONS', 'ABDICATED', 'ABDICATES', 'ABDICATING', 'ABDICATION', 'ABDICATIONS', 'ABERRANT', 'ABERRATION', 'ABERRATIONAL', 'ABERRATIONS', 'ABETTING', 'ABNORMAL', 'ABNORMALITIES', 'ABNORMALITY', 'ABNORMALLY', 'ABOLISH', 'ABOLISHED', 'ABOLISHES', 'ABOLISHING', 'ABROGATE', 'ABROGATED', 'ABROGATES', 'ABROGATING', 'ABROGATION', 'ABROGATIONS', 'ABRUPT', 'ABRUPTLY', 'ABRUPTNESS', 'ABSENCE', 'ABSENCES', 'ABSENTEEISM', 'ABUSE', 'ABUSED', 'ABUSES', 'ABUSING', 'ABUSIVE', 'ABUSIVELY', 'ABUSIVENESS', 'ACCIDENT', 'ACCIDENTAL', 'ACCIDENTALLY', 'ACCIDENTS', 'ACCUSATION', 'ACCUSATIONS', 'ACCUSE', 'ACCUSED', 'ACCUSES', 'ACCUSING', 'ACQUIESCE', 'ACQUIESCED', 'ACQUIESCES', 'ACQUIESCING', 'ACQUIT', 'ACQUITS', 'ACQUITTAL', 'ACQUITTALS', 'ACQUITTED', 'ACQUITTING', 'ADULTERATE', 'ADULTERATED', 'ADULTERATING', 'ADULTERATION', 'ADULTERATIONS', 'ADVERSARIAL', 'ADVERSARIES', 'ADVERSARY', 'ADVERSE', 'ADVERSELY', 'ADVERSITIES', 'ADVERSITY', 'AFTERMATH', 'AFTERMATHS', 'AGAINST', 'AGGRAVATE', 'AGGRAVATED', 'AGGRAVATES', 'AGGRAVATING', 'AGGRAVATION', 'AGGRAVATIONS', 'ALERTED', 'ALERTING', 'ALIENATE', 'ALIENATED', 'ALIENATES', 'ALIENATING', 'ALIENATION', 'ALIENATIONS', 'ALLEGATION', 'ALLEGATIONS', 'ALLEGE', 'ALLEGED', 'ALLEGEDLY', 'ALLEGES', 'ALLEGING', 'ANNOY', 'ANNOYANCE', 'ANNOYANCES', 'ANNOYED', 'ANNOYING', 'ANNOYS', 'ANNUL', 'ANNULLED', 'ANNULLING', 'ANNULMENT', 'ANNULMENTS', 'ANNULS', 'ANOMALIES', 'ANOMALOUS', 'ANOMALOUSLY', 'ANOMALY', 'ANTICOMPETITIVE', 'ANTITRUST', 'ARGUE', 'ARGUED', 'ARGUING', 'ARGUMENT', 'ARGUMENTATIVE', 'ARGUMENTS', 'ARREARAGE', 'ARREARAGES', 'ARREARS', 'ARREST', 'ARRESTED', 'ARRESTS', 'ARTIFICIALLY', 'ASSAULT', 'ASSAULTED', 'ASSAULTING', 'ASSAULTS', 'ASSERTIONS', 'ATTRITION', 'AVERSELY', 'BACKDATING', 'BAD', 'BAIL', 'BAILOUT', 'BALK', 'BALKED', 'BANKRUPT', 'BANKRUPTCIES', 'BANKRUPTCY', 'BANKRUPTED', 'BANKRUPTING', 'BANKRUPTS', 'BANS', 'BARRED', 'BARRIER', 'BARRIERS', 'BOTTLENECK', 'BOTTLENECKS', 'BOYCOTT', 'BOYCOTTED', 'BOYCOTTING', 'BOYCOTTS', 'BREACH', 'BREACHED', 'BREACHES', 'BREACHING', 'BREAK', 'BREAKAGE', 'BREAKAGES', 'BREAKDOWN', 'BREAKDOWNS', 'BREAKING', 'BREAKS', 'BRIBE', 'BRIBED', 'BRIBERIES', 'BRIBERY', 'BRIBES', 'BRIBING', 'BRIDGE', 'BROKEN', 'BURDEN', 'BURDENED', 'BURDENING', 'BURDENS', 'BURDENSOME', 'BURNED', 'CALAMITIES', 'CALAMITOUS', 'CALAMITY', 'CANCEL', 'CANCELED', 'CANCELING', 'CANCELLATION', 'CANCELLATIONS', 'CANCELLED', 'CANCELLING', 'CANCELS', 'CARELESS', 'CARELESSLY', 'CARELESSNESS', 'CATASTROPHE', 'CATASTROPHES', 'CATASTROPHIC', 'CATASTROPHICALLY', 'CAUTION', 'CAUTIONARY', 'CAUTIONED', 'CAUTIONING', 'CAUTIONS', 'CEASE', 'CEASED', 'CEASES', 'CEASING', 'CENSURE', 'CENSURED', 'CENSURES', 'CENSURING', 'CHALLENGE', 'CHALLENGED', 'CHALLENGES', 'CHALLENGING', 'CHARGEOFFS', 'CIRCUMVENT', 'CIRCUMVENTED', 'CIRCUMVENTING', 'CIRCUMVENTION', 'CIRCUMVENTIONS', 'CIRCUMVENTS', 'CLAIMING', 'CLAIMS', 'CLAWBACK', 'CLOSED', 'CLOSEOUT', 'CLOSEOUTS', 'CLOSING', 'CLOSINGS', 'CLOSURE', 'CLOSURES', 'COERCE', 'COERCED', 'COERCES', 'COERCING', 'COERCION', 'COERCIVE', 'COLLAPSE', 'COLLAPSED', 'COLLAPSES', 'COLLAPSING', 'COLLISION', 'COLLISIONS', 'COLLUDE', 'COLLUDED', 'COLLUDES', 'COLLUDING', 'COLLUSION', 'COLLUSIONS', 'COLLUSIVE', 'COMPLAIN', 'COMPLAINED', 'COMPLAINING', 'COMPLAINS', 'COMPLAINT', 'COMPLAINTS', 'COMPLICATE', 'COMPLICATED', 'COMPLICATES', 'COMPLICATING', 'COMPLICATION', 'COMPLICATIONS', 'COMPULSION', 'CONCEALED', 'CONCEALING', 'CONCEDE', 'CONCEDED', 'CONCEDES', 'CONCEDING', 'CONCERN', 'CONCERNED', 'CONCERNS', 'CONCILIATING', 'CONCILIATION', 'CONCILIATIONS', 'CONDEMN', 'CONDEMNATION', 'CONDEMNATIONS', 'CONDEMNED', 'CONDEMNING', 'CONDEMNS', 'CONDONE', 'CONDONED', 'CONFESS', 'CONFESSED', 'CONFESSES', 'CONFESSING', 'CONFESSION', 'CONFINE', 'CONFINED', 'CONFINEMENT', 'CONFINEMENTS', 'CONFINES', 'CONFINING', 'CONFISCATE', 'CONFISCATED', 'CONFISCATES', 'CONFISCATING', 'CONFISCATION', 'CONFISCATIONS', 'CONFLICT', 'CONFLICTED', 'CONFLICTING', 'CONFLICTS', 'CONFRONT', 'CONFRONTATION', 'CONFRONTATIONAL', 'CONFRONTATIONS', 'CONFRONTED', 'CONFRONTING', 'CONFRONTS', 'CONFUSE', 'CONFUSED', 'CONFUSES', 'CONFUSING', 'CONFUSINGLY', 'CONFUSION', 'CONSPIRACIES', 'CONSPIRACY', 'CONSPIRATOR', 'CONSPIRATORIAL', 'CONSPIRATORS', 'CONSPIRE', 'CONSPIRED', 'CONSPIRES', 'CONSPIRING', 'CONTEMPT', 'CONTEND', 'CONTENDED', 'CONTENDING', 'CONTENDS', 'CONTENTION', 'CONTENTIONS', 'CONTENTIOUS', 'CONTENTIOUSLY', 'CONTESTED', 'CONTESTING', 'CONTRACTION', 'CONTRACTIONS', 'CONTRADICT', 'CONTRADICTED', 'CONTRADICTING', 'CONTRADICTION', 'CONTRADICTIONS', 'CONTRADICTORY', 'CONTRADICTS', 'CONTRARY', 'CONTROVERSIAL', 'CONTROVERSIES', 'CONTROVERSY', 'CONVICT', 'CONVICTED', 'CONVICTING', 'CONVICTION', 'CONVICTIONS', 'CORRECTED', 'CORRECTING', 'CORRECTION', 'CORRECTIONS', 'CORRECTS', 'CORRUPT', 'CORRUPTED', 'CORRUPTING', 'CORRUPTION', 'CORRUPTIONS', 'CORRUPTLY', 'CORRUPTNESS', 'COSTLY', 'COUNTERCLAIM', 'COUNTERCLAIMED', 'COUNTERCLAIMING', 'COUNTERCLAIMS', 'COUNTERFEIT', 'COUNTERFEITED', 'COUNTERFEITER', 'COUNTERFEITERS', 'COUNTERFEITING', 'COUNTERFEITS', 'COUNTERMEASURE', 'COUNTERMEASURES', 'CRIME', 'CRIMES', 'CRIMINAL', 'CRIMINALLY', 'CRIMINALS', 'CRISES', 'CRISIS', 'CRITICAL', 'CRITICALLY', 'CRITICISM', 'CRITICISMS', 'CRITICIZE', 'CRITICIZED', 'CRITICIZES', 'CRITICIZING', 'CRUCIAL', 'CRUCIALLY', 'CULPABILITY', 'CULPABLE', 'CULPABLY', 'CUMBERSOME', 'CURTAIL', 'CURTAILED', 'CURTAILING', 'CURTAILMENT', 'CURTAILMENTS', 'CURTAILS', 'CUT', 'CUTBACK', 'CUTBACKS', 'CYBERATTACK', 'CYBERATTACKS', 'CYBERBULLYING', 'CYBERCRIME', 'CYBERCRIMES', 'CYBERCRIMINAL', 'CYBERCRIMINALS', 'DAMAGE', 'DAMAGED', 'DAMAGES', 'DAMAGING', 'DAMPEN', 'DAMPENED', 'DANGER', 'DANGEROUS', 'DANGEROUSLY', 'DANGERS', 'DEADLOCK', 'DEADLOCKED', 'DEADLOCKING', 'DEADLOCKS', 'DEADWEIGHT', 'DEADWEIGHTS', 'DEBARMENT', 'DEBARMENTS', 'DEBARRED', 'DECEASED', 'DECEIT', 'DECEITFUL', 'DECEITFULNESS', 'DECEIVE', 'DECEIVED', 'DECEIVES', 'DECEIVING', 'DECEPTION', 'DECEPTIONS', 'DECEPTIVE', 'DECEPTIVELY', 'DECLINE', 'DECLINED', 'DECLINES', 'DECLINING', 'DEFACE', 'DEFACED', 'DEFACEMENT', 'DEFAMATION', 'DEFAMATIONS', 'DEFAMATORY', 'DEFAME', 'DEFAMED', 'DEFAMES', 'DEFAMING', 'DEFAULT', 'DEFAULTED', 'DEFAULTING', 'DEFAULTS', 'DEFEAT', 'DEFEATED', 'DEFEATING', 'DEFEATS', 'DEFECT', 'DEFECTIVE', 'DEFECTS', 'DEFEND', 'DEFENDANT', 'DEFENDANTS', 'DEFENDED', 'DEFENDING', 'DEFENDS', 'DEFENSIVE', 'DEFER', 'DEFICIENCIES', 'DEFICIENCY', 'DEFICIENT', 'DEFICIT', 'DEFICITS', 'DEFRAUD', 'DEFRAUDED', 'DEFRAUDING', 'DEFRAUDS', 'DEFUNCT', 'DEGRADATION', 'DEGRADATIONS', 'DEGRADE', 'DEGRADED', 'DEGRADES', 'DEGRADING', 'DELAY', 'DELAYED', 'DELAYING', 'DELAYS', 'DELETERIOUS', 'DELIBERATE', 'DELIBERATED', 'DELIBERATELY', 'DELINQUENCIES', 'DELINQUENCY', 'DELINQUENT', 'DELINQUENTLY', 'DELINQUENTS', 'DELIST', 'DELISTED', 'DELISTING', 'DELISTS', 'DEMISE', 'DEMISED', 'DEMISES', 'DEMISING', 'DEMOLISH', 'DEMOLISHED', 'DEMOLISHES', 'DEMOLISHING', 'DEMOLITION', 'DEMOLITIONS', 'DEMOTE', 'DEMOTED', 'DEMOTES', 'DEMOTING', 'DEMOTION', 'DEMOTIONS', 'DENIAL', 'DENIALS', 'DENIED', 'DENIES', 'DENIGRATE', 'DENIGRATED', 'DENIGRATES', 'DENIGRATING', 'DENIGRATION', 'DENY', 'DENYING', 'DEPLETE', 'DEPLETED', 'DEPLETES', 'DEPLETING', 'DEPLETION', 'DEPLETIONS', 'DEPRECATION', 'DEPRESS', 'DEPRESSED', 'DEPRESSES', 'DEPRESSING', 'DEPRIVATION', 'DEPRIVE', 'DEPRIVED', 'DEPRIVES', 'DEPRIVING', 'DERELICT', 'DERELICTION', 'DEROGATORY', 'DESTABILIZATION', 'DESTABILIZE', 'DESTABILIZED', 'DESTABILIZING', 'DESTROY', 'DESTROYED', 'DESTROYING', 'DESTROYS', 'DESTRUCTION', 'DESTRUCTIVE', 'DETAIN', 'DETAINED', 'DETENTION', 'DETENTIONS', 'DETER', 'DETERIORATE', 'DETERIORATED', 'DETERIORATES', 'DETERIORATING', 'DETERIORATION', 'DETERIORATIONS', 'DETERRED', 'DETERRENCE', 'DETERRENCES', 'DETERRENT', 'DETERRENTS', 'DETERRING', 'DETERS', 'DETRACT', 'DETRACTED', 'DETRACTING', 'DETRIMENT', 'DETRIMENTAL', 'DETRIMENTALLY', 'DETRIMENTS', 'DEVALUE', 'DEVALUED', 'DEVALUES', 'DEVALUING', 'DEVASTATE', 'DEVASTATED', 'DEVASTATING', 'DEVASTATION', 'DEVIATE', 'DEVIATED', 'DEVIATES', 'DEVIATING', 'DEVIATION', 'DEVIATIONS', 'DEVOLVE', 'DEVOLVED', 'DEVOLVES', 'DEVOLVING', 'DIFFICULT', 'DIFFICULTIES', 'DIFFICULTLY', 'DIFFICULTY', 'DIMINISH', 'DIMINISHED', 'DIMINISHES', 'DIMINISHING', 'DIMINUTION', 'DISADVANTAGE', 'DISADVANTAGED', 'DISADVANTAGEOUS', 'DISADVANTAGES', 'DISAFFILIATION', 'DISAGREE', 'DISAGREEABLE', 'DISAGREED', 'DISAGREEING', 'DISAGREEMENT', 'DISAGREEMENTS', 'DISAGREES', 'DISALLOW', 'DISALLOWANCE', 'DISALLOWANCES', 'DISALLOWED', 'DISALLOWING', 'DISALLOWS', 'DISAPPEAR', 'DISAPPEARANCE', 'DISAPPEARANCES', 'DISAPPEARED', 'DISAPPEARING', 'DISAPPEARS', 'DISAPPOINT', 'DISAPPOINTED', 'DISAPPOINTING', 'DISAPPOINTINGLY', 'DISAPPOINTMENT', 'DISAPPOINTMENTS', 'DISAPPOINTS', 'DISAPPROVAL', 'DISAPPROVALS', 'DISAPPROVE', 'DISAPPROVED', 'DISAPPROVES', 'DISAPPROVING', 'DISASSOCIATES', 'DISASSOCIATING', 'DISASSOCIATION', 'DISASSOCIATIONS', 'DISASTER', 'DISASTERS', 'DISASTROUS', 'DISASTROUSLY', 'DISAVOW', 'DISAVOWAL', 'DISAVOWED', 'DISAVOWING', 'DISAVOWS', 'DISCIPLINARY', 'DISCLAIM', 'DISCLAIMED', 'DISCLAIMER', 'DISCLAIMERS', 'DISCLAIMING', 'DISCLAIMS', 'DISCLOSE', 'DISCLOSED', 'DISCLOSES', 'DISCLOSING', 'DISCONTINUANCE', 'DISCONTINUANCES', 'DISCONTINUATION', 'DISCONTINUATIONS', 'DISCONTINUE', 'DISCONTINUED', 'DISCONTINUES', 'DISCONTINUING', 'DISCOURAGE', 'DISCOURAGED', 'DISCOURAGES', 'DISCOURAGING', 'DISCREDIT', 'DISCREDITED', 'DISCREDITING', 'DISCREDITS', 'DISCREPANCIES', 'DISCREPANCY', 'DISFAVOR', 'DISFAVORED', 'DISFAVORING', 'DISFAVORS', 'DISGORGE', 'DISGORGED', 'DISGORGEMENT', 'DISGORGEMENTS', 'DISGORGES', 'DISGORGING', 'DISGRACE', 'DISGRACEFUL', 'DISGRACEFULLY', 'DISHONEST', 'DISHONESTLY', 'DISHONESTY', 'DISHONOR', 'DISHONORABLE', 'DISHONORABLY', 'DISHONORED', 'DISHONORING', 'DISHONORS', 'DISINCENTIVES', 'DISINTERESTED', 'DISINTERESTEDLY', 'DISINTERESTEDNESS', 'DISLOYAL', 'DISLOYALLY', 'DISLOYALTY', 'DISMAL', 'DISMALLY', 'DISMISS', 'DISMISSAL', 'DISMISSALS', 'DISMISSED', 'DISMISSES', 'DISMISSING', 'DISORDERLY', 'DISPARAGE', 'DISPARAGED', 'DISPARAGEMENT', 'DISPARAGEMENTS', 'DISPARAGES', 'DISPARAGING', 'DISPARAGINGLY', 'DISPARITIES', 'DISPARITY', 'DISPLACE', 'DISPLACED', 'DISPLACEMENT', 'DISPLACEMENTS', 'DISPLACES', 'DISPLACING', 'DISPOSE', 'DISPOSSESS', 'DISPOSSESSED', 'DISPOSSESSES', 'DISPOSSESSING', 'DISPROPORTION', 'DISPROPORTIONAL', 'DISPROPORTIONATE', 'DISPROPORTIONATELY', 'DISPUTE', 'DISPUTED', 'DISPUTES', 'DISPUTING', 'DISQUALIFICATION', 'DISQUALIFICATIONS', 'DISQUALIFIED', 'DISQUALIFIES', 'DISQUALIFY', 'DISQUALIFYING', 'DISREGARD', 'DISREGARDED', 'DISREGARDING', 'DISREGARDS', 'DISREPUTABLE', 'DISREPUTE', 'DISRUPT', 'DISRUPTED', 'DISRUPTING', 'DISRUPTION', 'DISRUPTIONS', 'DISRUPTIVE', 'DISRUPTS', 'DISSATISFACTION', 'DISSATISFIED', 'DISSENT', 'DISSENTED', 'DISSENTER', 'DISSENTERS', 'DISSENTING', 'DISSENTS', 'DISSIDENT', 'DISSIDENTS', 'DISSOLUTION', 'DISSOLUTIONS', 'DISTORT', 'DISTORTED', 'DISTORTING', 'DISTORTION', 'DISTORTIONS', 'DISTORTS', 'DISTRACT', 'DISTRACTED', 'DISTRACTING', 'DISTRACTION', 'DISTRACTIONS', 'DISTRACTS', 'DISTRESS', 'DISTRESSED', 'DISTURB', 'DISTURBANCE', 'DISTURBANCES', 'DISTURBED', 'DISTURBING', 'DISTURBS', 'DIVERSION', 'DIVERT', 'DIVERTED', 'DIVERTING', 'DIVERTS', 'DIVEST', 'DIVESTED', 'DIVESTING', 'DIVESTITURE', 'DIVESTITURES', 'DIVESTMENT', 'DIVESTMENTS', 'DIVESTS', 'DIVORCE', 'DIVORCED', 'DIVULGE', 'DIVULGED', 'DIVULGES', 'DIVULGING', 'DOUBT', 'DOUBTED', 'DOUBTFUL', 'DOUBTS', 'DOWNGRADE', 'DOWNGRADED', 'DOWNGRADES', 'DOWNGRADING', 'DOWNSIZE', 'DOWNSIZED', 'DOWNSIZES', 'DOWNSIZING', 'DOWNSIZINGS', 'DOWNTIME', 'DOWNTIMES', 'DOWNTURN', 'DOWNTURNS', 'DOWNWARD', 'DOWNWARDS', 'DRAG', 'DRASTIC', 'DRASTICALLY', 'DRAWBACK', 'DRAWBACKS', 'DROPPED', 'DROUGHT', 'DROUGHTS', 'DURESS', 'DYSFUNCTION', 'DYSFUNCTIONAL', 'DYSFUNCTIONS', 'EASING', 'EGREGIOUS', 'EGREGIOUSLY', 'EMBARGO', 'EMBARGOED', 'EMBARGOES', 'EMBARGOING', 'EMBARRASS', 'EMBARRASSED', 'EMBARRASSES', 'EMBARRASSING', 'EMBARRASSMENT', 'EMBARRASSMENTS', 'EMBEZZLE', 'EMBEZZLED', 'EMBEZZLEMENT', 'EMBEZZLEMENTS', 'EMBEZZLER', 'EMBEZZLES', 'EMBEZZLING', 'ENCROACH', 'ENCROACHED', 'ENCROACHES', 'ENCROACHING', 'ENCROACHMENT', 'ENCROACHMENTS', 'ENCUMBER', 'ENCUMBERED', 'ENCUMBERING', 'ENCUMBERS', 'ENCUMBRANCE', 'ENCUMBRANCES', 'ENDANGER', 'ENDANGERED', 'ENDANGERING', 'ENDANGERMENT', 'ENDANGERS', 'ENJOIN', 'ENJOINED', 'ENJOINING', 'ENJOINS', 'ERODE', 'ERODED', 'ERODES', 'ERODING', 'EROSION', 'ERRATIC', 'ERRATICALLY', 'ERRED', 'ERRING', 'ERRONEOUS', 'ERRONEOUSLY', 'ERROR', 'ERRORS', 'ERRS', 'ESCALATE', 'ESCALATED', 'ESCALATES', 'ESCALATING', 'EVADE', 'EVADED', 'EVADES', 'EVADING', 'EVASION', 'EVASIONS', 'EVASIVE', 'EVICT', 'EVICTED', 'EVICTING', 'EVICTION', 'EVICTIONS', 'EVICTS', 'EXACERBATE', 'EXACERBATED', 'EXACERBATES', 'EXACERBATING', 'EXACERBATION', 'EXACERBATIONS', 'EXAGGERATE', 'EXAGGERATED', 'EXAGGERATES', 'EXAGGERATING', 'EXAGGERATION', 'EXCESSIVE', 'EXCESSIVELY', 'EXCULPATE', 'EXCULPATED', 'EXCULPATES', 'EXCULPATING', 'EXCULPATION', 'EXCULPATIONS', 'EXCULPATORY', 'EXONERATE', 'EXONERATED', 'EXONERATES', 'EXONERATING', 'EXONERATION', 'EXONERATIONS', 'EXPLOIT', 'EXPLOITATION', 'EXPLOITATIONS', 'EXPLOITATIVE', 'EXPLOITED', 'EXPLOITING', 'EXPLOITS', 'EXPOSE', 'EXPOSED', 'EXPOSES', 'EXPOSING', 'EXPROPRIATE', 'EXPROPRIATED', 'EXPROPRIATES', 'EXPROPRIATING', 'EXPROPRIATION', 'EXPROPRIATIONS', 'EXPULSION', 'EXPULSIONS', 'EXTENUATING', 'FAIL', 'FAILED', 'FAILING', 'FAILINGS', 'FAILS', 'FAILURE', 'FAILURES', 'FALLOUT', 'FALSE', 'FALSELY', 'FALSIFICATION', 'FALSIFICATIONS', 'FALSIFIED', 'FALSIFIES', 'FALSIFY', 'FALSIFYING', 'FALSITY', 'FATALITIES', 'FATALITY', 'FATALLY', 'FAULT', 'FAULTED', 'FAULTS', 'FAULTY', 'FEAR', 'FEARS', 'FELONIES', 'FELONIOUS', 'FELONY', 'FICTITIOUS', 'FINED', 'FINES', 'FIRED', 'FIRING', 'FLAW', 'FLAWED', 'FLAWS', 'FORBID', 'FORBIDDEN', 'FORBIDDING', 'FORBIDS', 'FORCE', 'FORCED', 'FORCING', 'FORECLOSE', 'FORECLOSED', 'FORECLOSES', 'FORECLOSING', 'FORECLOSURE', 'FORECLOSURES', 'FOREGO', 'FOREGOES', 'FOREGONE', 'FORESTALL', 'FORESTALLED', 'FORESTALLING', 'FORESTALLS', 'FORFEIT', 'FORFEITED', 'FORFEITING', 'FORFEITS', 'FORFEITURE', 'FORFEITURES', 'FORGERS', 'FORGERY', 'FRAUD', 'FRAUDS', 'FRAUDULENCE', 'FRAUDULENT', 'FRAUDULENTLY', 'FRIVOLOUS', 'FRIVOLOUSLY', 'FRUSTRATE', 'FRUSTRATED', 'FRUSTRATES', 'FRUSTRATING', 'FRUSTRATINGLY', 'FRUSTRATION', 'FRUSTRATIONS', 'FUGITIVE', 'FUGITIVES', 'GRATUITOUS', 'GRATUITOUSLY', 'GRIEVANCE', 'GRIEVANCES', 'GROSSLY', 'GROUNDLESS', 'GUILTY', 'HALT', 'HALTED', 'HAMPER', 'HAMPERED', 'HAMPERING', 'HAMPERS', 'HARASS', 'HARASSED', 'HARASSING', 'HARASSMENT', 'HARDSHIP', 'HARDSHIPS', 'HARM', 'HARMED', 'HARMFUL', 'HARMFULLY', 'HARMING', 'HARMS', 'HARSH', 'HARSHER', 'HARSHEST', 'HARSHLY', 'HARSHNESS', 'HAZARD', 'HAZARDOUS', 'HAZARDS', 'HINDER', 'HINDERED', 'HINDERING', 'HINDERS', 'HINDRANCE', 'HINDRANCES', 'HOSTILE', 'HOSTILITY', 'HURT', 'HURTING', 'IDLE', 'IDLED', 'IDLING', 'IGNORE', 'IGNORED', 'IGNORES', 'IGNORING', 'ILL', 'ILLEGAL', 'ILLEGALITIES', 'ILLEGALITY', 'ILLEGALLY', 'ILLEGIBLE', 'ILLICIT', 'ILLICITLY', 'ILLIQUID', 'ILLIQUIDITY', 'IMBALANCE', 'IMBALANCES', 'IMMATURE', 'IMMORAL', 'IMPAIR', 'IMPAIRED', 'IMPAIRING', 'IMPAIRMENT', 'IMPAIRMENTS', 'IMPAIRS', 'IMPASSE', 'IMPASSES', 'IMPEDE', 'IMPEDED', 'IMPEDES', 'IMPEDIMENT', 'IMPEDIMENTS', 'IMPEDING', 'IMPENDING', 'IMPERATIVE', 'IMPERFECTION', 'IMPERFECTIONS', 'IMPERIL', 'IMPERMISSIBLE', 'IMPLICATE', 'IMPLICATED', 'IMPLICATES', 'IMPLICATING', 'IMPOSSIBILITY', 'IMPOSSIBLE', 'IMPOUND', 'IMPOUNDED', 'IMPOUNDING', 'IMPOUNDS', 'IMPRACTICABLE', 'IMPRACTICAL', 'IMPRACTICALITIES', 'IMPRACTICALITY', 'IMPRISONMENT', 'IMPROPER', 'IMPROPERLY', 'IMPROPRIETIES', 'IMPROPRIETY', 'IMPRUDENT', 'IMPRUDENTLY', 'INABILITY', 'INACCESSIBLE', 'INACCURACIES', 'INACCURACY', 'INACCURATE', 'INACCURATELY', 'INACTION', 'INACTIONS', 'INACTIVATE', 'INACTIVATED', 'INACTIVATES', 'INACTIVATING', 'INACTIVATION', 'INACTIVATIONS', 'INACTIVITY', 'INADEQUACIES', 'INADEQUACY', 'INADEQUATE', 'INADEQUATELY', 'INADVERTENT', 'INADVERTENTLY', 'INADVISABILITY', 'INADVISABLE', 'INAPPROPRIATE', 'INAPPROPRIATELY', 'INATTENTION', 'INCAPABLE', 'INCAPACITATED', 'INCAPACITY', 'INCARCERATE', 'INCARCERATED', 'INCARCERATES', 'INCARCERATING', 'INCARCERATION', 'INCARCERATIONS', 'INCIDENCE', 'INCIDENCES', 'INCIDENT', 'INCIDENTS', 'INCOMPATIBILITIES', 'INCOMPATIBILITY', 'INCOMPATIBLE', 'INCOMPETENCE', 'INCOMPETENCY', 'INCOMPETENT', 'INCOMPETENTLY', 'INCOMPETENTS', 'INCOMPLETE', 'INCOMPLETELY', 'INCOMPLETENESS', 'INCONCLUSIVE', 'INCONSISTENCIES', 'INCONSISTENCY', 'INCONSISTENT', 'INCONSISTENTLY', 'INCONVENIENCE', 'INCONVENIENCES', 'INCONVENIENT', 'INCORRECT', 'INCORRECTLY', 'INCORRECTNESS', 'INDECENCY', 'INDECENT', 'INDEFEASIBLE', 'INDEFEASIBLY', 'INDICT', 'INDICTABLE', 'INDICTED', 'INDICTING', 'INDICTMENT', 'INDICTMENTS', 'INEFFECTIVE', 'INEFFECTIVELY', 'INEFFECTIVENESS', 'INEFFICIENCIES', 'INEFFICIENCY', 'INEFFICIENT', 'INEFFICIENTLY', 'INELIGIBILITY', 'INELIGIBLE', 'INEQUITABLE', 'INEQUITABLY', 'INEQUITIES', 'INEQUITY', 'INEVITABLE', 'INEXPERIENCE', 'INEXPERIENCED', 'INFERIOR', 'INFLICTED', 'INFRACTION', 'INFRACTIONS', 'INFRINGE', 'INFRINGED', 'INFRINGEMENT', 'INFRINGEMENTS', 'INFRINGES', 'INFRINGING', 'INHIBITED', 'INIMICAL', 'INJUNCTION', 'INJUNCTIONS', 'INJURE', 'INJURED', 'INJURES', 'INJURIES', 'INJURING', 'INJURIOUS', 'INJURY', 'INORDINATE', 'INORDINATELY', 'INQUIRY', 'INSECURE', 'INSENSITIVE', 'INSOLVENCIES', 'INSOLVENCY', 'INSOLVENT', 'INSTABILITY', 'INSUBORDINATION', 'INSUFFICIENCY', 'INSUFFICIENT', 'INSUFFICIENTLY', 'INSURRECTION', 'INSURRECTIONS', 'INTENTIONAL', 'INTERFERE', 'INTERFERED', 'INTERFERENCE', 'INTERFERENCES', 'INTERFERES', 'INTERFERING', 'INTERMITTENT', 'INTERMITTENTLY', 'INTERRUPT', 'INTERRUPTED', 'INTERRUPTING', 'INTERRUPTION', 'INTERRUPTIONS', 'INTERRUPTS', 'INTIMIDATION', 'INTRUSION', 'INVALID', 'INVALIDATE', 'INVALIDATED', 'INVALIDATES', 'INVALIDATING', 'INVALIDATION', 'INVALIDITY', 'INVESTIGATE', 'INVESTIGATED', 'INVESTIGATES', 'INVESTIGATING', 'INVESTIGATION', 'INVESTIGATIONS', 'INVOLUNTARILY', 'INVOLUNTARY', 'IRRECONCILABLE', 'IRRECONCILABLY', 'IRRECOVERABLE', 'IRRECOVERABLY', 'IRREGULAR', 'IRREGULARITIES', 'IRREGULARITY', 'IRREGULARLY', 'IRREPARABLE', 'IRREPARABLY', 'IRREVERSIBLE', 'JEOPARDIZE', 'JEOPARDIZED', 'JUSTIFIABLE', 'KICKBACK', 'KICKBACKS', 'KNOWINGLY', 'LACK', 'LACKED', 'LACKING', 'LACKLUSTER', 'LACKS', 'LAG', 'LAGGED', 'LAGGING', 'LAGS', 'LAPSE', 'LAPSED', 'LAPSES', 'LAPSING', 'LATE', 'LAUNDERING', 'LAYOFF', 'LAYOFFS', 'LIE', 'LIMITATION', 'LIMITATIONS', 'LINGERING', 'LIQUIDATE', 'LIQUIDATED', 'LIQUIDATES', 'LIQUIDATING', 'LIQUIDATION', 'LIQUIDATIONS', 'LIQUIDATOR', 'LIQUIDATORS', 'LITIGANT', 'LITIGANTS', 'LITIGATE', 'LITIGATED', 'LITIGATES', 'LITIGATING', 'LITIGATION', 'LITIGATIONS', 'LOCKOUT', 'LOCKOUTS', 'LOSE', 'LOSES', 'LOSING', 'LOSS', 'LOSSES', 'LOST', 'LYING', 'MALFEASANCE', 'MALFUNCTION', 'MALFUNCTIONED', 'MALFUNCTIONING', 'MALFUNCTIONS', 'MALICE', 'MALICIOUS', 'MALICIOUSLY', 'MALPRACTICE', 'MANIPULATE', 'MANIPULATED', 'MANIPULATES', 'MANIPULATING', 'MANIPULATION', 'MANIPULATIONS', 'MANIPULATIVE', 'MARKDOWN', 'MARKDOWNS', 'MISAPPLICATION', 'MISAPPLICATIONS', 'MISAPPLIED', 'MISAPPLIES', 'MISAPPLY', 'MISAPPLYING', 'MISAPPROPRIATE', 'MISAPPROPRIATED', 'MISAPPROPRIATES', 'MISAPPROPRIATING', 'MISAPPROPRIATION', 'MISAPPROPRIATIONS', 'MISBRANDED', 'MISCALCULATE', 'MISCALCULATED', 'MISCALCULATES', 'MISCALCULATING', 'MISCALCULATION', 'MISCALCULATIONS', 'MISCHARACTERIZATION', 'MISCHIEF', 'MISCLASSIFICATION', 'MISCLASSIFICATIONS', 'MISCLASSIFIED', 'MISCLASSIFY', 'MISCOMMUNICATION', 'MISCONDUCT', 'MISDATED', 'MISDEMEANOR', 'MISDEMEANORS', 'MISDIRECTED', 'MISHANDLE', 'MISHANDLED', 'MISHANDLES', 'MISHANDLING', 'MISINFORM', 'MISINFORMATION', 'MISINFORMED', 'MISINFORMING', 'MISINFORMS', 'MISINTERPRET', 'MISINTERPRETATION', 'MISINTERPRETATIONS', 'MISINTERPRETED', 'MISINTERPRETING', 'MISINTERPRETS', 'MISJUDGE', 'MISJUDGED', 'MISJUDGES', 'MISJUDGING', 'MISJUDGMENT', 'MISJUDGMENTS', 'MISLABEL', 'MISLABELED', 'MISLABELING', 'MISLABELLED', 'MISLABELS', 'MISLEAD', 'MISLEADING', 'MISLEADINGLY', 'MISLEADS', 'MISLED', 'MISMANAGE', 'MISMANAGED', 'MISMANAGEMENT', 'MISMANAGES', 'MISMANAGING', 'MISMATCH', 'MISMATCHED', 'MISMATCHES', 'MISMATCHING', 'MISPLACED', 'MISPRICE', 'MISPRICING', 'MISPRICINGS', 'MISREPRESENT', 'MISREPRESENTATION', 'MISREPRESENTATIONS', 'MISREPRESENTED', 'MISREPRESENTING', 'MISREPRESENTS', 'MISS', 'MISSED', 'MISSES', 'MISSTATE', 'MISSTATED', 'MISSTATEMENT', 'MISSTATEMENTS', 'MISSTATES', 'MISSTATING', 'MISSTEP', 'MISSTEPS', 'MISTAKE', 'MISTAKEN', 'MISTAKENLY', 'MISTAKES', 'MISTAKING', 'MISTRIAL', 'MISTRIALS', 'MISUNDERSTAND', 'MISUNDERSTANDING', 'MISUNDERSTANDINGS', 'MISUNDERSTOOD', 'MISUSE', 'MISUSED', 'MISUSES', 'MISUSING', 'MONOPOLISTIC', 'MONOPOLISTS', 'MONOPOLIZATION', 'MONOPOLIZE', 'MONOPOLIZED', 'MONOPOLIZES', 'MONOPOLIZING', 'MONOPOLY', 'MORATORIA', 'MORATORIUM', 'MORATORIUMS', 'MOTHBALLED', 'MOTHBALLING', 'NEGATIVE', 'NEGATIVELY', 'NEGATIVES', 'NEGLECT', 'NEGLECTED', 'NEGLECTFUL', 'NEGLECTING', 'NEGLECTS', 'NEGLIGENCE', 'NEGLIGENCES', 'NEGLIGENT', 'NEGLIGENTLY', 'NONATTAINMENT', 'NONCOMPETITIVE', 'NONCOMPLIANCE', 'NONCOMPLIANCES', 'NONCOMPLIANT', 'NONCOMPLYING', 'NONCONFORMING', 'NONCONFORMITIES', 'NONCONFORMITY', 'NONDISCLOSURE', 'NONFUNCTIONAL', 'NONPAYMENT', 'NONPAYMENTS', 'NONPERFORMANCE', 'NONPERFORMANCES', 'NONPERFORMING', 'NONPRODUCING', 'NONPRODUCTIVE', 'NONRECOVERABLE', 'NONRENEWAL', 'NUISANCE', 'NUISANCES', 'NULLIFICATION', 'NULLIFICATIONS', 'NULLIFIED', 'NULLIFIES', 'NULLIFY', 'NULLIFYING', 'OBJECTED', 'OBJECTING', 'OBJECTION', 'OBJECTIONABLE', 'OBJECTIONABLY', 'OBJECTIONS', 'OBSCENE', 'OBSCENITY', 'OBSOLESCENCE', 'OBSOLETE', 'OBSTACLE', 'OBSTACLES', 'OBSTRUCT', 'OBSTRUCTED', 'OBSTRUCTING', 'OBSTRUCTION', 'OBSTRUCTIONS', 'OFFENCE', 'OFFENCES', 'OFFEND', 'OFFENDED', 'OFFENDER', 'OFFENDERS', 'OFFENDING', 'OFFENDS', 'OMISSION', 'OMISSIONS', 'OMIT', 'OMITS', 'OMITTED', 'OMITTING', 'ONEROUS', 'OPPORTUNISTIC', 'OPPORTUNISTICALLY', 'OPPOSE', 'OPPOSED', 'OPPOSES', 'OPPOSING', 'OPPOSITION', 'OPPOSITIONS', 'OUTAGE', 'OUTAGES', 'OUTDATED', 'OUTMODED', 'OVERAGE', 'OVERAGES', 'OVERBUILD', 'OVERBUILDING', 'OVERBUILDS', 'OVERBUILT', 'OVERBURDEN', 'OVERBURDENED', 'OVERBURDENING', 'OVERCAPACITIES', 'OVERCAPACITY', 'OVERCHARGE', 'OVERCHARGED', 'OVERCHARGES', 'OVERCHARGING', 'OVERCOME', 'OVERCOMES', 'OVERCOMING', 'OVERDUE', 'OVERESTIMATE', 'OVERESTIMATED', 'OVERESTIMATES', 'OVERESTIMATING', 'OVERESTIMATION', 'OVERESTIMATIONS', 'OVERLOAD', 'OVERLOADED', 'OVERLOADING', 'OVERLOADS', 'OVERLOOK', 'OVERLOOKED', 'OVERLOOKING', 'OVERLOOKS', 'OVERPAID', 'OVERPAYMENT', 'OVERPAYMENTS', 'OVERPRODUCED', 'OVERPRODUCES', 'OVERPRODUCING', 'OVERPRODUCTION', 'OVERRUN', 'OVERRUNNING', 'OVERRUNS', 'OVERSHADOW', 'OVERSHADOWED', 'OVERSHADOWING', 'OVERSHADOWS', 'OVERSTATE', 'OVERSTATED', 'OVERSTATEMENT', 'OVERSTATEMENTS', 'OVERSTATES', 'OVERSTATING', 'OVERSUPPLIED', 'OVERSUPPLIES', 'OVERSUPPLY', 'OVERSUPPLYING', 'OVERTLY', 'OVERTURN', 'OVERTURNED', 'OVERTURNING', 'OVERTURNS', 'OVERVALUE', 'OVERVALUED', 'OVERVALUING', 'PANIC', 'PANICS', 'PENALIZE', 'PENALIZED', 'PENALIZES', 'PENALIZING', 'PENALTIES', 'PENALTY', 'PERIL', 'PERILS', 'PERJURY', 'PERPETRATE', 'PERPETRATED', 'PERPETRATES', 'PERPETRATING', 'PERPETRATION', 'PERSIST', 'PERSISTED', 'PERSISTENCE', 'PERSISTENT', 'PERSISTENTLY', 'PERSISTING', 'PERSISTS', 'PERVASIVE', 'PERVASIVELY', 'PERVASIVENESS', 'PETTY', 'PICKET', 'PICKETED', 'PICKETING', 'PLAINTIFF', 'PLAINTIFFS', 'PLEA', 'PLEAD', 'PLEADED', 'PLEADING', 'PLEADINGS', 'PLEADS', 'PLEAS', 'PLED', 'POOR', 'POORLY', 'POSES', 'POSING', 'POSTPONE', 'POSTPONED', 'POSTPONEMENT', 'POSTPONEMENTS', 'POSTPONES', 'POSTPONING', 'PRECIPITATED', 'PRECIPITOUS', 'PRECIPITOUSLY', 'PRECLUDE', 'PRECLUDED', 'PRECLUDES', 'PRECLUDING', 'PREDATORY', 'PREJUDICE', 'PREJUDICED', 'PREJUDICES', 'PREJUDICIAL', 'PREJUDICING', 'PREMATURE', 'PREMATURELY', 'PRESSING', 'PRETRIAL', 'PREVENTING', 'PREVENTION', 'PREVENTS', 'PROBLEM', 'PROBLEMATIC', 'PROBLEMATICAL', 'PROBLEMS', 'PROLONG', 'PROLONGATION', 'PROLONGATIONS', 'PROLONGED', 'PROLONGING', 'PROLONGS', 'PRONE', 'PROSECUTE', 'PROSECUTED', 'PROSECUTES', 'PROSECUTING', 'PROSECUTION', 'PROSECUTIONS', 'PROTEST', 'PROTESTED', 'PROTESTER', 'PROTESTERS', 'PROTESTING', 'PROTESTOR', 'PROTESTORS', 'PROTESTS', 'PROTRACTED', 'PROTRACTION', 'PROVOKE', 'PROVOKED', 'PROVOKES', 'PROVOKING', 'PUNISHED', 'PUNISHES', 'PUNISHING', 'PUNISHMENT', 'PUNISHMENTS', 'PUNITIVE', 'PURPORT', 'PURPORTED', 'PURPORTEDLY', 'PURPORTING', 'PURPORTS', 'QUESTION', 'QUESTIONABLE', 'QUESTIONABLY', 'QUESTIONED', 'QUESTIONING', 'QUESTIONS', 'QUIT', 'QUITTING', 'RACKETEER', 'RACKETEERING', 'RATIONALIZATION', 'RATIONALIZATIONS', 'RATIONALIZE', 'RATIONALIZED', 'RATIONALIZES', 'RATIONALIZING', 'REASSESSMENT', 'REASSESSMENTS', 'REASSIGN', 'REASSIGNED', 'REASSIGNING', 'REASSIGNMENT', 'REASSIGNMENTS', 'REASSIGNS', 'RECALL', 'RECALLED', 'RECALLING', 'RECALLS', 'RECESSION', 'RECESSIONARY', 'RECESSIONS', 'RECKLESS', 'RECKLESSLY', 'RECKLESSNESS', 'REDACT', 'REDACTED', 'REDACTING', 'REDACTION', 'REDACTIONS', 'REDEFAULT', 'REDEFAULTED', 'REDEFAULTS', 'REDRESS', 'REDRESSED', 'REDRESSES', 'REDRESSING', 'REFUSAL', 'REFUSALS', 'REFUSE', 'REFUSED', 'REFUSES', 'REFUSING', 'REJECT', 'REJECTED', 'REJECTING', 'REJECTION', 'REJECTIONS', 'REJECTS', 'RELINQUISH', 'RELINQUISHED', 'RELINQUISHES', 'RELINQUISHING', 'RELINQUISHMENT', 'RELINQUISHMENTS', 'RELUCTANCE', 'RELUCTANT', 'RENEGOTIATE', 'RENEGOTIATED', 'RENEGOTIATES', 'RENEGOTIATING', 'RENEGOTIATION', 'RENEGOTIATIONS', 'RENOUNCE', 'RENOUNCED', 'RENOUNCEMENT', 'RENOUNCEMENTS', 'RENOUNCES', 'RENOUNCING', 'REPARATION', 'REPARATIONS', 'REPOSSESSED', 'REPOSSESSES', 'REPOSSESSING', 'REPOSSESSION', 'REPOSSESSIONS', 'REPUDIATE', 'REPUDIATED', 'REPUDIATES', 'REPUDIATING', 'REPUDIATION', 'REPUDIATIONS', 'RESIGN', 'RESIGNATION', 'RESIGNATIONS', 'RESIGNED', 'RESIGNING', 'RESIGNS', 'RESTATE', 'RESTATED', 'RESTATEMENT', 'RESTATEMENTS', 'RESTATES', 'RESTATING', 'RESTRUCTURE', 'RESTRUCTURED', 'RESTRUCTURES', 'RESTRUCTURING', 'RESTRUCTURINGS', 'RETALIATE', 'RETALIATED', 'RETALIATES', 'RETALIATING', 'RETALIATION', 'RETALIATIONS', 'RETALIATORY', 'RETRIBUTION', 'RETRIBUTIONS', 'REVOCATION', 'REVOCATIONS', 'REVOKE', 'REVOKED', 'REVOKES', 'REVOKING', 'RIDICULE', 'RIDICULED', 'RIDICULES', 'RIDICULING', 'RISKIER', 'RISKIEST', 'RISKY', 'SABOTAGE', 'SACRIFICE', 'SACRIFICED', 'SACRIFICES', 'SACRIFICIAL', 'SACRIFICING', 'SCANDALOUS', 'SCANDALS', 'SCRUTINIZE', 'SCRUTINIZED', 'SCRUTINIZES', 'SCRUTINIZING', 'SCRUTINY', 'SECRECY', 'SEIZE', 'SEIZED', 'SEIZES', 'SEIZING', 'SENTENCED', 'SENTENCING', 'SERIOUS', 'SERIOUSLY', 'SERIOUSNESS', 'SETBACK', 'SETBACKS', 'SEVER', 'SEVERE', 'SEVERED', 'SEVERELY', 'SEVERITIES', 'SEVERITY', 'SHARPLY', 'SHOCKED', 'SHORTAGE', 'SHORTAGES', 'SHORTFALL', 'SHORTFALLS', 'SHRINKAGE', 'SHRINKAGES', 'SHUT', 'SHUTDOWN', 'SHUTDOWNS', 'SHUTS', 'SHUTTING', 'SLANDER', 'SLANDERED', 'SLANDEROUS', 'SLANDERS', 'SLIPPAGE', 'SLIPPAGES', 'SLOW', 'SLOWDOWN', 'SLOWDOWNS', 'SLOWED', 'SLOWER', 'SLOWEST', 'SLOWING', 'SLOWLY', 'SLOWNESS', 'SLUGGISH', 'SLUGGISHLY', 'SLUGGISHNESS', 'SOLVENCIES', 'SOLVENCY', 'SPAM', 'SPAMMERS', 'SPAMMING', 'STAGGERING', 'STAGNANT', 'STAGNATE', 'STAGNATED', 'STAGNATES', 'STAGNATING', 'STAGNATION', 'STANDSTILL', 'STANDSTILLS', 'STOLEN', 'STOPPAGE', 'STOPPAGES', 'STOPPED', 'STOPPING', 'STOPS', 'STRAIN', 'STRAINED', 'STRAINING', 'STRAINS', 'STRESS', 'STRESSED', 'STRESSES', 'STRESSFUL', 'STRESSING', 'STRINGENT', 'SUBJECTED', 'SUBJECTING', 'SUBJECTION', 'SUBPOENA', 'SUBPOENAED', 'SUBPOENAS', 'SUBSTANDARD', 'SUE', 'SUED', 'SUES', 'SUFFER', 'SUFFERED', 'SUFFERING', 'SUFFERS', 'SUING', 'SUMMONED', 'SUMMONING', 'SUMMONS', 'SUMMONSES', 'SUSCEPTIBILITY', 'SUSCEPTIBLE', 'SUSPECT', 'SUSPECTED', 'SUSPECTS', 'SUSPEND', 'SUSPENDED', 'SUSPENDING', 'SUSPENDS', 'SUSPENSION', 'SUSPENSIONS', 'SUSPICION', 'SUSPICIONS', 'SUSPICIOUS', 'SUSPICIOUSLY', 'TAINT', 'TAINTED', 'TAINTING', 'TAINTS', 'TAMPERED', 'TENSE', 'TERMINATE', 'TERMINATED', 'TERMINATES', 'TERMINATING', 'TERMINATION', 'TERMINATIONS', 'TESTIFY', 'TESTIFYING', 'THREAT', 'THREATEN', 'THREATENED', 'THREATENING', 'THREATENS', 'THREATS', 'TIGHTENING', 'TOLERATE', 'TOLERATED', 'TOLERATES', 'TOLERATING', 'TOLERATION', 'TORTUOUS', 'TORTUOUSLY', 'TRAGEDIES', 'TRAGEDY', 'TRAGIC', 'TRAGICALLY', 'TRAUMATIC', 'TROUBLE', 'TROUBLED', 'TROUBLES', 'TURBULENCE', 'TURMOIL', 'UNABLE', 'UNACCEPTABLE', 'UNACCEPTABLY', 'UNACCOUNTED', 'UNANNOUNCED', 'UNANTICIPATED', 'UNAPPROVED', 'UNATTRACTIVE', 'UNAUTHORIZED', 'UNAVAILABILITY', 'UNAVAILABLE', 'UNAVOIDABLE', 'UNAVOIDABLY', 'UNAWARE', 'UNCOLLECTABLE', 'UNCOLLECTED', 'UNCOLLECTIBILITY', 'UNCOLLECTIBLE', 'UNCOLLECTIBLES', 'UNCOMPETITIVE', 'UNCOMPLETED', 'UNCONSCIONABLE', 'UNCONSCIONABLY', 'UNCONTROLLABLE', 'UNCONTROLLABLY', 'UNCONTROLLED', 'UNCORRECTED', 'UNCOVER', 'UNCOVERED', 'UNCOVERING', 'UNCOVERS', 'UNDELIVERABLE', 'UNDELIVERED', 'UNDERCAPITALIZED', 'UNDERCUT', 'UNDERCUTS', 'UNDERCUTTING', 'UNDERESTIMATE', 'UNDERESTIMATED', 'UNDERESTIMATES', 'UNDERESTIMATING', 'UNDERESTIMATION', 'UNDERFUNDED', 'UNDERINSURED', 'UNDERMINE', 'UNDERMINED', 'UNDERMINES', 'UNDERMINING', 'UNDERPAID', 'UNDERPAYMENT', 'UNDERPAYMENTS', 'UNDERPAYS', 'UNDERPERFORM', 'UNDERPERFORMANCE', 'UNDERPERFORMED', 'UNDERPERFORMING', 'UNDERPERFORMS', 'UNDERPRODUCED', 'UNDERPRODUCTION', 'UNDERREPORTING', 'UNDERSTATE', 'UNDERSTATED', 'UNDERSTATEMENT', 'UNDERSTATEMENTS', 'UNDERSTATES', 'UNDERSTATING', 'UNDERUTILIZATION', 'UNDERUTILIZED', 'UNDESIRABLE', 'UNDESIRED', 'UNDETECTED', 'UNDETERMINED', 'UNDISCLOSED', 'UNDOCUMENTED', 'UNDUE', 'UNDULY', 'UNECONOMIC', 'UNECONOMICAL', 'UNECONOMICALLY', 'UNEMPLOYED', 'UNEMPLOYMENT', 'UNETHICAL', 'UNETHICALLY', 'UNEXCUSED', 'UNEXPECTED', 'UNEXPECTEDLY', 'UNFAIR', 'UNFAIRLY', 'UNFAVORABILITY', 'UNFAVORABLE', 'UNFAVORABLY', 'UNFAVOURABLE', 'UNFEASIBLE', 'UNFIT', 'UNFITNESS', 'UNFORESEEABLE', 'UNFORESEEN', 'UNFORSEEN', 'UNFORTUNATE', 'UNFORTUNATELY', 'UNFOUNDED', 'UNFRIENDLY', 'UNFULFILLED', 'UNFUNDED', 'UNINSURED', 'UNINTENDED', 'UNINTENTIONAL', 'UNINTENTIONALLY', 'UNJUST', 'UNJUSTIFIABLE', 'UNJUSTIFIABLY', 'UNJUSTIFIED', 'UNJUSTLY', 'UNKNOWING', 'UNKNOWINGLY', 'UNLAWFUL', 'UNLAWFULLY', 'UNLICENSED', 'UNLIQUIDATED', 'UNMARKETABLE', 'UNMERCHANTABLE', 'UNMERITORIOUS', 'UNNECESSARILY', 'UNNECESSARY', 'UNNEEDED', 'UNOBTAINABLE', 'UNOCCUPIED', 'UNPAID', 'UNPERFORMED', 'UNPLANNED', 'UNPOPULAR', 'UNPREDICTABILITY', 'UNPREDICTABLE', 'UNPREDICTABLY', 'UNPREDICTED', 'UNPRODUCTIVE', 'UNPROFITABILITY', 'UNPROFITABLE', 'UNQUALIFIED', 'UNREALISTIC', 'UNREASONABLE', 'UNREASONABLENESS', 'UNREASONABLY', 'UNRECEPTIVE', 'UNRECOVERABLE', 'UNRECOVERED', 'UNREIMBURSED', 'UNRELIABLE', 'UNREMEDIED', 'UNREPORTED', 'UNRESOLVED', 'UNREST', 'UNSAFE', 'UNSALABLE', 'UNSALEABLE', 'UNSATISFACTORY', 'UNSATISFIED', 'UNSAVORY', 'UNSCHEDULED', 'UNSELLABLE', 'UNSOLD', 'UNSOUND', 'UNSTABILIZED', 'UNSTABLE', 'UNSUBSTANTIATED', 'UNSUCCESSFUL', 'UNSUCCESSFULLY', 'UNSUITABILITY', 'UNSUITABLE', 'UNSUITABLY', 'UNSUITED', 'UNSURE', 'UNSUSPECTED', 'UNSUSPECTING', 'UNSUSTAINABLE', 'UNTENABLE', 'UNTIMELY', 'UNTRUSTED', 'UNTRUTH', 'UNTRUTHFUL', 'UNTRUTHFULLY', 'UNTRUTHFULNESS', 'UNTRUTHS', 'UNUSABLE', 'UNWANTED', 'UNWARRANTED', 'UNWELCOME', 'UNWILLING', 'UNWILLINGNESS', 'UPSET', 'URGENCY', 'URGENT', 'USURIOUS', 'USURP', 'USURPED', 'USURPING', 'USURPS', 'USURY', 'VANDALISM', 'VERDICT', 'VERDICTS', 'VETOED', 'VICTIMS', 'VIOLATE', 'VIOLATED', 'VIOLATES', 'VIOLATING', 'VIOLATION', 'VIOLATIONS', 'VIOLATIVE', 'VIOLATOR', 'VIOLATORS', 'VIOLENCE', 'VIOLENT', 'VIOLENTLY', 'VITIATE', 'VITIATED', 'VITIATES', 'VITIATING', 'VITIATION', 'VOIDED', 'VOIDING', 'VOLATILE', 'VOLATILITY', 'VULNERABILITIES', 'VULNERABILITY', 'VULNERABLE', 'VULNERABLY', 'WARN', 'WARNED', 'WARNING', 'WARNINGS', 'WARNS', 'WASTED', 'WASTEFUL', 'WASTING', 'WEAK', 'WEAKEN', 'WEAKENED', 'WEAKENING', 'WEAKENS', 'WEAKER', 'WEAKEST', 'WEAKLY', 'WEAKNESS', 'WEAKNESSES', 'WILLFULLY', 'WORRIES', 'WORRY', 'WORRYING', 'WORSE', 'WORSEN', 'WORSENED', 'WORSENING', 'WORSENS', 'WORST', 'WORTHLESS', 'WRITEDOWN', 'WRITEDOWNS', 'WRITEOFF', 'WRITEOFFS', 'WRONG', 'WRONGDOING', 'WRONGDOINGS', 'WRONGFUL', 'WRONGFULLY', 'WRONGLY']\n",
    "pos = ['ABLE', 'ABUNDANCE', 'ABUNDANT', 'ACCLAIMED', 'ACCOMPLISH', 'ACCOMPLISHED', 'ACCOMPLISHES', 'ACCOMPLISHING', 'ACCOMPLISHMENT', 'ACCOMPLISHMENTS', 'ACHIEVE', 'ACHIEVED', 'ACHIEVEMENT', 'ACHIEVEMENTS', 'ACHIEVES', 'ACHIEVING', 'ADEQUATELY', 'ADVANCEMENT', 'ADVANCEMENTS', 'ADVANCES', 'ADVANCING', 'ADVANTAGE', 'ADVANTAGED', 'ADVANTAGEOUS', 'ADVANTAGEOUSLY', 'ADVANTAGES', 'ALLIANCE', 'ALLIANCES', 'ASSURE', 'ASSURED', 'ASSURES', 'ASSURING', 'ATTAIN', 'ATTAINED', 'ATTAINING', 'ATTAINMENT', 'ATTAINMENTS', 'ATTAINS', 'ATTRACTIVE', 'ATTRACTIVENESS', 'BEAUTIFUL', 'BEAUTIFULLY', 'BENEFICIAL', 'BENEFICIALLY', 'BENEFIT', 'BENEFITED', 'BENEFITING', 'BENEFITTED', 'BENEFITTING', 'BEST', 'BETTER', 'BOLSTERED', 'BOLSTERING', 'BOLSTERS', 'BOOM', 'BOOMING', 'BOOST', 'BOOSTED', 'BREAKTHROUGH', 'BREAKTHROUGHS', 'BRILLIANT', 'CHARITABLE', 'COLLABORATE', 'COLLABORATED', 'COLLABORATES', 'COLLABORATING', 'COLLABORATION', 'COLLABORATIONS', 'COLLABORATIVE', 'COLLABORATOR', 'COLLABORATORS', 'COMPLIMENT', 'COMPLIMENTARY', 'COMPLIMENTED', 'COMPLIMENTING', 'COMPLIMENTS', 'CONCLUSIVE', 'CONCLUSIVELY', 'CONDUCIVE', 'CONFIDENT', 'CONSTRUCTIVE', 'CONSTRUCTIVELY', 'COURTEOUS', 'CREATIVE', 'CREATIVELY', 'CREATIVENESS', 'CREATIVITY', 'DELIGHT', 'DELIGHTED', 'DELIGHTFUL', 'DELIGHTFULLY', 'DELIGHTING', 'DELIGHTS', 'DEPENDABILITY', 'DEPENDABLE', 'DESIRABLE', 'DESIRED', 'DESPITE', 'DESTINED', 'DILIGENT', 'DILIGENTLY', 'DISTINCTION', 'DISTINCTIONS', 'DISTINCTIVE', 'DISTINCTIVELY', 'DISTINCTIVENESS', 'DREAM', 'EASIER', 'EASILY', 'EASY', 'EFFECTIVE', 'EFFICIENCIES', 'EFFICIENCY', 'EFFICIENT', 'EFFICIENTLY', 'EMPOWER', 'EMPOWERED', 'EMPOWERING', 'EMPOWERS', 'ENABLE', 'ENABLED', 'ENABLES', 'ENABLING', 'ENCOURAGED', 'ENCOURAGEMENT', 'ENCOURAGES', 'ENCOURAGING', 'ENHANCE', 'ENHANCED', 'ENHANCEMENT', 'ENHANCEMENTS', 'ENHANCES', 'ENHANCING', 'ENJOY', 'ENJOYABLE', 'ENJOYABLY', 'ENJOYED', 'ENJOYING', 'ENJOYMENT', 'ENJOYS', 'ENTHUSIASM', 'ENTHUSIASTIC', 'ENTHUSIASTICALLY', 'EXCELLENCE', 'EXCELLENT', 'EXCELLING', 'EXCELS', 'EXCEPTIONAL', 'EXCEPTIONALLY', 'EXCITED', 'EXCITEMENT', 'EXCITING', 'EXCLUSIVE', 'EXCLUSIVELY', 'EXCLUSIVENESS', 'EXCLUSIVES', 'EXCLUSIVITY', 'EXEMPLARY', 'FANTASTIC', 'FAVORABLE', 'FAVORABLY', 'FAVORED', 'FAVORING', 'FAVORITE', 'FAVORITES', 'FRIENDLY', 'GAIN', 'GAINED', 'GAINING', 'GAINS', 'GOOD', 'GREAT', 'GREATER', 'GREATEST', 'GREATLY', 'GREATNESS', 'HAPPIEST', 'HAPPILY', 'HAPPINESS', 'HAPPY', 'HIGHEST', 'HONOR', 'HONORABLE', 'HONORED', 'HONORING', 'HONORS', 'IDEAL', 'IMPRESS', 'IMPRESSED', 'IMPRESSES', 'IMPRESSING', 'IMPRESSIVE', 'IMPRESSIVELY', 'IMPROVE', 'IMPROVED', 'IMPROVEMENT', 'IMPROVEMENTS', 'IMPROVES', 'IMPROVING', 'INCREDIBLE', 'INCREDIBLY', 'INFLUENTIAL', 'INFORMATIVE', 'INGENUITY', 'INNOVATE', 'INNOVATED', 'INNOVATES', 'INNOVATING', 'INNOVATION', 'INNOVATIONS', 'INNOVATIVE', 'INNOVATIVENESS', 'INNOVATOR', 'INNOVATORS', 'INSIGHTFUL', 'INSPIRATION', 'INSPIRATIONAL', 'INTEGRITY', 'INVENT', 'INVENTED', 'INVENTING', 'INVENTION', 'INVENTIONS', 'INVENTIVE', 'INVENTIVENESS', 'INVENTOR', 'INVENTORS', 'LEADERSHIP', 'LEADING', 'LOYAL', 'LUCRATIVE', 'MERITORIOUS', 'OPPORTUNITIES', 'OPPORTUNITY', 'OPTIMISTIC', 'OUTPERFORM', 'OUTPERFORMED', 'OUTPERFORMING', 'OUTPERFORMS', 'PERFECT', 'PERFECTED', 'PERFECTLY', 'PERFECTS', 'PLEASANT', 'PLEASANTLY', 'PLEASED', 'PLEASURE', 'PLENTIFUL', 'POPULAR', 'POPULARITY', 'POSITIVE', 'POSITIVELY', 'PREEMINENCE', 'PREEMINENT', 'PREMIER', 'PREMIERE', 'PRESTIGE', 'PRESTIGIOUS', 'PROACTIVE', 'PROACTIVELY', 'PROFICIENCY', 'PROFICIENT', 'PROFICIENTLY', 'PROFITABILITY', 'PROFITABLE', 'PROFITABLY', 'PROGRESS', 'PROGRESSED', 'PROGRESSES', 'PROGRESSING', 'PROSPERED', 'PROSPERING', 'PROSPERITY', 'PROSPEROUS', 'PROSPERS', 'REBOUND', 'REBOUNDED', 'REBOUNDING', 'RECEPTIVE', 'REGAIN', 'REGAINED', 'REGAINING', 'RESOLVE', 'REVOLUTIONIZE', 'REVOLUTIONIZED', 'REVOLUTIONIZES', 'REVOLUTIONIZING', 'REWARD', 'REWARDED', 'REWARDING', 'REWARDS', 'SATISFACTION', 'SATISFACTORILY', 'SATISFACTORY', 'SATISFIED', 'SATISFIES', 'SATISFY', 'SATISFYING', 'SMOOTH', 'SMOOTHING', 'SMOOTHLY', 'SMOOTHS', 'SOLVES', 'SOLVING', 'SPECTACULAR', 'SPECTACULARLY', 'STABILITY', 'STABILIZATION', 'STABILIZATIONS', 'STABILIZE', 'STABILIZED', 'STABILIZES', 'STABILIZING', 'STABLE', 'STRENGTH', 'STRENGTHEN', 'STRENGTHENED', 'STRENGTHENING', 'STRENGTHENS', 'STRENGTHS', 'STRONG', 'STRONGER', 'STRONGEST', 'SUCCEED', 'SUCCEEDED', 'SUCCEEDING', 'SUCCEEDS', 'SUCCESS', 'SUCCESSES', 'SUCCESSFUL', 'SUCCESSFULLY', 'SUPERIOR', 'SURPASS', 'SURPASSED', 'SURPASSES', 'SURPASSING', 'TRANSPARENCY', 'TREMENDOUS', 'TREMENDOUSLY', 'UNMATCHED', 'UNPARALLELED', 'UNSURPASSED', 'UPTURN', 'UPTURNS', 'VALUABLE', 'VERSATILE', 'VERSATILITY', 'VIBRANCY', 'VIBRANT', 'WIN', 'WINNER', 'WINNERS', 'WINNING', 'WORTHY']\n",
    "unc = ['ABEYANCE', 'ABEYANCES', 'ALMOST', 'ALTERATION', 'ALTERATIONS', 'AMBIGUITIES', 'AMBIGUITY', 'AMBIGUOUS', 'ANOMALIES', 'ANOMALOUS', 'ANOMALOUSLY', 'ANOMALY', 'ANTICIPATE', 'ANTICIPATED', 'ANTICIPATES', 'ANTICIPATING', 'ANTICIPATION', 'ANTICIPATIONS', 'APPARENT', 'APPARENTLY', 'APPEAR', 'APPEARED', 'APPEARING', 'APPEARS', 'APPROXIMATE', 'APPROXIMATED', 'APPROXIMATELY', 'APPROXIMATES', 'APPROXIMATING', 'APPROXIMATION', 'APPROXIMATIONS', 'ARBITRARILY', 'ARBITRARINESS', 'ARBITRARY', 'ASSUME', 'ASSUMED', 'ASSUMES', 'ASSUMING', 'ASSUMPTION', 'ASSUMPTIONS', 'BELIEVE', 'BELIEVED', 'BELIEVES', 'BELIEVING', 'CAUTIOUS', 'CAUTIOUSLY', 'CAUTIOUSNESS', 'CLARIFICATION', 'CLARIFICATIONS', 'CONCEIVABLE', 'CONCEIVABLY', 'CONDITIONAL', 'CONDITIONALLY', 'CONFUSES', 'CONFUSING', 'CONFUSINGLY', 'CONFUSION', 'CONTINGENCIES', 'CONTINGENCY', 'CONTINGENT', 'CONTINGENTLY', 'CONTINGENTS', 'COULD', 'CROSSROAD', 'CROSSROADS', 'DEPEND', 'DEPENDED', 'DEPENDENCE', 'DEPENDENCIES', 'DEPENDENCY', 'DEPENDENT', 'DEPENDING', 'DEPENDS', 'DESTABILIZING', 'DEVIATE', 'DEVIATED', 'DEVIATES', 'DEVIATING', 'DEVIATION', 'DEVIATIONS', 'DIFFER', 'DIFFERED', 'DIFFERING', 'DIFFERS', 'DOUBT', 'DOUBTED', 'DOUBTFUL', 'DOUBTS', 'EXPOSURE', 'EXPOSURES', 'FLUCTUATE', 'FLUCTUATED', 'FLUCTUATES', 'FLUCTUATING', 'FLUCTUATION', 'FLUCTUATIONS', 'HIDDEN', 'HINGES', 'IMPRECISE', 'IMPRECISION', 'IMPRECISIONS', 'IMPROBABILITY', 'IMPROBABLE', 'INCOMPLETENESS', 'INDEFINITE', 'INDEFINITELY', 'INDEFINITENESS', 'INDETERMINABLE', 'INDETERMINATE', 'INEXACT', 'INEXACTNESS', 'INSTABILITIES', 'INSTABILITY', 'INTANGIBLE', 'INTANGIBLES', 'LIKELIHOOD', 'MAY', 'MAYBE', 'MIGHT', 'NEARLY', 'NONASSESSABLE', 'OCCASIONALLY', 'ORDINARILY', 'PENDING', 'PERHAPS', 'POSSIBILITIES', 'POSSIBILITY', 'POSSIBLE', 'POSSIBLY', 'PRECAUTION', 'PRECAUTIONARY', 'PRECAUTIONS', 'PREDICT', 'PREDICTABILITY', 'PREDICTED', 'PREDICTING', 'PREDICTION', 'PREDICTIONS', 'PREDICTIVE', 'PREDICTOR', 'PREDICTORS', 'PREDICTS', 'PRELIMINARILY', 'PRELIMINARY', 'PRESUMABLY', 'PRESUME', 'PRESUMED', 'PRESUMES', 'PRESUMING', 'PRESUMPTION', 'PRESUMPTIONS', 'PROBABILISTIC', 'PROBABILITIES', 'PROBABILITY', 'PROBABLE', 'PROBABLY', 'RANDOM', 'RANDOMIZE', 'RANDOMIZED', 'RANDOMIZES', 'RANDOMIZING', 'RANDOMLY', 'RANDOMNESS', 'REASSESS', 'REASSESSED', 'REASSESSES', 'REASSESSING', 'REASSESSMENT', 'REASSESSMENTS', 'RECALCULATE', 'RECALCULATED', 'RECALCULATES', 'RECALCULATING', 'RECALCULATION', 'RECALCULATIONS', 'RECONSIDER', 'RECONSIDERED', 'RECONSIDERING', 'RECONSIDERS', 'REEXAMINATION', 'REEXAMINE', 'REEXAMINING', 'REINTERPRET', 'REINTERPRETATION', 'REINTERPRETATIONS', 'REINTERPRETED', 'REINTERPRETING', 'REINTERPRETS', 'REVISE', 'REVISED', 'RISK', 'RISKED', 'RISKIER', 'RISKIEST', 'RISKINESS', 'RISKING', 'RISKS', 'RISKY', 'ROUGHLY', 'RUMORS', 'SEEMS', 'SELDOM', 'SELDOMLY', 'SOMETIME', 'SOMETIMES', 'SOMEWHAT', 'SOMEWHERE', 'SPECULATE', 'SPECULATED', 'SPECULATES', 'SPECULATING', 'SPECULATION', 'SPECULATIONS', 'SPECULATIVE', 'SPECULATIVELY', 'SPORADIC', 'SPORADICALLY', 'SUDDEN', 'SUDDENLY', 'SUGGEST', 'SUGGESTED', 'SUGGESTING', 'SUGGESTS', 'SUSCEPTIBILITY', 'TENDING', 'TENTATIVE', 'TENTATIVELY', 'TURBULENCE', 'UNCERTAIN', 'UNCERTAINLY', 'UNCERTAINTIES', 'UNCERTAINTY', 'UNCLEAR', 'UNCONFIRMED', 'UNDECIDED', 'UNDEFINED', 'UNDESIGNATED', 'UNDETECTABLE', 'UNDETERMINABLE', 'UNDETERMINED', 'UNDOCUMENTED', 'UNEXPECTED', 'UNEXPECTEDLY', 'UNFAMILIAR', 'UNFAMILIARITY', 'UNFORECASTED', 'UNFORSEEN', 'UNGUARANTEED', 'UNHEDGED', 'UNIDENTIFIABLE', 'UNIDENTIFIED', 'UNKNOWN', 'UNKNOWNS', 'UNOBSERVABLE', 'UNPLANNED', 'UNPREDICTABILITY', 'UNPREDICTABLE', 'UNPREDICTABLY', 'UNPREDICTED', 'UNPROVED', 'UNPROVEN', 'UNQUANTIFIABLE', 'UNQUANTIFIED', 'UNRECONCILED', 'UNSEASONABLE', 'UNSEASONABLY', 'UNSETTLED', 'UNSPECIFIC', 'UNSPECIFIED', 'UNTESTED', 'UNUSUAL', 'UNUSUALLY', 'UNWRITTEN', 'VAGARIES', 'VAGUE', 'VAGUELY', 'VAGUENESS', 'VAGUENESSES', 'VAGUER', 'VAGUEST', 'VARIABILITY', 'VARIABLE', 'VARIABLES', 'VARIABLY', 'VARIANCE', 'VARIANCES', 'VARIANT', 'VARIANTS', 'VARIATION', 'VARIATIONS', 'VARIED', 'VARIES', 'VARY', 'VARYING', 'VOLATILE', 'VOLATILITIES', 'VOLATILITY']\n",
    "\n",
    "print(f'There are {len(neg):>4} words associated with negativity')\n",
    "print(f'There are {len(pos):>4} words associated with positivity')\n",
    "print(f'There are {len(unc):>4} words associated with uncertainty')"
   ]
  },
  {
   "cell_type": "markdown",
   "id": "2f6a8824-0845-4b7b-bdba-c34912ccb8bd",
   "metadata": {},
   "source": [
    "<b>Run the cell below to load `list_of_lyrics`</b>"
   ]
  },
  {
   "cell_type": "code",
   "execution_count": null,
   "id": "5c3e4780-dee2-4aad-9839-0fab7af37b8d",
   "metadata": {
    "tags": []
   },
   "outputs": [],
   "source": [
    "list_of_lyrics = [[\"98 Braves\",\"Morgan Wallen\",\"\"\"\n",
    "I remember sittin' at that house\n",
    "Livin' room couch\n",
    "Thinkin' no way them boys wouldn't win\n",
    "Between them big 3 pitchers\n",
    "Andruw and Chipper\n",
    "It was gonna be hard to keep up with the Joneses\n",
    "But as fate would have it\n",
    "That Atlanta magic got put out by them damn Padres\n",
    "And I guess destiny ain't always meant to be\n",
    "Kinda like you and me that day\n",
    "\n",
    "We got close, but close doesn't cut it\n",
    "Had a good run to end up with nothin'\n",
    "But a 3x5 that you hide in a drawer\n",
    "We swung for the fences and came up short\n",
    "Yeah, you win some, you lose some\n",
    "It ain't always home runs\n",
    "And that's just the way life plays\n",
    "If we were a team and love was a game\n",
    "We would have been the '98 Braves\n",
    "\n",
    "Had that whole town believin'\n",
    "Damn girl I even had that talk\n",
    "To your dad man to man\n",
    "But just like that season\n",
    "Girl you and me didn't end with a ring on a hand\n",
    "\n",
    "We got close but close doesn't cut it\n",
    "Had a good run to end up with nothin'\n",
    "But a 3x5 that you hide in a drawer\n",
    "We swung for the fences and came up short\n",
    "Yeah, you win some, you lose some\n",
    "It ain't always home runs\n",
    "And that's just the way life plays\n",
    "If we were a team and love was a game\n",
    "We would have been the '98 Braves\n",
    "'98 Braves\n",
    "\n",
    "You win some, you lose some\n",
    "It ain't always home runs\n",
    "Girl, it coulda gone either way\n",
    "But if we were a team and love was a game\n",
    "We'd have been the '98 Braves\n",
    "If we were a team and love was a game\n",
    "We'd have been the '98 Braves\n",
    "'98 Braves\n",
    "Oh yeah girl, we'd have been the '98 Braves\n",
    "'98 Braves\n",
    "We'd have been the '98 Braves\n",
    "\n",
    "I remember sittin' at that house\n",
    "Livin' room couch\n",
    "Thinkin' no way them boys wouldn't win\n",
    "\"\"\"],\n",
    "[\"Happy\",\"Pharrell Williams\",\"\"\"\n",
    "It might seem crazy what I'm about to say\n",
    "Sunshine she's here, you can take a break\n",
    "I'm a hot air balloon that could go to space\n",
    "With the air, like I don't care, baby, by the way\n",
    "\n",
    "Uh\n",
    "\n",
    "(Because I'm happy)\n",
    "Clap along if you feel like a room without a roof\n",
    "(Because I'm happy)\n",
    "Clap along if you feel like happiness is the truth\n",
    "(Because I'm happy)\n",
    "Clap along if you know what happiness is to you\n",
    "(Because I'm happy)\n",
    "Clap along if you feel like that's what you wanna do\n",
    "\n",
    "Here come bad news, talking this and that (Yeah!)\n",
    "Well, give me all you got, don't hold it back (Yeah!)\n",
    "Well, I should probably warn you I'll be just fine (Yeah!)\n",
    "No offense to you\n",
    "Don't waste your time, here's why\n",
    "\n",
    "(Because I'm happy)\n",
    "Clap along if you feel like a room without a roof\n",
    "(Because I'm happy)\n",
    "Clap along if you feel like happiness is the truth\n",
    "(Because I'm happy)\n",
    "Clap along if you know what happiness is to you\n",
    "(Because I'm happy)\n",
    "Clap along if you feel like that's what you wanna do\n",
    "\n",
    "Bring me down\n",
    "Can't nothing bring me down\n",
    "My level's too high to bring me down\n",
    "Can't nothing bring me down, I said\n",
    "Bring me down\n",
    "Can't nothing bring me down\n",
    "My level's too high to bring me down\n",
    "Can't nothing bring me down, I said\n",
    "\n",
    "(Because I'm happy)\n",
    "Clap along if you feel like a room without a roof\n",
    "(Because I'm happy)\n",
    "Clap along if you feel like happiness is the truth\n",
    "(Because I'm happy)\n",
    "Clap along if you know what happiness is to you\n",
    "(Because I'm happy)\n",
    "Clap along if you feel like that's what you wanna do\n",
    "(Because I'm happy)\n",
    "Clap along if you feel like a room without a roof\n",
    "(Because I'm happy)\n",
    "Clap along if you feel like happiness is the truth\n",
    "(Because I'm happy)\n",
    "Clap along if you know what happiness is to you\n",
    "(Because I'm happy)\n",
    "Clap along if you feel like that's what you wanna do\n",
    "\n",
    "Bring me down\n",
    "Can't nothing bring me down\n",
    "My level's too high to bring me down\n",
    "Can't nothing bring me down, I said\n",
    "\n",
    "(Because I'm happy)\n",
    "Clap along if you feel like a room without a roof\n",
    "(Because I'm happy)\n",
    "Clap along if you feel like happiness is the truth\n",
    "(Because I'm happy)\n",
    "Clap along if you know what happiness is to you\n",
    "(Because I'm happy)\n",
    "Clap along if you feel like that's what you wanna do\n",
    "(Because I'm happy)\n",
    "Clap along if you feel like a room without a roof\n",
    "(Because I'm happy)\n",
    "Clap along if you feel like happiness is the truth\n",
    "(Because I'm happy)\n",
    "Clap along if you know what happiness is to you\n",
    "(Because I'm happy)\n",
    "Clap along if you feel like that's what you wanna do\n",
    "\"\"\"],\n",
    "[\"Never Gonna Give You Up\",\"Rick Astley\",\"\"\"\n",
    "We're no strangers to love\n",
    "You know the rules and so do I\n",
    "A full commitment's what I'm thinking of\n",
    "You wouldn't get this from any other guy\n",
    "\n",
    "I just wanna tell you how I'm feeling\n",
    "Gotta make you understand\n",
    "\n",
    "Never gonna give you up\n",
    "Never gonna let you down\n",
    "Never gonna run around and desert you\n",
    "Never gonna make you cry\n",
    "Never gonna say goodbye\n",
    "Never gonna tell a lie and hurt you\n",
    "\n",
    "We've known each other for so long\n",
    "Your heart's been aching, but\n",
    "You're too shy to say it\n",
    "Inside, we both know what's been going on\n",
    "We know the game and we're gonna play it\n",
    "\n",
    "And if you ask me how I'm feeling\n",
    "Don't tell me you're too blind to see\n",
    "\n",
    "Never gonna give you up\n",
    "Never gonna let you down\n",
    "Never gonna run around and desert you\n",
    "Never gonna make you cry\n",
    "Never gonna say goodbye\n",
    "Never gonna tell a lie and hurt you\n",
    "\n",
    "Never gonna give you up\n",
    "Never gonna let you down\n",
    "Never gonna run around and desert you\n",
    "Never gonna make you cry\n",
    "Never gonna say goodbye\n",
    "Never gonna tell a lie and hurt you\n",
    "\n",
    "(Ooh, give you up)\n",
    "(Ooh, give you up)\n",
    "Never gonna give, never gonna give\n",
    "(Give you up)\n",
    "Never gonna give, never gonna give\n",
    "(Give you up)\n",
    "\n",
    "We've known each other for so long\n",
    "Your heart's been aching, but\n",
    "You're too shy to say it\n",
    "Inside, we both know what's been going on\n",
    "We know the game and we're gonna play it\n",
    "\n",
    "I just wanna tell you how I'm feeling\n",
    "Gotta make you understand\n",
    "\n",
    "Never gonna give you up\n",
    "Never gonna let you down\n",
    "Never gonna run around and desert you\n",
    "Never gonna make you cry\n",
    "Never gonna say goodbye\n",
    "Never gonna tell a lie and hurt you\n",
    "\n",
    "Never gonna give you up\n",
    "Never gonna let you down\n",
    "Never gonna run around and desert you\n",
    "Never gonna make you cry\n",
    "Never gonna say goodbye\n",
    "Never gonna tell a lie and hurt you\n",
    "\n",
    "Never gonna give you up\n",
    "Never gonna let you down\n",
    "Never gonna run around and desert you\n",
    "Never gonna make you cry\n",
    "Never gonna say goodbye\n",
    "Never gonna tell a lie and hurt you\n",
    "\"\"\"],\n",
    "[\"Believe\",\"Cher\",\"\"\"\n",
    "After love, after love\n",
    "After love, after love\n",
    "\n",
    "No matter how hard I try\n",
    "You keep pushing me aside\n",
    "And I can't break through\n",
    "There's no talking to you\n",
    "\n",
    "It's so sad that you're leaving\n",
    "It takes time to believe it\n",
    "But after all is said and done\n",
    "You're gonna be the lonely one\n",
    "Oh, oh\n",
    "\n",
    "Do you believe in life after love?\n",
    "I can feel something inside me say,\n",
    "I really don't think you're strong enough, no.\n",
    "Do you believe in life after love?\n",
    "I can feel something inside me say,\n",
    "I really don't think you're strong enough, no.\n",
    "\n",
    "What am I supposed to do?\n",
    "Sit around and wait for you?\n",
    "Well, I can't do that\n",
    "There's no turning back\n",
    "\n",
    "I need time to move on\n",
    "I need love to feel strong\n",
    "'Cause I've had time to think it through\n",
    "And maybe I'm too good for you\n",
    "Oh, oh\n",
    "\n",
    "Do you believe in life after love?\n",
    "I can feel something inside me say,\n",
    "I really don't think you're strong enough, no.\n",
    "Do you believe in life after love?\n",
    "I can feel something inside me say,\n",
    "I really don't think you're strong enough, no.\n",
    "\n",
    "Well, I know that I'll get through this\n",
    "'Cause I know that I am strong\n",
    "I don't need you anymore\n",
    "Oh, I don't need you anymore\n",
    "I don't need you anymore\n",
    "No, I don't need you anymore\n",
    "\n",
    "Do you believe in life after love?\n",
    "I can feel something inside me say,\n",
    "I really don't think you're strong enough, no.\n",
    "Do you believe in life after love?\n",
    "I can feel something inside me say,\n",
    "I really don't think you're strong enough, no.\n",
    "\n",
    "Do you believe in life after love?\n",
    "I can feel something inside me say,\n",
    "I really don't think you're strong enough, no.\n",
    "Do you believe in life after love?\n",
    "I can feel something inside me say,\n",
    "I really don't think you're strong enough, no.\n",
    "\"\"\"],\n",
    "[\"All Too Well (Taylor's Version)\",\"Taylor Swift\",\"\"\"\n",
    "I walked through the door with you, the air was cold\n",
    "But something 'bout it felt like home somehow\n",
    "And I left my scarf there at your sister's house\n",
    "And you've still got it in your drawer, even now\n",
    "Oh, your sweet disposition and my wide-eyed gaze\n",
    "We're singing in the car, getting lost upstate\n",
    "Autumn leaves falling down like pieces into place\n",
    "And I can picture it after all these days\n",
    "\n",
    "And I know it's long gone and\n",
    "That magic's not here no more\n",
    "And I might be okay, but I'm not fine at all\n",
    "Oh, oh, oh\n",
    "\n",
    "'Cause there we are again on that little town street\n",
    "You almost ran the red 'cause you were lookin' over at me\n",
    "Wind in my hair, I was there\n",
    "I remember it all too well\n",
    "\n",
    "Photo album on the counter, your cheeks were turning red\n",
    "You used to be a little kid with glasses in a twin-sized bed\n",
    "And your mother's telling stories 'bout you on the tee-ball team\n",
    "You taught me 'bout your past, thinking your future was me\n",
    "And you were tossing me the car keys, \"fuck the patriarchy\"\n",
    "Key chain on the ground, we were always skipping town\n",
    "And I was thinking on the drive down, any time now\n",
    "He's gonna say it's love, you never called it what it was\n",
    "'Til we were dead and gone and buried\n",
    "Check the pulse and come back swearing it's the same\n",
    "After three months in the grave\n",
    "And then you wondered where it went to as I reached for you\n",
    "But all I felt was shame and you held my lifeless frame\n",
    "\n",
    "And I know it's long gone and\n",
    "There was nothing else I could do\n",
    "And I forget about you long enough\n",
    "To forget why I needed to\n",
    "\n",
    "'Cause there we are again in the middle of the night\n",
    "We're dancing 'round the kitchen in the refrigerator light\n",
    "Down the stairs, I was there\n",
    "I remember it all too well\n",
    "And there we are again when nobody had to know\n",
    "You kept me like a secret, but I kept you like an oath\n",
    "Sacred prayer and we'd swear\n",
    "To remember it all too well, yeah\n",
    "\n",
    "Well, maybe we got lost in translation\n",
    "Maybe I asked for too much\n",
    "But maybe this thing was a masterpiece\n",
    "'Til you tore it all up\n",
    "Running scared, I was there\n",
    "I remember it all too well\n",
    "And you call me up again just to break me like a promise\n",
    "So casually cruel in the name of being honest\n",
    "I'm a crumpled up piece of paper lying here\n",
    "'Cause I remember it all, all, all\n",
    "\n",
    "They say all's well that ends well, but I'm in a new Hell\n",
    "Every time you double-cross my mind\n",
    "You said if we had been closer in age maybe it would have been fine\n",
    "And that made me want to die\n",
    "The idea you had of me, who was she?\n",
    "A never-needy, ever-lovely jewel whose shine reflects on you\n",
    "Not weeping in a party bathroom\n",
    "Some actress asking me what happened, you\n",
    "That's what happened, you\n",
    "You who charmed my dad with self-effacing jokes\n",
    "Sipping coffee like you're on a late-night show\n",
    "But then he watched me watch the front door all night, willing you to come\n",
    "And he said, \"It's supposed to be fun turning twenty-one\"\n",
    "\n",
    "Time won't fly, it's like I'm paralyzed by it\n",
    "I'd like to be my old self again, but I'm still trying to find it\n",
    "After plaid shirt days and nights when you made me your own\n",
    "Now you mail back my things and I walk home alone\n",
    "But you keep my old scarf from that very first week\n",
    "'Cause it reminds you of innocence and it smells like me\n",
    "You can't get rid of it\n",
    "'Cause you remember it all too well, yeah\n",
    "'Cause there we are again when I loved you so\n",
    "Back before you lost the one real thing you've ever known\n",
    "\n",
    "It was rare, I was there\n",
    "I remember it all too well\n",
    "Wind in my hair, you were there\n",
    "You remember it all\n",
    "Down the stairs, you were there\n",
    "You remember it all\n",
    "It was rare, I was there\n",
    "I remember it all too well\n",
    "\n",
    "And I was never good at telling jokes, but the punch line goes\n",
    "\"I'll get older, but your lovers stay my age\"\n",
    "From when your Brooklyn broke my skin and bones\n",
    "I'm a soldier who's returning half her weight\n",
    "And did the twin flame bruise paint you blue?\n",
    "Just between us, did the love affair maim you, too?\n",
    "'Cause in this city's barren cold\n",
    "I still remember the first fall of snow\n",
    "And how it glistened as it fell\n",
    "I remember it all too well\n",
    "\n",
    "Just between us, did the love affair maim you all too well?\n",
    "Just between us, do you remember it all too well?\n",
    "Just between us, I remember it (Just between us), all too well\n",
    "Wind in my hair, I was there, I was there\n",
    "Down the stairs, I was there, I was there\n",
    "Sacred prayer, I was there, I was there\n",
    "It was rare, you remember it all too well\n",
    "Wind in my hair, I was there, I was there\n",
    "Down the stairs, I was there, I was there\n",
    "Sacred prayer, I was there, I was there\n",
    "It was rare, you remember it\n",
    "Wind in my hair, I was there, I was there\n",
    "Down the stairs, I was there, I was there\n",
    "Sacred prayer, I was there, I was there\n",
    "It was rare, you remember it\n",
    "Wind in my hair, I was there, I was there\n",
    "Down the stairs, I was there, I was there\n",
    "Sacred prayer, I was there, I was there\n",
    "It was rare, you remember it\n",
    "\"\"\"]]"
   ]
  },
  {
   "cell_type": "code",
   "execution_count": null,
   "id": "f616b41e-f307-4a84-861d-783cbb0d305a",
   "metadata": {},
   "outputs": [],
   "source": [
    "# your code goes here"
   ]
  },
  {
   "cell_type": "markdown",
   "id": "5db6ce3e-8024-479d-97cd-5ec4cc020b56",
   "metadata": {
    "tags": []
   },
   "source": [
    "## Question 6. Wrangling with Regular Expressions (8 points)"
   ]
  },
  {
   "cell_type": "markdown",
   "id": "35eca71c-be10-4466-89c7-0cb6808efae2",
   "metadata": {},
   "source": [
    "<b>Question 6a (5 points).</b> Use <b>re.findall()</b> to extract the daily high and daily low price from the string `yf` (defined in the cell below). Store the regex results in a list named `lvmh`. Note that High and Low appear in the third and fourth columns of `yf` (immediately after Date and Open). Note that many rows include additional tabs for no obvious reason. <b>Print the first three elements and last three elements of `lvmh`.<b>\n",
    "    \n",
    "<i>If you cannot get re.findall() to work, you can use .replace(), .split(), etc. to extract High and Low (max of 4 points out of 6 points).</i>"
   ]
  },
  {
   "cell_type": "code",
   "execution_count": null,
   "id": "cbf0e396-5c7c-421c-bf80-d3cfb46b159c",
   "metadata": {
    "tags": []
   },
   "outputs": [],
   "source": [
    "yf = \"\"\"\n",
    "Date\tOpen\tHigh\tLow\tClose\tAdj Close\tVolume\n",
    "Dec 14, 2023\t815.65\t825.00\t812.73\t\t\t817.00\t817.00\t1,067\n",
    "Dec 13, 2023\t\t789.01\t\t809.85\t789.01\t806.58\t806.58\t4,600\n",
    "Dec 12, 2023\t790.94\t\t\t801.45\t790.00\t792.51\t792.51\t1,000\n",
    "Dec 11, 2023\t797.30\t800.00\t\t791.61\t797.07\t797.07\t3,300\n",
    "Dec 08, 2023\t790.85\t803.01\t781.00\t797.00\t797.00\t6,200\n",
    "Dec 07, 2023\t773.25\t778.00\t769.95\t772.36\t\t772.36\t1,400\n",
    "Dec 06, 2023\t\t773.29\t780.00\t768.00\t770.43\t770.43\t6,600\n",
    "Dec 05, 2023\t757.03\t773.22\t757.03\t770.63\t770.63\t5,700\n",
    "Dec 04, 2023\t758.00\t\t760.78\t750.00\t760.33\t760.33\t1,800\n",
    "Dec 04, 2023\t\t\t5.987 Dividend\n",
    "Dec 01, 2023\t750.00\t765.22\t730.20\t763.45\t757.46\t1,500\n",
    "Nov 30, 2023\t\t764.88\t768.40\t741.15\t768.40\t762.37\t2,100\n",
    "Nov 29, 2023\t737.20\t760.00\t\t737.20\t760.00\t\t\t754.04\t1,200\n",
    "Nov 28, 2023\t749.72\t\t753.62\t738.30\t750.98\t745.09\t2,000\n",
    "Nov 27, 2023\t765.97\t770.49\t762.10\t\t766.30\t760.29\t1,500\n",
    "Nov 24, 2023\t\t\t773.75\t776.24\t768.88\t772.00\t765.95\t2,300\n",
    "Nov 22, 2023\t775.28\t\t777.39\t769.75\t775.00\t768.92\t5,200\n",
    "Nov 21, 2023\t\t773.32\t\t773.70\t768.88\t770.00\t763.96\t2,600\n",
    "Nov 20, 2023\t779.76\t\t790.00\t\t\t779.75\t789.57\t\t783.38\t1,600\n",
    "Nov 17, 2023\t753.40\t790.00\t753.40\t779.75\t773.64\t800\n",
    "Nov 16, 2023\t764.29\t770.87\t761.15\t764.39\t758.40\t4,100\n",
    "Nov 15, 2023\t\t778.01\t\t783.00\t775.05\t\t779.77\t773.66\t2,100\n",
    "Nov 14, 2023\t752.60\t773.00\t752.60\t\t772.00\t765.95\t3,700\n",
    "Nov 13, 2023\t732.77\t740.00\t\t730.00\t740.00\t734.20\t3,600\n",
    "Nov 10, 2023\t\t735.49\t741.57\t726.20\t738.25\t732.46\t2,100\n",
    "Nov 09, 2023\t\t765.13\t769.00\t757.75\t761.00\t755.03\t500\n",
    "Nov 08, 2023\t\t754.49\t758.71\t748.70\t754.00\t748.09\t1,000\n",
    "Nov 07, 2023\t743.76\t747.11\t722.15\t744.54\t738.70\t2,000\n",
    "Nov 06, 2023\t752.33\t\t\t752.33\t745.43\t746.09\t740.24\t2,000\n",
    "Nov 03, 2023\t761.95\t762.97\t\t750.25\t752.01\t746.11\t1,900\n",
    "Nov 02, 2023\t739.14\t752.85\t739.14\t746.37\t740.52\t3,400\n",
    "Nov 01, 2023\t713.25\t\t717.30\t706.00\t715.96\t710.35\t1,800\n",
    "Oct 31, 2023\t714.14\t723.28\t710.00\t717.39\t711.76\t1,100\n",
    "Oct 30, 2023\t706.85\t718.00\t706.76\t713.90\t\t708.30\t1,600\n",
    "Oct 27, 2023\t698.44\t709.48\t693.00\t\t693.50\t688.06\t3,200\n",
    "Oct 26, 2023\t\t\t713.71\t713.91\t698.75\t703.00\t697.49\t1,500\n",
    "Oct 25, 2023\t714.09\t720.59\t706.88\t715.59\t709.98\t4,700\n",
    "Oct 24, 2023\t720.10\t727.94\t\t714.42\t727.94\t722.23\t2,900\n",
    "Oct 23, 2023\t700.97\t716.23\t695.80\t713.00\t707.41\t1,300\n",
    "Oct 20, 2023\t699.00\t\t710.95\t699.00\t\t702.50\t696.99\t1,800\n",
    "Oct 19, 2023\t705.00\t717.88\t\t703.56\t703.56\t\t698.04\t3,400\n",
    "Oct 18, 2023\t716.43\t716.43\t\t700.00\t703.99\t698.47\t5,600\n",
    "Oct 17, 2023\t694.62\t711.78\t692.00\t705.50\t699.97\t8,600\n",
    "Oct 16, 2023\t\t695.30\t712.05\t695.30\t709.19\t703.63\t2,700\n",
    "Oct 13, 2023\t700.00\t706.24\t690.66\t694.00\t688.56\t2,500\n",
    "Oct 12, 2023\t718.29\t\t718.45\t705.10\t\t708.06\t702.51\t2,900\n",
    "Oct 11, 2023\t735.44\t741.54\t722.75\t726.00\t720.31\t18,500\n",
    "Oct 10, 2023\t764.85\t777.00\t\t\t742.25\t742.25\t736.43\t1,900\n",
    "Oct 09, 2023\t752.57\t\t760.74\t747.05\t\t759.18\t753.23\t900\n",
    "Oct 06, 2023\t763.12\t781.64\t756.01\t780.44\t774.32\t1,600\n",
    "Oct 05, 2023\t759.59\t\t766.18\t750.50\t765.90\t759.89\t3,100\n",
    "Oct 04, 2023\t752.90\t757.84\t\t745.88\t751.11\t745.22\t800\n",
    "Oct 03, 2023\t\t746.43\t746.43\t735.25\t\t740.52\t734.71\t1,500\n",
    "Oct 02, 2023\t747.43\t753.00\t742.33\t745.34\t739.50\t1,000\n",
    "\"\"\""
   ]
  },
  {
   "cell_type": "code",
   "execution_count": null,
   "id": "ad2d8202-d16e-43df-ab6c-e1312a3dc326",
   "metadata": {},
   "outputs": [],
   "source": [
    "# your code goes here"
   ]
  },
  {
   "cell_type": "code",
   "execution_count": null,
   "id": "ea00554e-debf-4423-99e9-0ff989032245",
   "metadata": {},
   "outputs": [],
   "source": [
    "print(lvmh[0:3], lvmh[-3:], len(lvmh))"
   ]
  },
  {
   "cell_type": "markdown",
   "id": "910424c5-1d41-4134-8d11-f6d1e0b2c8a1",
   "metadata": {},
   "source": [
    "<b>Question 6b (3 points).</b> Use the High and Low prices in `lvmh` to create an array named `ratio` that contains the ratio of the High price to the Low price. (Unless the High and Low price are identical, ratio should always be greater than one.) \n",
    "- <b>Print mean, median, and std dev of `ratio`, formatted so that a ratio of 1 appears as 1.000.</b>\n",
    "- <b>Print the histogram for `ratio` using a color other than blue.</b>"
   ]
  },
  {
   "cell_type": "code",
   "execution_count": null,
   "id": "a19a490b-47de-4299-9c8d-1068a5203c30",
   "metadata": {},
   "outputs": [],
   "source": [
    "# your code goes here"
   ]
  },
  {
   "cell_type": "code",
   "execution_count": null,
   "id": "3a40da8a-3bb4-47b1-a96a-6cc8213ddb41",
   "metadata": {},
   "outputs": [],
   "source": []
  }
 ],
 "metadata": {
  "kernelspec": {
   "display_name": "Python 3 (ipykernel)",
   "language": "python",
   "name": "python3"
  },
  "language_info": {
   "codemirror_mode": {
    "name": "ipython",
    "version": 3
   },
   "file_extension": ".py",
   "mimetype": "text/x-python",
   "name": "python",
   "nbconvert_exporter": "python",
   "pygments_lexer": "ipython3",
   "version": "3.9.17"
  }
 },
 "nbformat": 4,
 "nbformat_minor": 5
}

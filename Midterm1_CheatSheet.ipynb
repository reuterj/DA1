{
 "cells": [
  {
   "cell_type": "markdown",
   "id": "a9fed8fc-efc2-4b57-b770-d55181e03b44",
   "metadata": {},
   "source": [
    "# Midterm 1 Cheat Sheet"
   ]
  },
  {
   "cell_type": "code",
   "execution_count": null,
   "id": "60f0cbe0-3f69-413e-9293-91a48b5942e3",
   "metadata": {},
   "outputs": [],
   "source": [
    "import math\n",
    "import random\n",
    "import statistics"
   ]
  },
  {
   "cell_type": "code",
   "execution_count": null,
   "id": "a8ee0b96-3df3-44a6-b43a-4225a55ae20f",
   "metadata": {},
   "outputs": [],
   "source": [
    "# Code below allows Jupyter to prints multiple outputs, not just one on last line\n",
    "# Only use if you've already used\n",
    "get_ipython().ast_node_interactivity = 'all'  "
   ]
  },
  {
   "cell_type": "code",
   "execution_count": null,
   "id": "f77cb1b8-9bee-4c1d-bd33-17465492be04",
   "metadata": {},
   "outputs": [],
   "source": [
    "a = 10\n",
    "b = 2.0\n",
    "c = '5'\n",
    "l = [a, b, c]"
   ]
  },
  {
   "cell_type": "code",
   "execution_count": null,
   "id": "345a68b4-115e-43c1-9d46-661ea2dd9c3c",
   "metadata": {},
   "outputs": [],
   "source": [
    "type(a), type(b), type(c), type(l)"
   ]
  },
  {
   "cell_type": "code",
   "execution_count": null,
   "id": "c6a6c0c9-8f9d-4b1c-aedb-adfdcb279263",
   "metadata": {},
   "outputs": [],
   "source": [
    "# Looping over elements of an object\n",
    "for element in l:\n",
    "    print(element)"
   ]
  },
  {
   "cell_type": "code",
   "execution_count": null,
   "id": "d31230ec-90b9-4405-a4d5-1ada0b74be6d",
   "metadata": {},
   "outputs": [],
   "source": [
    "# Looping over index values of an object\n",
    "for num in range(len(l)):\n",
    "    print(num, l[num])"
   ]
  },
  {
   "cell_type": "markdown",
   "id": "cf424167-3933-4ad8-868c-b349629a29b7",
   "metadata": {},
   "source": [
    "<b>List comprehension</b>'s most common form:\n",
    "\n",
    "\\[ \\{output statement\\} \\{for statement\\} \\{if statement\\} \\], where if statement is optional and where you have the option to nest if statements"
   ]
  },
  {
   "cell_type": "code",
   "execution_count": null,
   "id": "af1cdb9b-1a0d-459a-85e5-e3fc6a7a21ad",
   "metadata": {},
   "outputs": [],
   "source": [
    "# List containing numbers 0, 0.1, 0.2, ..., 1.0\n",
    "[num/10 for num in range(1,11)]"
   ]
  },
  {
   "cell_type": "code",
   "execution_count": null,
   "id": "d5d4a54f-a4cd-4b35-b16d-072550a01500",
   "metadata": {},
   "outputs": [],
   "source": [
    "s = 'AaAaAaAAbBCcddEEEfgGgHHhIjjjjj'"
   ]
  },
  {
   "cell_type": "code",
   "execution_count": null,
   "id": "757b1c29-804c-4daf-9d62-c9e094f7adfe",
   "metadata": {},
   "outputs": [],
   "source": [
    "s.lower()"
   ]
  },
  {
   "cell_type": "code",
   "execution_count": null,
   "id": "e9eda18d-ac48-453c-8a16-b41c63140769",
   "metadata": {},
   "outputs": [],
   "source": [
    "s.count('A')"
   ]
  },
  {
   "cell_type": "code",
   "execution_count": null,
   "id": "36a88429-da52-4742-aa4d-1d32b1d73ce1",
   "metadata": {},
   "outputs": [],
   "source": [
    "l_upper = [element   for element in s   if element.isupper()]\n",
    "print(l_upper)"
   ]
  },
  {
   "cell_type": "code",
   "execution_count": null,
   "id": "fb7dc42f-3ab1-465a-90ff-6906ef659783",
   "metadata": {},
   "outputs": [],
   "source": [
    "print([[element, s.count(element)] for element in sorted(set(s))])"
   ]
  },
  {
   "cell_type": "code",
   "execution_count": null,
   "id": "bde97567-97e7-435c-a2ab-194bf402b57f",
   "metadata": {},
   "outputs": [],
   "source": [
    "# Combining two lists of the same length into a list of lists\n",
    "\n",
    "l1 = range(1,6)\n",
    "l2 = ['a','b','c','d','e']\n",
    "l3 = [[l1[num], l2[num]] for num in range(len(l1))]"
   ]
  },
  {
   "cell_type": "code",
   "execution_count": null,
   "id": "3f5a51ef-e5e7-4033-b0fe-db6387be8a49",
   "metadata": {},
   "outputs": [],
   "source": [
    "def last(s):\n",
    "    \"\"\"Returns last element of a string or list\"\"\"\n",
    "    return s[-1]"
   ]
  },
  {
   "cell_type": "code",
   "execution_count": null,
   "id": "192cc0fc-cff2-48fc-a8ba-2f076ffe7632",
   "metadata": {},
   "outputs": [],
   "source": [
    "help(sorted)"
   ]
  },
  {
   "cell_type": "code",
   "execution_count": null,
   "id": "1c0960a3-123d-405d-9a4d-4a67b202f3d0",
   "metadata": {},
   "outputs": [],
   "source": [
    "# reverse=True sorts from highest to lowest; default is to sort from lowest to highest\n",
    "# optional key controls how elements are evaluating by sorting algorithm\n",
    "\n",
    "lol2 = [[element, s.count(element)] for element in sorted(set(s))]\n",
    "print(sorted(lol2, key=last, reverse=True))  "
   ]
  },
  {
   "cell_type": "code",
   "execution_count": null,
   "id": "2e9a783b-8953-4415-8951-0285b7ac181c",
   "metadata": {},
   "outputs": [],
   "source": [
    "def most_common(s):\n",
    "    \"\"\"Identifies the most common character(s) in a string\n",
    "       and returns those character(s) in a list\"\"\"\n",
    "    parsed    = [[s.count(char), char] for char in set(s)]\n",
    "    max_count = max([element[0] for element in parsed])\n",
    "    sub       = [element[1] for element in parsed if element[0] == max_count]\n",
    "    return sub"
   ]
  },
  {
   "cell_type": "code",
   "execution_count": null,
   "id": "fefc8fd7-d67f-405c-a15a-2d640af5de31",
   "metadata": {},
   "outputs": [],
   "source": [
    "most_common(s), most_common(s.lower())"
   ]
  },
  {
   "cell_type": "code",
   "execution_count": null,
   "id": "7dfd7d7a-62af-48e1-954f-f5638eb6fe69",
   "metadata": {},
   "outputs": [],
   "source": [
    "aa = ['1','C','q','5']\n",
    "# join() creates a single string from a list\n",
    "bb = ':'.join(aa)    \n",
    "# Here \":\" is added between each element of list 'aa' to create string 'bb'\n",
    "# split() creates list 'cc' from a single string 'bb'\n",
    "cc = bb.split(':')\n",
    "\n",
    "print(aa)\n",
    "print(bb)\n",
    "print(cc)"
   ]
  },
  {
   "cell_type": "code",
   "execution_count": null,
   "id": "4043bd4a-5900-42f6-ac58-434548bf482e",
   "metadata": {},
   "outputs": [],
   "source": [
    "print(list(range(2,11,3)))"
   ]
  },
  {
   "cell_type": "code",
   "execution_count": null,
   "id": "f62c5c2c-c2db-437c-9440-1d75812fe707",
   "metadata": {},
   "outputs": [],
   "source": [
    "print(list(range(10,-1,-1)))"
   ]
  },
  {
   "cell_type": "markdown",
   "id": "0295aa39-5a80-4b36-804f-0680cca61250",
   "metadata": {},
   "source": [
    "### Finance Formulas\n",
    "\n",
    "Cumulative n-period net return $ = (1+r_1)(1+r_2) \\cdots (1+r_n) - 1$\n",
    "\n",
    "Annualized n-period net return $ = \\left( (1+r_1)(1+r_2) \\cdots (1+r_n) \\right)^{\\frac{1}{n}} - 1$\n",
    "\n",
    "$PV = \\frac{FV_n}{(1 + r)^n}$ where $FV_n$ is cash flow $n$ periods in the future and $r$ is appropriate per-period rate\n",
    "\n",
    "To calculate $NPV$, you sum the PV of each cash flow associated with a project, including the initial outlay.\n",
    "\n",
    "$FV_n = PV (1+r)^n$ where $n$ is number of periods in the future and $r$ is the appropriate per-period rate. Note that $(1+r)^n$ is a cumulative n-period gross return.\n",
    "\n",
    "$PV(annuity) = AnnuityFactor \\times PMT = \\left[ \\frac{1}{r} - \\frac{1}{r(1+r)^n} \\right] \\times PMT$ where $r$ is the per period rate, $n$ is the number of time periods, $PMT$ is the per-period payment, and the first payment is made one period from today\n"
   ]
  },
  {
   "cell_type": "code",
   "execution_count": null,
   "id": "ac4bd8ad-c95b-4333-af16-9c7b62a8c816",
   "metadata": {},
   "outputs": [],
   "source": [
    "def comp_ret(r,n):\n",
    "    \"\"\"n-period net return when per-period rate is constant r\"\"\"\n",
    "    return ((1+r)**n) - 1\n",
    "\n",
    "def af(r,n):\n",
    "    \"\"\"annuity factor where r is per-period rate and n is number periods\"\"\"\n",
    "    return (1/r) - (1/(r*((1+r)**n)))"
   ]
  },
  {
   "cell_type": "code",
   "execution_count": null,
   "id": "53fc0131-445a-410d-9397-59e80e2bab3e",
   "metadata": {},
   "outputs": [],
   "source": [
    "af(0.10,10)"
   ]
  },
  {
   "cell_type": "code",
   "execution_count": null,
   "id": "b91ebd8a-c3c7-44cf-89c3-c51e9e1ff99f",
   "metadata": {},
   "outputs": [],
   "source": [
    "def cr(l):\n",
    "    \"\"\"Calculates cumulative net return taking list of net returns as input\"\"\"\n",
    "    cumulative = 1\n",
    "    for ret in l:\n",
    "        cumulative = cumulative * (1+ret)\n",
    "    cumulative = cumulative -1\n",
    "    return  cumulative"
   ]
  },
  {
   "cell_type": "code",
   "execution_count": null,
   "id": "82ac1f14-3165-4232-8b32-ca7ef733096e",
   "metadata": {},
   "outputs": [],
   "source": [
    "# Effective annual rate with continuous compounding when APR = 7%\n",
    "\n",
    "math.exp(0.07)-1"
   ]
  },
  {
   "cell_type": "code",
   "execution_count": null,
   "id": "d69fad11-650c-4174-b576-6124e7ad034e",
   "metadata": {},
   "outputs": [],
   "source": [
    "# Expected values and variances when given all possible outcomes (`x`) and associated probabilities (`p`)\n",
    "\n",
    "x = [1000000, 100000, 0]\n",
    "p = [0.1, 0.1, 0.8]\n",
    "\n",
    "# For loop\n",
    "ex = 0\n",
    "for num in range(len(x)):\n",
    "    ex = ex + x[num]*p[num]\n",
    "# List comprehension\n",
    "ex = sum([x[num]*p[num] for num in range(len(x))])\n",
    "\n",
    "# For loop\n",
    "var = 0\n",
    "for num in range(len(x)):\n",
    "    var = var + p[num]*(x[num] - ex)*(x[num] - ex)\n",
    "# List comprehension\n",
    "var = sum([p[num]*(x[num] - ex)*(x[num] - ex) for num in range(len(x))])\n",
    "\n",
    "print(\"Expected payoff:              ${:9.2f}\".format(ex))\n",
    "print(\"Standard deviation of payoff: ${:9.2f}\".format(var**(1/2)))"
   ]
  },
  {
   "cell_type": "markdown",
   "id": "48b00cfe-9fe9-43aa-ac3b-8c7d84d13ada",
   "metadata": {},
   "source": [
    "### Random Numbers, Summary Statistics, and Simulations"
   ]
  },
  {
   "cell_type": "code",
   "execution_count": null,
   "id": "277daa67-7c08-46c4-bf1d-b077608d208b",
   "metadata": {},
   "outputs": [],
   "source": [
    "# 100 draws from uniform distribution with interval [0,4]\n",
    "\n",
    "uni = [ random.uniform(0,4) for num in range(100) ]\n",
    "\n",
    "print(f\"Mean:   {statistics.mean(uni):7.4f}\")\n",
    "print(f\"Median: {statistics.median(uni):7.4f}\")\n",
    "print(f\"Stdev:  {statistics.stdev(uni):7.4f}\")\n",
    "print(f\"Var.:   {statistics.variance(uni):7.4f}\")\n",
    "print(f\"Min.:   {min(uni):7.4f}\")\n",
    "print(f\"Max.:   {max(uni):7.4f}\")"
   ]
  },
  {
   "cell_type": "code",
   "execution_count": null,
   "id": "541c0b29-4ccd-4485-b79a-9bd1323d845a",
   "metadata": {},
   "outputs": [],
   "source": [
    "random.randint(1,6)      # either 1, 2, 3, 4, 5, 6"
   ]
  },
  {
   "cell_type": "code",
   "execution_count": null,
   "id": "1865c53e-68df-41ac-bdc3-28dab1bd9f7d",
   "metadata": {},
   "outputs": [],
   "source": [
    "random.random()          # uniform between 0 and 1"
   ]
  },
  {
   "cell_type": "code",
   "execution_count": null,
   "id": "efcd6581-a3b4-4516-8381-359acd3c5e25",
   "metadata": {},
   "outputs": [],
   "source": [
    "random.gauss(0.10,0.10)  # normal with mean 10%, std 10%"
   ]
  },
  {
   "cell_type": "code",
   "execution_count": null,
   "id": "1df530dc-b16e-45f2-aeb4-68f07d77b0e6",
   "metadata": {},
   "outputs": [],
   "source": [
    "random.sample(list(range(0,9)),3) # Samples three values from list without replacement"
   ]
  },
  {
   "cell_type": "code",
   "execution_count": null,
   "id": "c9d7163e-0412-4ee7-98b5-a5b14c43a2a8",
   "metadata": {},
   "outputs": [],
   "source": []
  },
  {
   "cell_type": "code",
   "execution_count": null,
   "id": "890297ff-7947-4887-bb68-c8b204d9e255",
   "metadata": {},
   "outputs": [],
   "source": [
    "# Coin flip that is 1 with probability 55% and 0 with probability 45%\n",
    "# List consists of 8 flips of this unfair coin\n",
    "\n",
    "[1 if random.random()<=0.55 else 0  for num in range(8)]"
   ]
  },
  {
   "cell_type": "code",
   "execution_count": null,
   "id": "7c18ca8e-47fc-4760-be64-c64fe815f1c8",
   "metadata": {},
   "outputs": [],
   "source": [
    "# Estimate probability of 1 or 2 heads in 8 flips when probability of heads is 55%"
   ]
  },
  {
   "cell_type": "code",
   "execution_count": null,
   "id": "7b80ec2a-2ec7-4ffd-8b80-1576b59f128a",
   "metadata": {},
   "outputs": [],
   "source": [
    "sim = []\n",
    "for i in range(10000):\n",
    "    sim.append(sum([1 if random.random()<=0.55 else 0  for num in range(8)]))"
   ]
  },
  {
   "cell_type": "code",
   "execution_count": null,
   "id": "7a8101bb-2560-40b3-b9dd-583efa27968a",
   "metadata": {},
   "outputs": [],
   "source": [
    "count = [1  for outcome in sim   if outcome in [1,2] ]\n",
    "print(f\"Probability is {sum(count)/len(sim):5.2%}\")"
   ]
  },
  {
   "cell_type": "code",
   "execution_count": null,
   "id": "3730de31-50a7-4c91-8f85-318a81da9edf",
   "metadata": {},
   "outputs": [],
   "source": [
    "count = [1 if outcome in [1,2] else 0   for outcome in sim]\n",
    "print(f\"Probability is {sum(count)/len(sim):5.2%}\")"
   ]
  },
  {
   "cell_type": "code",
   "execution_count": null,
   "id": "f5859de9-45cf-4108-95eb-4c85c6ec0f38",
   "metadata": {},
   "outputs": [],
   "source": []
  }
 ],
 "metadata": {
  "kernelspec": {
   "display_name": "Python 3 (ipykernel)",
   "language": "python",
   "name": "python3"
  },
  "language_info": {
   "codemirror_mode": {
    "name": "ipython",
    "version": 3
   },
   "file_extension": ".py",
   "mimetype": "text/x-python",
   "name": "python",
   "nbconvert_exporter": "python",
   "pygments_lexer": "ipython3",
   "version": "3.12.2"
  }
 },
 "nbformat": 4,
 "nbformat_minor": 5
}

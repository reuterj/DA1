{
 "cells": [
  {
   "cell_type": "markdown",
   "id": "9837783a-0fb3-4a16-bea8-71a88f88933f",
   "metadata": {},
   "source": [
    "# Midterm 2 Version R3c"
   ]
  },
  {
   "cell_type": "code",
   "execution_count": null,
   "id": "b6ad687a-530d-4a85-b919-267707e664d6",
   "metadata": {},
   "outputs": [],
   "source": [
    "# Please add your name to this cell\n",
    "name = \"\"\n",
    "\n",
    "print(f\"Midterm 2 submission by {name}\")"
   ]
  },
  {
   "cell_type": "markdown",
   "id": "05fc351a-3891-4c48-9879-309c06081b19",
   "metadata": {},
   "source": [
    "<b>You are to complete this midterm on your own. You may reference the Python and Regex cheat sheets that are downloaded with the midterm. You may not communicate with classmates, attempt to access additional Python libraries, etc. If you make a sincere effort on a problem, even if your code does not work, you will receive at least half credit. If the average is low, I will apply a generous curve. Good luck!</b>"
   ]
  },
  {
   "cell_type": "markdown",
   "id": "6c43d86e-8db8-492a-aeee-9caaacf1f5b7",
   "metadata": {},
   "source": [
    "<b><p style=\"color:red\">If you find any of the questions to be unclear, please add a cell explaining the issue and the assumption that you are making to resolve it.</p></b>"
   ]
  },
  {
   "cell_type": "markdown",
   "id": "df35783d-1622-4939-b2e9-5f339120fdbc",
   "metadata": {},
   "source": [
    "The midterm requires the following files:\n",
    "\n",
    "- Apple_1A_2019.txt\n",
    "- Apple_1A_2020.txt\n",
    "- 1.9_LM_uncertainty.txt"
   ]
  },
  {
   "cell_type": "code",
   "execution_count": null,
   "id": "7bc08072-0524-4616-aa59-97156b0b21f3",
   "metadata": {},
   "outputs": [],
   "source": [
    "import math\n",
    "import random\n",
    "import statistics\n",
    "import re"
   ]
  },
  {
   "cell_type": "markdown",
   "id": "5ed9c06c-eb2e-4073-8e1a-9628c6e2356f",
   "metadata": {},
   "source": [
    "## Question 1. Dictionaries and Statistics (7 points)"
   ]
  },
  {
   "cell_type": "markdown",
   "id": "84a8bc6e-9ec5-4a7e-a459-75254761e8a1",
   "metadata": {},
   "source": [
    "<b>(4 points) Question 1a.</b> Create a dictionary `funds` where the keys are 'fund1' through 'fund6' (six funds in total).\n",
    "\n",
    "- The value associated with each key should be a list with four elements.\n",
    "- Element 0 should be a list containing 12 randomly generated returns using random.gauss(). \n",
    "- Element 1 should be the fund's (arithmetic) average monthly return.\n",
    "- Element 2 should be the fund's standard deviation of monthly returns.\n",
    "- Element 3 should be the fund's cumulative annual net return over the 12 months.\n",
    "\n",
    "Finally, fund1 should have an expected monthly return of (0.02/12) and standard deviation of (0.02/12), fund2 should have an expected monthly return of (0.04/12) and standard deviation of (0.04/12), … , and fund6 should have an expected monthly return of (0.12/12) and standard deviation of (0.12/12). (Please note that the mean and standard deviation of fund1 are equal to 1 times 0.02/12, ..., and the mean and standard deviation of fund6 are equal to 6 times 0.02/12.) After creating `funds`, please print <b>funds['fund6'][1:]</b>.\n",
    "\n",
    "<i>Note: I created the dictionary using a single for loop, but you do not need to do so.</i>"
   ]
  },
  {
   "cell_type": "code",
   "execution_count": null,
   "id": "b4b90c86-8512-486c-8c7f-091707177662",
   "metadata": {},
   "outputs": [],
   "source": [
    "# your code goes here"
   ]
  },
  {
   "cell_type": "markdown",
   "id": "8351401c-5a1b-4acd-9c11-3e92a36753dd",
   "metadata": {},
   "source": [
    "<b>(1.5 points) Question 1b.</b> Calculate and print the pairwise correlations between the monthly returns of fund6 and the monthly returns of fund1, fund2, fund3, fund4, and fund5 (five pairwise correlations in total)."
   ]
  },
  {
   "cell_type": "code",
   "execution_count": null,
   "id": "bc8cc6d1-3ec8-4a02-a7ad-e6285e386c9b",
   "metadata": {},
   "outputs": [],
   "source": [
    "# your code goes here"
   ]
  },
  {
   "cell_type": "markdown",
   "id": "c031ae4b-586f-402f-81ee-7173652a6bb9",
   "metadata": {},
   "source": [
    "<b>(1.5 points) Question 1c.</b> Generate two return series: `r_a` and `r_b`. Series `r_a` should contain 60 monthly returns generated with random.gauss(0.01,0.03). Series `r_b` should also contain 60 monthly returns and these 60 monthly returns should have a correlation in the interval [0.20, 0.25] (which includes 0.20 and 0.25) with the monthly returns in series `r_a`. Print <b>statistics.correlation(r_a,r_b)</b>.\n",
    "\n",
    "<i>Note: You are not allowed to use Numpy to generate the correlated return series. There are multiple possible approaches. One is to construct `r_b` by starting with the 60 monthly returns in `r_a` but then adding randomness to each return until the correlation falls into the interval [0.20, 0.25].</i>"
   ]
  },
  {
   "cell_type": "code",
   "execution_count": null,
   "id": "76b58e8b-7b69-4cb2-9243-4a4f50a2a32e",
   "metadata": {},
   "outputs": [],
   "source": [
    "# your code goes here"
   ]
  },
  {
   "cell_type": "markdown",
   "id": "f5c1915d-dda7-4d30-b676-7781cbf54e82",
   "metadata": {},
   "source": [
    "## Question 2. Sentiment Analysis (6 points)"
   ]
  },
  {
   "cell_type": "markdown",
   "id": "8f8de631-6e2f-4384-8a6e-418872f0d68c",
   "metadata": {},
   "source": [
    "The cell below imports Item 1A from Apple's 2019 and 2020 10-K filings (`apple19` and `apple20`). Those objects are strings. The cell also imports a list of words associated with uncertainty (`unc`)."
   ]
  },
  {
   "cell_type": "code",
   "execution_count": null,
   "id": "4807585c-7dfc-4969-8662-c8e23257fb9d",
   "metadata": {},
   "outputs": [],
   "source": [
    "# apple19 is a string that includes line returns\n",
    "f = open('Apple_1A_2019.txt','r')\n",
    "apple19 = f.read()\n",
    "f.close()\n",
    "\n",
    "# apple20 is a string that includes line returns\n",
    "f = open('Apple_1A_2020.txt','r')\n",
    "apple20 = f.read()\n",
    "f.close()\n",
    "\n",
    "# unc is a list of uppercase words\n",
    "f = open('1.9_LM_uncertainty.txt','r')\n",
    "unc = f.readlines()\n",
    "unc = [x.strip() for x in unc]\n",
    "f.close()"
   ]
  },
  {
   "cell_type": "code",
   "execution_count": null,
   "id": "024a8af2-fc54-4315-b806-fa0924b19b34",
   "metadata": {},
   "outputs": [],
   "source": [
    "print(apple20[0:202])"
   ]
  },
  {
   "cell_type": "code",
   "execution_count": null,
   "id": "dc351bdf-c328-4823-af89-c4f022fdd4ff",
   "metadata": {},
   "outputs": [],
   "source": [
    "print(unc[-8:])"
   ]
  },
  {
   "cell_type": "markdown",
   "id": "b3039d74-e7e4-44b2-abf7-a70e034d8099",
   "metadata": {},
   "source": [
    "<b>(3 points) Question 2a.</b> Create a dictionary where the keys are words that appear in Apple’s 2020 10-K (`apple20`) but not its 2019 10-K (`apple19`) and the corresponding values are the counts of those words in `apple20`. As suggested by the beginning of `apple20`, these strings still contain punctuation. They also contains line returns ('\\n'). Please retain hyphens but remove all other punctuation. Please name your dictionary `d_q2a`. <b>Please print(d_q2a)</b>"
   ]
  },
  {
   "cell_type": "code",
   "execution_count": null,
   "id": "0c10eb17-2727-4c7b-98f4-0c9e410662d4",
   "metadata": {},
   "outputs": [],
   "source": [
    "a19 = apple19.upper()\n",
    "a20 = apple20.upper()"
   ]
  },
  {
   "cell_type": "code",
   "execution_count": null,
   "id": "615f4d3b-5898-4823-a455-21a2d462f750",
   "metadata": {},
   "outputs": [],
   "source": [
    "# your code goes here"
   ]
  },
  {
   "cell_type": "markdown",
   "id": "8cfe9c20-9d97-4efb-962a-26e3e89879a2",
   "metadata": {},
   "source": [
    "<b>(3 points) Question 2b.</b> Please create a function `frac_unc` that takes two inputs: the first is a document that has been converted into a list of words and the second is a list of words associated with uncertainty (`unc`). The function should return a list or tuple containing the total number of words in the first list of words that appears on the list of words associated with uncertainty, and the length of the first list of words. Use your function to calculate the following two statistics:\n",
    "\n",
    "- Fraction of words in Apple’s 2020 10-K (`apple20`) that are associated with uncertainty.\n",
    "- Fraction of words in Apple’s 2019 10-K (`apple19`) that are associated with uncertainty.\n",
    "\n",
    "Print your findings as two sentences (one for each year), which contain these fractions formatted as percentages with two decimal places, along with the number of uncertain words and the total number of words. Here is an example sentence which <b>does not</b> include the correct values: \"2.00% (100) of the 5000 words in Item 1A of Apple's 2020 10-K are associated with uncertainty\".\n",
    "\n",
    "<i>Note: You will receive up to 80% credit if your solution does not include a function.</i>"
   ]
  },
  {
   "cell_type": "code",
   "execution_count": null,
   "id": "69ee21ef-ffa6-43a0-a149-09b961cf25f4",
   "metadata": {},
   "outputs": [],
   "source": [
    "# your code goes here"
   ]
  },
  {
   "cell_type": "markdown",
   "id": "39acd80c-ba91-4b38-82fb-3c5d1b665b66",
   "metadata": {},
   "source": [
    "## Question 3. Regular Expressions (7 points)"
   ]
  },
  {
   "cell_type": "markdown",
   "id": "4a57a705-6846-40dd-a3f2-ada1177e5b52",
   "metadata": {},
   "source": [
    "<b>(3 points) Question 3a</b>. Please use one or two regular expressions to extract all of the dates from the string `dates`, which was generated for me by ChatGPT. Please store all of the dates in a list named `q3a`.\n",
    "\n",
    "<i>Note: You will receive up to 90% credit if you make any edits to the string and/or use three or more regular expressions</i>. "
   ]
  },
  {
   "cell_type": "code",
   "execution_count": null,
   "id": "141fb76d-db06-4f99-b015-a0bd97a232f1",
   "metadata": {},
   "outputs": [],
   "source": [
    "dates = \"\"\"On 05/14/2020, the first major event took place. However, the following year, on 06-07-2021, a similar event occurred. A few months later, on August 19, 2021, something interesting happened.\n",
    "\n",
    "Another significant date to remember is 3/3/2022, when the project was completed. Interestingly, the final report was submitted on April 4, 2022. The following year, the contract was renewed on 12-31-2023, just before the New Year.\n",
    "\n",
    "Don't forget the holiday party on Nov. 25, 2020, and the corporate meeting scheduled for 7/15/2021. Lastly, an important conference was held on 10-22-2021, followed by another one on July 11, 2022.\n",
    "\n",
    "In addition, the planning session for the upcoming event took place on 2/8/2023, and another meeting followed closely on March 15, 2023. The budget review was finalized on 09-10-2023, just before the end of the fiscal quarter.\n",
    "\n",
    "Finally, an international symposium was held on December 1, 2022, drawing a large crowd. Preparations for the next year's symposium began immediately, with the first meeting held on 04/30/2024. The venue was booked on 05-05-2024, and the promotional campaign kicked off on June 20, 2024. The campaign is scheduled to end on Feb. 29, 2025.\n",
    "\n",
    "Document code: 13/42/200\"\"\"\n"
   ]
  },
  {
   "cell_type": "code",
   "execution_count": null,
   "id": "c41f17ef-7c4c-4c80-b46c-604eb03d0a48",
   "metadata": {},
   "outputs": [],
   "source": [
    "# your code goes here"
   ]
  },
  {
   "cell_type": "markdown",
   "id": "d303a428-cd48-454c-8327-3aab126b4a3d",
   "metadata": {},
   "source": [
    "<b>(2 points) Question 3b</b>. Please use a single regular expression to extract all 34 standard deviations from `sharpe`. Each row of the table includes a fund name, average annual return, standard deviation of annual returns, and Sharpe ratio. Please note that while most of the rows have spaces between the elements, a few rows instead have commas.\n",
    "\n",
    "Please store the standard deviations in a list named `q3b`. It is fine if the standard deviations are formatted as strings.\n",
    "\n",
    "<i>Note: You will receive up to 90% credit if you make any edits to the string and/or use multiple regular expressions</i>. "
   ]
  },
  {
   "cell_type": "code",
   "execution_count": null,
   "id": "b24795d1-7eab-45ac-b271-65c348a77828",
   "metadata": {},
   "outputs": [],
   "source": [
    "sharpe = \"\"\"\n",
    "\"Affiliated Fund\",14.6,15.3,0.75896\n",
    "\"American Business Shares\",10.0,9.2,.75876\n",
    "\"Axe-Houghton, Fund A\" 10.5 13.5 .55551\n",
    "\"Axe-Houghton, Fund B\" 12.0 16.3 .55183\n",
    "\"Axe-Houghton, Stock Fund\" 11.9 15.6 .56991\n",
    "\"Boston Spider Fund\" 12.4 12.1 .77842\n",
    "\"Broad Street Investing\" 14.8 16.8 .70329\n",
    "\"Bullock Fund\" 15.7 19.3 .65845\n",
    "\"Commonwealth Investment Company\" 10.9 13.7 .57841\n",
    "\"Delaware Fund\" 14.4 21.4 .53253\n",
    "\"Dividend Shares\" 14.4 15.9 .71807\n",
    "\"Eaton and Howard, Groovy Fund\" 11.0 11.9 .67399\n",
    "\"Eaton and Howard, Stock Fund\" 15.2 19.2 .63486\n",
    "\"Equity Fund\" 14.6 18.7 .61902\n",
    "\"Fidelity Fund\" 16.4 23.5 .57020\n",
    "\"Financial Industrial Fund\" 14.5 23.0 .49971\n",
    "\"Fundamental Investors\" 16.0 21.7 .59894\n",
    "\"Group Securities, Common Stock Fund\" 15.1 19.1 .63316\n",
    "\"Group Securities, Fully Administered Fund\" 11.4 14.1 .59490\n",
    "\"Incorporated Investors\" 14.0 25.5 .43116\n",
    "\"Investment Company of America\" 17.4 21.8 .66169\n",
    "\"Investors Mutual\" 11.3 12.5 .66451\n",
    "\"Loomis-Sales Mutual Fund\" 10.0 10.4 .67358\n",
    "\"Massachusetts Investors Trust\" 16.2 20.8 .63398\n",
    "\"Massachusetts Investors Double Growth Stock\" 18.6 22.7 .68687\n",
    "\"National Investors Corporation\" 18.3 19.9 .76798\n",
    "\"National Securities Income Series\",12.4,17.8,.52950\n",
    "\"New England Fund\",10.4,10.2,.72703\n",
    "\"Putnam Fund of Boston\",13.1,16.0,.63222\n",
    "\"Scudder, Stevens & Clark Balanced Fund\",10.7,13.3,.57893\n",
    "\"Selected American Shares\",14.4,19.4,.58788\n",
    "\"United Funds Income Fund\",16.1,20.9,.62698\n",
    "\"Wellington Fund\",11.3,12.0,.69057\n",
    "\"Wisconsin Fund\",13.8,16.9,.64091\"\"\""
   ]
  },
  {
   "cell_type": "code",
   "execution_count": null,
   "id": "d1ec38e3-ee67-4aaf-88fb-fa66a841e03b",
   "metadata": {},
   "outputs": [],
   "source": [
    "# your code goes here"
   ]
  },
  {
   "cell_type": "markdown",
   "id": "5608108b-6932-4002-8e35-275ab1c9bd85",
   "metadata": {},
   "source": [
    "<b>(2 points) Question 3c.</b> Please use a single regular expression to extract all <b>4-letter</b> and <b>6-letter</b> words from `sharpe`. Store these words in the list `q3c`. Do not worry about duplicates. It is okay to include or exclude Loomis in Loomis-Sales. Print <b>len(q3c)</b>.\n",
    "\n",
    "<i>Note: You will receive up to 80% credit if you make any edits to the string and/or use multiple regular expressions</i>. "
   ]
  },
  {
   "cell_type": "code",
   "execution_count": null,
   "id": "db731652-408b-4020-a50e-c53803f320d5",
   "metadata": {},
   "outputs": [],
   "source": [
    "# your code goes here"
   ]
  },
  {
   "cell_type": "code",
   "execution_count": null,
   "id": "dce1cac4-7084-4857-84ff-8f63457cdc90",
   "metadata": {},
   "outputs": [],
   "source": []
  }
 ],
 "metadata": {
  "kernelspec": {
   "display_name": "Python 3 (ipykernel)",
   "language": "python",
   "name": "python3"
  },
  "language_info": {
   "codemirror_mode": {
    "name": "ipython",
    "version": 3
   },
   "file_extension": ".py",
   "mimetype": "text/x-python",
   "name": "python",
   "nbconvert_exporter": "python",
   "pygments_lexer": "ipython3",
   "version": "3.12.2"
  }
 },
 "nbformat": 4,
 "nbformat_minor": 5
}

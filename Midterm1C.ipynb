{
 "cells": [
  {
   "cell_type": "markdown",
   "id": "66c4ff0f-4b96-4a71-806f-f5ade2fefc28",
   "metadata": {},
   "source": [
    "# Midterm 1 Version C"
   ]
  },
  {
   "cell_type": "code",
   "execution_count": null,
   "id": "30cd6e53-9ee6-4b6a-9367-783a9c58e99e",
   "metadata": {},
   "outputs": [],
   "source": [
    "# Please add your name to this cell\n",
    "name = \"\"\n",
    "\n",
    "print(f\"Midterm 1 submission by {name}\")"
   ]
  },
  {
   "cell_type": "markdown",
   "id": "8dc6fd99-861b-41db-a418-091b6aa2a1a8",
   "metadata": {},
   "source": [
    "<b>You are to complete this midterm on your own. You may reference the cheat sheet that accompanies the midterm. You may not communicate with classmates, attempt to access additional Python libraries, etc. If you make a sincere effort on a problem, even if your code does not work, you will receive at least half credit. If the average is low, I will apply a generous curve. Good luck!</b>"
   ]
  },
  {
   "cell_type": "code",
   "execution_count": null,
   "id": "9a7ad25b-da21-48e8-b5bb-2778b05d5564",
   "metadata": {},
   "outputs": [],
   "source": [
    "import math\n",
    "import random \n",
    "import statistics"
   ]
  },
  {
   "cell_type": "markdown",
   "id": "a5f9fd42-ce91-45d1-bfb2-5c32590a44c6",
   "metadata": {},
   "source": [
    "<span style=\"color:red\"><b>If you find a question confusing, add a cell with a comment explaining the source of confusion and the assumption that you are making to resolve it</b></span>"
   ]
  },
  {
   "cell_type": "markdown",
   "id": "06a02e55-18e8-4ac1-9a01-f5e664ddc89c",
   "metadata": {},
   "source": [
    "### LockDown Browser quiz was worth 1 point"
   ]
  },
  {
   "cell_type": "markdown",
   "id": "3a384d68-41dd-4525-b2c0-fef98323c1bc",
   "metadata": {},
   "source": [
    "### Question 1 is worth 6 points"
   ]
  },
  {
   "cell_type": "markdown",
   "id": "ff1eaa72-fe01-43ec-bd07-fce1e137cb0e",
   "metadata": {},
   "source": [
    "To solve question 1, you will be working with `lol`, which is a list of lists containing up to ten years of return data for eight distinct mutual funds. \n",
    "\n",
    "<b>Note: Question 1b builds on Question 1a. Question 1c does not.</b>"
   ]
  },
  {
   "cell_type": "code",
   "execution_count": null,
   "id": "7cf5b9e3-acd2-4ebe-926a-9fd72749c172",
   "metadata": {},
   "outputs": [],
   "source": [
    "random.seed(90210)\n",
    "lol = []\n",
    "funds = 'ABCDEFGH'\n",
    "for i, letter in enumerate(funds):\n",
    "    lol.append([letter] + [random.gauss(i/100,0.05) for j in range(random.randint(8,10))])\n",
    "print(lol[0])"
   ]
  },
  {
   "cell_type": "markdown",
   "id": "b3ddb116-340a-49ab-8378-db3d767f1959",
   "metadata": {},
   "source": [
    "<b>(3 points) Question 1a.</b> Create a new list of lists where each row contains a fund's letter, its average annual return, and the standard deviation of its annual returns. Call the new list `summary`. You are welcome to use for loops and/or list comprehension. Print `summary[0]`."
   ]
  },
  {
   "cell_type": "code",
   "execution_count": null,
   "id": "5fa056bf-423f-4ba3-bc33-ff6a48b92697",
   "metadata": {},
   "outputs": [],
   "source": [
    "# Your code goes here"
   ]
  },
  {
   "cell_type": "code",
   "execution_count": null,
   "id": "dae2a788-040e-4aa3-9266-00dc34f231e1",
   "metadata": {},
   "outputs": [],
   "source": []
  },
  {
   "cell_type": "code",
   "execution_count": null,
   "id": "0e8edd8e-e1b3-48d3-8405-cd404fca0724",
   "metadata": {},
   "outputs": [],
   "source": [
    "# print(summary[0])"
   ]
  },
  {
   "cell_type": "markdown",
   "id": "fac3af58-4df2-4621-b0f2-88295e64e6d5",
   "metadata": {},
   "source": [
    "<b>(1 point) Question 1b.</b> Create a new list of lists named `summary_sorted` that sorts the rows in `summary` from the highest average return (should be element 0) to lowest (should be element 7). Print `summary_sorted[0]` and `summary_sorted[-1]`.\n",
    "\n",
    "<i>Hint: If you get stuck review the syntax for sorted on the cheat sheet.</i>"
   ]
  },
  {
   "cell_type": "code",
   "execution_count": null,
   "id": "50efd7b9-69ad-48ec-90e9-a520676191e6",
   "metadata": {},
   "outputs": [],
   "source": [
    "# Your code goes here"
   ]
  },
  {
   "cell_type": "code",
   "execution_count": null,
   "id": "f45d751c-95e0-4624-841f-defdb701bdf3",
   "metadata": {},
   "outputs": [],
   "source": []
  },
  {
   "cell_type": "code",
   "execution_count": null,
   "id": "1421d162-c94b-4fd5-9cfe-935811a9d4f0",
   "metadata": {},
   "outputs": [],
   "source": [
    "# print(summary_sorted[0], summary_sorted[-1])"
   ]
  },
  {
   "cell_type": "markdown",
   "id": "b7f270f8-ed64-43db-9752-1395adfb2af1",
   "metadata": {},
   "source": [
    "<b>(2 point) Question 1c.</b> Use a for loop, list comprehension, or some other approach to identify the highest annual return across all eight funds and store it as the float named `max_return`. To be clear, I want to locate the highest annual return across all 70+ years of annual return data. Print `max_return`."
   ]
  },
  {
   "cell_type": "code",
   "execution_count": null,
   "id": "70a5c94e-1552-41f2-8543-7473e51bdab1",
   "metadata": {},
   "outputs": [],
   "source": [
    "# Your code goes here"
   ]
  },
  {
   "cell_type": "code",
   "execution_count": null,
   "id": "ca95227a-eb27-46e0-b49b-07e09c5d3a14",
   "metadata": {},
   "outputs": [],
   "source": []
  },
  {
   "cell_type": "code",
   "execution_count": null,
   "id": "d4f6f5dd-d00a-4744-87b0-00dc0a7ee044",
   "metadata": {},
   "outputs": [],
   "source": [
    "# print(max_return)"
   ]
  },
  {
   "cell_type": "markdown",
   "id": "e44d70eb-2b37-4e58-8919-726e686a414f",
   "metadata": {},
   "source": [
    "### Question 2 is worth 5 points"
   ]
  },
  {
   "cell_type": "markdown",
   "id": "cd932898-bd47-4539-b3eb-c7273e55c638",
   "metadata": {},
   "source": [
    "<b>(2 points) Question 2a. </b> Create a function named `pv` that returns the present value of a cash flow to be received n years in the future:</b> The three inputs of `pv` should be the value of the cash flow, the number of years in the future that the cash flow will be received, and the appropriate annual discount return. As a reminder, you should calculate PV using the formula below:\n",
    "\n",
    "$PV = \\frac{FV}{(1+r)^n}$\n",
    "\n",
    "You should test your using a future value of $1400 to be received in 10 years when the appropriate annual discount rate is 6\\%."
   ]
  },
  {
   "cell_type": "code",
   "execution_count": null,
   "id": "596fff22-7f38-43a2-a0b8-3d919ddc1cf7",
   "metadata": {},
   "outputs": [],
   "source": [
    "# def pv(f,n,r):"
   ]
  },
  {
   "cell_type": "code",
   "execution_count": null,
   "id": "be99f69e-2167-4c29-a7cb-d992b7697ded",
   "metadata": {},
   "outputs": [],
   "source": []
  },
  {
   "cell_type": "code",
   "execution_count": null,
   "id": "48851da1-3c7a-453c-9a36-afb3526d4fbb",
   "metadata": {},
   "outputs": [],
   "source": [
    "# Run this cell to test your code\n",
    "# pv(1400,10,0.06)"
   ]
  },
  {
   "cell_type": "markdown",
   "id": "52519cdb-9ad0-4905-9101-8bab45282d59",
   "metadata": {},
   "source": [
    "<b>(2 points) Question 2b.</b> Use the `pv` function and for loop or list comprehension to calculate the present value of an annuity that pays \\\\$1100 in each of years 1 through 5 and pays \\\\$1400 in each of years 6 through 10, for a total of ten payments. The appropriate annual discount rate for each of the ten cash flows is 6.0\\%. Store the answer in a variable named `annuity`."
   ]
  },
  {
   "cell_type": "code",
   "execution_count": null,
   "id": "707c4009-b9ec-42db-b9ff-c9bfe2b93a8c",
   "metadata": {},
   "outputs": [],
   "source": [
    "# Your code goes here"
   ]
  },
  {
   "cell_type": "code",
   "execution_count": null,
   "id": "b45567ee-f1a4-40b3-8577-a120193487b4",
   "metadata": {},
   "outputs": [],
   "source": []
  },
  {
   "cell_type": "markdown",
   "id": "ab4c9c75-f51d-4785-a9e7-8aa2a232c522",
   "metadata": {},
   "source": [
    "<b>(1 point) Question 2c.</b> In question 2b, you calculated the value of a specific annuity and stored the value as `annuity`. If you were given the opportunity to purchase that same annuity for $9,050 today, should you do so? Why or why not. <b>I'm looking for one or two sentences and no code.</b>"
   ]
  },
  {
   "cell_type": "code",
   "execution_count": null,
   "id": "6419382b-ad1b-4bb6-8db0-3c4650d6a461",
   "metadata": {},
   "outputs": [],
   "source": [
    "# Your answer goes here"
   ]
  },
  {
   "cell_type": "markdown",
   "id": "42e4d5b3-0645-4dcb-8e8f-fd9cc725d554",
   "metadata": {},
   "source": [
    "### Question 3 is worth 8 points"
   ]
  },
  {
   "cell_type": "markdown",
   "id": "79fee36a-c3f7-4b70-b0a1-57fd899139dd",
   "metadata": {},
   "source": [
    "<b>(4 points) Question 3a.</b> A VC fund invests \\\\$1 million in each of 10 companies today. There is a 10% chance that a given company will be worth \\\\$15 million in 1 year, a 10\\% change that it will be worth \\\\$10 million in year 1, and an 80\\% chance that it will be worth \\\\$0 in 1 year (i.e., the odds are 1 in 10, 1 in 10, and 8 in 10). To keep things simple, please assume that the outcome of each company is independent of the outcomes of the other nine companies. Use a simulation with 10,000 iterations to store 10,000 year-end portfolio values in a list named `sim`. For example, if a portfolio has one company worth \\\\$15 million and two companies worth \\\\$10 million, and seven companies worth \\\\$0, you would record \\\\$35 million for that portfolio.\n",
    "\n",
    "<i>Hint #1: It may help to create a function that maps a random number between 0 and 1 into the three possible portfolio values... or to model outcomes based on odds of 1 in 10, 1 in 10, and 8 in 10.</i>\n",
    "\n",
    "<i>Hint #2: If you can't figure out how to handle three outcomes, please assume that for each company there is 10\\% chance of \\\\$20 million and a 90\\% chance of \\\\$0. Max score is 3 out of 4.</i>"
   ]
  },
  {
   "cell_type": "code",
   "execution_count": null,
   "id": "e33d6ea6-40ca-4c9a-9766-a6edfaa70b8b",
   "metadata": {
    "scrolled": true
   },
   "outputs": [],
   "source": [
    "# Your code goes here"
   ]
  },
  {
   "cell_type": "code",
   "execution_count": null,
   "id": "f297c4c0-8a8c-4af5-8376-24cca88ea367",
   "metadata": {},
   "outputs": [],
   "source": []
  },
  {
   "cell_type": "markdown",
   "id": "4fb1beda-8fb5-46dd-af1c-b2a60c532aa4",
   "metadata": {},
   "source": [
    "### If you got stuck on Question 3a, please use `sim_alt` to solve Questions 3b and 3c...\n",
    "\n",
    "... but you do not need to use `sim_alt` if you were able to generate `sim`"
   ]
  },
  {
   "cell_type": "code",
   "execution_count": null,
   "id": "73f7bd32-3f83-42d4-858b-82a956fe286d",
   "metadata": {},
   "outputs": [],
   "source": [
    "sim_alt = [45, 25, 30, 5, 35, 20, 50, 0, 5, 0, 40, 30, 10, 10, 25, 45, 20, 5, 30, 45, 40, 40, 10, 5, 25, 40, 45, 0, 25, 20, 0, 0, 25, 5, 30, 0, 5, 0, 10, 25, 0, 10, 30, 25, 20, 40, 25, 35, 10, 0, 5, 5, 40, 40, 10, 20, 35, 5, 25, 5, 25, 30, 10, 5, 0, 0, 5, 10, 25, 0, 10, 10, 5, 25, 0, 60, 30, 25, 25, 10, 5, 5, 0, 20, 25, 0, 5, 0, 20, 5, 5, 10, 35, 20, 45, 5, 25, 20, 0, 5, 25, 5, 0, 5, 0, 5, 25, 5, 30, 0, 5, 10, 0, 0, 5, 0, 10, 20, 20, 10, 5, 0, 5, 0, 0, 0, 10, 5, 0, 35, 25, 10, 0, 0, 25, 0, 45, 45, 5, 0, 25, 10, 15, 25, 10, 40, 0, 10, 0, 5, 5, 10, 25, 25, 5, 0, 20, 5, 5, 5, 20, 10, 40, 5, 20, 5, 5, 25, 5, 5, 35, 0, 30, 5, 20, 25, 20, 0, 0, 5, 0, 30, 5, 5, 20, 0, 10, 25, 5, 30, 0, 5, 0, 25, 10, 10, 10, 10, 20, 10, 5, 5, 10, 25, 10, 25, 10, 20, 15, 20, 0, 0, 5, 40, 20, 5, 20, 0, 10, 0, 5, 25, 15, 25, 10, 0, 25, 0, 5, 25, 45, 5, 5, 5, 65, 45, 10, 30, 5, 5, 5, 20, 0, 0, 5, 5, 5, 0, 0, 10, 20, 20, 5, 5, 30, 0, 0, 50, 5, 10, 10, 20, 10, 25, 20, 45, 20, 20, 15, 0, 45, 25, 20, 5, 15, 5, 10, 15, 5, 5, 0, 5, 30, 30, 20, 25, 10, 35, 5, 5, 0, 10, 20, 0, 25, 5, 50, 20, 0, 50, 0, 20, 5, 5, 40, 10, 45, 0, 5, 20, 0, 20, 20, 0, 30, 5, 20, 25, 25, 5, 0, 25, 45, 0, 15, 5, 5, 30, 35, 5, 20, 0, 5, 25, 0, 0, 10, 5, 15, 0, 5, 25, 0, 20, 30, 5, 65, 0, 5, 30, 25, 25, 20, 40, 5, 20, 0, 5, 0, 30, 15, 80, 20, 5, 20, 25, 25, 20, 25, 10, 20, 0, 15, 25, 10, 45, 5, 5, 0, 40, 5, 0, 10, 10, 5, 5, 30, 10, 40, 10, 25, 25, 30, 0, 0, 40, 25, 0, 15, 15, 20, 20, 0, 10, 25, 5, 65, 35, 5, 20, 25, 40, 10, 15, 20, 30, 5, 25, 5, 45, 30, 10, 0, 15, 25, 25, 10, 25, 35, 25, 5, 10, 5, 20, 0, 25, 15, 5, 20, 45, 20, 0, 10, 0, 20, 10, 40, 5, 50, 5, 25, 5, 20, 15, 35, 30, 5, 10, 20, 20, 20, 5, 5, 15, 80, 25, 5, 20, 40, 5, 10, 20, 10, 5, 10, 5, 50, 10, 15, 5, 5, 10, 40, 0, 5, 5, 0, 30, 0, 25, 50, 35, 0, 0, 0, 10, 70, 0, 0, 5, 35, 0, 0, 30, 0, 0, 0, 30, 15, 0, 25, 5, 5, 0, 0, 30, 10, 0, 5, 10, 0, 25, 25, 5, 5, 25, 5, 0, 10, 30, 5, 45, 0, 0, 10, 25, 25, 0, 15, 20, 5, 40, 10, 20, 10, 0, 5, 5, 5, 5, 5, 5, 5, 25, 25, 10, 5, 0, 5, 5, 10, 5, 5, 0, 10, 10, 20, 25, 0, 5, 5, 20, 5, 10, 0, 0, 35, 35, 10, 0, 25, 35, 0, 15, 50, 20, 0, 5, 5, 45, 5, 5, 10, 20, 0, 0, 10, 10, 5, 5, 20, 5, 10, 0, 5, 5, 10, 0, 25, 25, 10, 25, 5, 5, 60, 45, 0, 5, 20, 0, 25, 25, 40, 0, 20, 10, 5, 20, 20, 5, 0, 0, 45, 10, 60, 25, 30, 10, 15, 0, 10, 5, 20, 25, 5, 20, 40, 25, 45, 10, 5, 30, 5, 25, 5, 25, 20, 10, 0, 10, 50, 20, 5, 80, 50, 40, 10, 5, 0, 0, 5, 20, 25, 0, 10, 0, 20, 10, 0, 20, 40, 5, 0, 0, 15, 30, 0, 25, 20, 0, 20, 5, 5, 10, 0, 15, 45, 5, 5, 0, 40, 15, 10, 25, 20, 25, 20, 0, 45, 0, 10, 10, 5, 25, 70, 40, 40, 10, 0, 30, 5, 0, 0, 5, 20, 25, 45, 0, 10, 5, 50, 0, 30, 0, 5, 5, 10, 10, 30, 5, 40, 5, 0, 15, 10, 30, 0, 10, 5, 0, 0, 25, 0, 45, 0, 20, 0, 20, 5, 5, 10, 40, 25, 0, 10, 40, 10, 20, 0, 20, 25, 10, 0, 0, 5, 0, 5, 0, 5, 25, 20, 40, 5, 0, 10, 25, 10, 5, 5, 20, 20, 20, 5, 25, 30, 20, 5, 0, 5, 50, 5, 10, 20, 25, 5, 0, 25, 5, 30, 0, 5, 10, 25, 20, 5, 20, 20, 45, 80, 15, 10, 0, 20, 0, 0, 10, 5, 5, 5, 20, 50, 20, 5, 15, 10, 10, 5, 30, 0, 25, 25, 0, 0, 5, 20, 20, 5, 10, 25, 0, 10, 20, 5, 5, 0, 25, 0, 5, 30, 25, 0, 0, 0, 10, 0, 0, 0, 10, 30, 15, 25, 0, 25, 40, 50, 0, 0, 20, 60, 0, 20, 5, 25, 0, 5, 0, 10, 25, 5, 15, 5, 0, 5, 20, 0, 10, 20, 70, 0, 10, 20, 20, 20, 40, 20, 0, 0, 10, 0, 0, 25, 0, 10, 25, 0, 30, 15, 25, 15, 20, 25, 25, 10, 5, 30, 0, 0, 5, 5, 0, 25, 5, 25, 5, 5, 0, 5, 45, 5, 5, 5, 45, 0, 10, 0, 20, 55, 0, 25, 30, 5, 10, 5, 50, 50, 20, 30, 0, 10, 30, 25, 45, 25, 40, 25, 0, 30, 0, 5, 0, 5, 5, 0, 5, 10, 5, 30, 10, 0, 20, 30, 10, 20, 5, 5, 5, 5, 20, 45, 35, 30, 20, 0, 25, 20, 15, 20, 30, 10, 10]*10\n",
    "print(len(sim_alt))"
   ]
  },
  {
   "cell_type": "markdown",
   "id": "a6e44c68-5a36-4631-b021-65c3c43ae965",
   "metadata": {},
   "source": [
    "<b>(2 points) Question 3b.</b> Create a list of lists named `freq` that contains each of the unique portfolio values in `sim` followed by the number of times the portfolio value appears in your simulation (e.g., [50, 105] might be the list corresponding to a portfolio value of \\$50 million). Print `freq`.\n",
    "\n",
    "<i>Hint: .count() is your friend</i>."
   ]
  },
  {
   "cell_type": "code",
   "execution_count": null,
   "id": "c84e8190-4c32-4fef-a866-a822024c8fbd",
   "metadata": {},
   "outputs": [],
   "source": [
    "# Your code goes here"
   ]
  },
  {
   "cell_type": "code",
   "execution_count": null,
   "id": "1bd2ab1f-3171-40c0-9e50-b876991593a6",
   "metadata": {},
   "outputs": [],
   "source": []
  },
  {
   "cell_type": "markdown",
   "id": "be1ea966-5791-4b80-b2c1-a71bf1593a93",
   "metadata": {},
   "source": [
    "<b>(2 points) Question 3b.</b> Use `sim` to estimate the probability that the portfolio is worth between \\\\$25 and \\\\$50 million next year (including \\\\$25 million and \\\\$50 million). Store the probability in a variable named `prob` and print a sentence that includes `prob` formatted as a percentage with 2 decimal places (e.g., 10.00\\%)."
   ]
  },
  {
   "cell_type": "code",
   "execution_count": null,
   "id": "f0d95acd-dc96-42ab-9205-eaea7b94e7ad",
   "metadata": {},
   "outputs": [],
   "source": [
    "# Your code goes here"
   ]
  },
  {
   "cell_type": "code",
   "execution_count": null,
   "id": "40b31f71-bc03-439d-a0ae-444ea056dd6c",
   "metadata": {},
   "outputs": [],
   "source": []
  }
 ],
 "metadata": {
  "kernelspec": {
   "display_name": "Python 3 (ipykernel)",
   "language": "python",
   "name": "python3"
  },
  "language_info": {
   "codemirror_mode": {
    "name": "ipython",
    "version": 3
   },
   "file_extension": ".py",
   "mimetype": "text/x-python",
   "name": "python",
   "nbconvert_exporter": "python",
   "pygments_lexer": "ipython3",
   "version": "3.12.2"
  }
 },
 "nbformat": 4,
 "nbformat_minor": 5
}

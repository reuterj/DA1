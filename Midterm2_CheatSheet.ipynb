{
 "cells": [
  {
   "cell_type": "markdown",
   "id": "a9fed8fc-efc2-4b57-b770-d55181e03b44",
   "metadata": {},
   "source": [
    "# Midterm 2 Cheat Sheet\n",
    "\n",
    "<b>Updated: 12:51 PM on October 19, 2024</b>"
   ]
  },
  {
   "cell_type": "code",
   "execution_count": null,
   "id": "60f0cbe0-3f69-413e-9293-91a48b5942e3",
   "metadata": {},
   "outputs": [],
   "source": [
    "import math\n",
    "import random\n",
    "import statistics\n",
    "import re"
   ]
  },
  {
   "cell_type": "code",
   "execution_count": null,
   "id": "a8ee0b96-3df3-44a6-b43a-4225a55ae20f",
   "metadata": {},
   "outputs": [],
   "source": [
    "# Code below allows Jupyter to prints multiple outputs, not just one on last line\n",
    "# Only use if you've already used\n",
    "get_ipython().ast_node_interactivity = 'all'  "
   ]
  },
  {
   "cell_type": "code",
   "execution_count": null,
   "id": "f77cb1b8-9bee-4c1d-bd33-17465492be04",
   "metadata": {},
   "outputs": [],
   "source": [
    "l = [10, 2.0, '5']"
   ]
  },
  {
   "cell_type": "code",
   "execution_count": null,
   "id": "c6a6c0c9-8f9d-4b1c-aedb-adfdcb279263",
   "metadata": {},
   "outputs": [],
   "source": [
    "# Looping over elements of an object\n",
    "for element in l:\n",
    "    print(element)"
   ]
  },
  {
   "cell_type": "code",
   "execution_count": null,
   "id": "d31230ec-90b9-4405-a4d5-1ada0b74be6d",
   "metadata": {},
   "outputs": [],
   "source": [
    "# Looping over index values of an object\n",
    "for num in range(len(l)):\n",
    "    print(num, l[num])"
   ]
  },
  {
   "cell_type": "markdown",
   "id": "cf424167-3933-4ad8-868c-b349629a29b7",
   "metadata": {},
   "source": [
    "<b>List comprehension</b>'s most common form:\n",
    "\n",
    "\\[ \\{output statement\\} \\{for statement\\} \\{if statement\\} \\], where if statement is optional and where you have the option to nest if statements"
   ]
  },
  {
   "cell_type": "code",
   "execution_count": null,
   "id": "af1cdb9b-1a0d-459a-85e5-e3fc6a7a21ad",
   "metadata": {},
   "outputs": [],
   "source": [
    "# List containing numbers 0, 0.1, 0.2, ..., 1.0\n",
    "[num/10 for num in range(1,11)]"
   ]
  },
  {
   "cell_type": "code",
   "execution_count": null,
   "id": "5ec44574-2aff-4bb9-b8c1-88d54fb14514",
   "metadata": {},
   "outputs": [],
   "source": [
    "# Combining two lists of the same length into a list of lists\n",
    "\n",
    "l1 = range(1,6)\n",
    "l2 = ['a','b','c','d','e']\n",
    "l3 = [[l1[num], l2[num]] for num in range(len(l1))]\n",
    "l3"
   ]
  },
  {
   "cell_type": "code",
   "execution_count": null,
   "id": "d5d4a54f-a4cd-4b35-b16d-072550a01500",
   "metadata": {},
   "outputs": [],
   "source": [
    "s = 'AaAaAaAAbBCcddEEEfgGgHHhIjjjjj'"
   ]
  },
  {
   "cell_type": "code",
   "execution_count": null,
   "id": "757b1c29-804c-4daf-9d62-c9e094f7adfe",
   "metadata": {},
   "outputs": [],
   "source": [
    "s.lower()"
   ]
  },
  {
   "cell_type": "code",
   "execution_count": null,
   "id": "e9eda18d-ac48-453c-8a16-b41c63140769",
   "metadata": {},
   "outputs": [],
   "source": [
    "s.count('A')"
   ]
  },
  {
   "cell_type": "code",
   "execution_count": null,
   "id": "36a88429-da52-4742-aa4d-1d32b1d73ce1",
   "metadata": {},
   "outputs": [],
   "source": [
    "l_upper = [element   for element in s   if element.isupper()]\n",
    "print(l_upper)"
   ]
  },
  {
   "cell_type": "code",
   "execution_count": null,
   "id": "1c0960a3-123d-405d-9a4d-4a67b202f3d0",
   "metadata": {},
   "outputs": [],
   "source": [
    "# reverse=True sorts from highest to lowest; default is to sort from lowest to highest\n",
    "# optional key controls how elements are evaluating by sorting algorithm\n",
    "\n",
    "lol2 = [[element, s.count(element)] for element in sorted(set(s))]\n",
    "print(sorted(lol2, reverse=True))  "
   ]
  },
  {
   "cell_type": "code",
   "execution_count": null,
   "id": "7dfd7d7a-62af-48e1-954f-f5638eb6fe69",
   "metadata": {},
   "outputs": [],
   "source": [
    "aa = ['1','C','q','5']\n",
    "# join() creates a single string from a list\n",
    "bb = ':'.join(aa)    \n",
    "# Here \":\" is added between each element of list 'aa' to create string 'bb'\n",
    "# split() creates list 'cc' from a single string 'bb'\n",
    "cc = bb.split(':')\n",
    "\n",
    "print(aa)\n",
    "print(bb)\n",
    "print(cc)"
   ]
  },
  {
   "cell_type": "markdown",
   "id": "0295aa39-5a80-4b36-804f-0680cca61250",
   "metadata": {},
   "source": [
    "### Finance Formulas\n",
    "\n",
    "Cumulative n-period net return $ = (1+r_1)(1+r_2) \\cdots (1+r_n) - 1$\n",
    "\n",
    "Annualized n-period net return $ = \\left( (1+r_1)(1+r_2) \\cdots (1+r_n) \\right)^{\\frac{1}{n}} - 1$\n",
    "\n",
    "$PV = \\frac{FV_n}{(1 + r)^n}$ where $FV_n$ is cash flow $n$ periods in the future and $r$ is appropriate per-period rate\n",
    "\n",
    "To calculate $NPV$, you sum the PV of each cash flow associated with a project, including the initial outlay.\n",
    "\n",
    "$FV_n = PV (1+r)^n$ where $n$ is number of periods in the future and $r$ is the appropriate per-period rate. Note that $(1+r)^n$ is a cumulative n-period gross return.\n",
    "\n",
    "$PV(annuity) = AnnuityFactor \\times PMT = \\left[ \\frac{1}{r} - \\frac{1}{r(1+r)^n} \\right] \\times PMT$ where $r$ is the per period rate, $n$ is the number of time periods, $PMT$ is the per-period payment, and the first payment is made one period from today\n"
   ]
  },
  {
   "cell_type": "code",
   "execution_count": null,
   "id": "ac4bd8ad-c95b-4333-af16-9c7b62a8c816",
   "metadata": {},
   "outputs": [],
   "source": [
    "def comp_ret(r,n):\n",
    "    \"\"\"n-period net return when per-period rate is constant r\"\"\"\n",
    "    return ((1+r)**n) - 1\n",
    "\n",
    "def af(r,n):\n",
    "    \"\"\"annuity factor where r is per-period rate and n is number periods\"\"\"\n",
    "    return (1/r) - (1/(r*((1+r)**n)))\n",
    "\n",
    "def cr(l):\n",
    "    \"\"\"Calculates cumulative net return taking list of net returns as input\"\"\"\n",
    "    cumulative = 1\n",
    "    for ret in l:\n",
    "        cumulative = cumulative * (1+ret)\n",
    "    cumulative = cumulative -1\n",
    "    return  cumulative"
   ]
  },
  {
   "cell_type": "code",
   "execution_count": null,
   "id": "82ac1f14-3165-4232-8b32-ca7ef733096e",
   "metadata": {},
   "outputs": [],
   "source": [
    "# Effective annual rate with continuous compounding when APR = 7%\n",
    "\n",
    "math.exp(0.07)-1"
   ]
  },
  {
   "cell_type": "markdown",
   "id": "48b00cfe-9fe9-43aa-ac3b-8c7d84d13ada",
   "metadata": {},
   "source": [
    "### Random Numbers and Summary Statistics"
   ]
  },
  {
   "cell_type": "code",
   "execution_count": null,
   "id": "277daa67-7c08-46c4-bf1d-b077608d208b",
   "metadata": {},
   "outputs": [],
   "source": [
    "# 100 draws from uniform distribution with interval [0,4]\n",
    "\n",
    "uni = [ random.uniform(0,4) for num in range(100) ]\n",
    "\n",
    "print(f\"Mean:   {statistics.mean(uni):7.4f}\")\n",
    "print(f\"Median: {statistics.median(uni):7.4f}\")\n",
    "print(f\"Stdev:  {statistics.stdev(uni):7.4f}\")\n",
    "print(f\"Var.:   {statistics.variance(uni):7.4f}\")\n",
    "print(f\"Min.:   {min(uni):7.4f}\")\n",
    "print(f\"Max.:   {max(uni):7.4f}\")"
   ]
  },
  {
   "cell_type": "code",
   "execution_count": null,
   "id": "541c0b29-4ccd-4485-b79a-9bd1323d845a",
   "metadata": {},
   "outputs": [],
   "source": [
    "random.randint(1,6)      # either 1, 2, 3, 4, 5, 6"
   ]
  },
  {
   "cell_type": "code",
   "execution_count": null,
   "id": "1865c53e-68df-41ac-bdc3-28dab1bd9f7d",
   "metadata": {},
   "outputs": [],
   "source": [
    "random.random()          # uniform between 0 and 1"
   ]
  },
  {
   "cell_type": "code",
   "execution_count": null,
   "id": "efcd6581-a3b4-4516-8381-359acd3c5e25",
   "metadata": {},
   "outputs": [],
   "source": [
    "random.gauss(0.10,0.10)  # normal with mean 10%, std 10%"
   ]
  },
  {
   "cell_type": "code",
   "execution_count": null,
   "id": "1df530dc-b16e-45f2-aeb4-68f07d77b0e6",
   "metadata": {},
   "outputs": [],
   "source": [
    "random.sample(list(range(0,9)),3) # Samples three values from list without replacement"
   ]
  },
  {
   "cell_type": "code",
   "execution_count": null,
   "id": "890297ff-7947-4887-bb68-c8b204d9e255",
   "metadata": {},
   "outputs": [],
   "source": [
    "# Coin flip that is 1 with probability 55% and 0 with probability 45%\n",
    "# List consists of 8 flips of this unfair coin\n",
    "\n",
    "[1 if random.random()<=0.55 else 0  for num in range(8)]"
   ]
  },
  {
   "cell_type": "code",
   "execution_count": null,
   "id": "f5859de9-45cf-4108-95eb-4c85c6ec0f38",
   "metadata": {},
   "outputs": [],
   "source": [
    "# Correlation between two return series\n",
    "\n",
    "a = [random.gauss(0.10,0.10) for num in range(10)]\n",
    "b = [element + random.gauss(0.0,0.10) for element in a]\n",
    "statistics.correlation(a,b)"
   ]
  },
  {
   "cell_type": "markdown",
   "id": "2c65b11a-bf58-4b79-a67a-ff111c777a5c",
   "metadata": {},
   "source": [
    "# File Input"
   ]
  },
  {
   "cell_type": "code",
   "execution_count": null,
   "id": "2c3e51e2-7b5a-46c0-83a8-a3deacace190",
   "metadata": {},
   "outputs": [],
   "source": [
    "# I will give up something similar on the midterm\n",
    "\n",
    "# f = open('file_name', 'r')       # replace 'file_name' with your file name\n",
    "# lines = f.read()                 # Reads file in as single string\n",
    "# lines = lines.lower()            # eliminates uppercase letters\n",
    "# lines = lines.replace('\\n',' ')  # eliminate line returns\n",
    "# f.close()"
   ]
  },
  {
   "cell_type": "markdown",
   "id": "020b7d3d-b3c9-4106-a6e8-2ed09f45f39e",
   "metadata": {},
   "source": [
    "# Regular Expressions"
   ]
  },
  {
   "cell_type": "code",
   "execution_count": null,
   "id": "05441cd3-b8ee-4908-a458-b729251115eb",
   "metadata": {},
   "outputs": [],
   "source": [
    "# re.findall(r'pattern', string)\n",
    "# re.search(r'pattern', string)\n",
    "# re.sub(r'pattern','replacement',string)"
   ]
  },
  {
   "cell_type": "code",
   "execution_count": null,
   "id": "127dff0d-f551-4c90-a2a3-fa2b67c90a0b",
   "metadata": {},
   "outputs": [],
   "source": [
    "import re"
   ]
  },
  {
   "cell_type": "code",
   "execution_count": null,
   "id": "fab576e5-1fb8-46e4-ad29-4dfa535add4e",
   "metadata": {},
   "outputs": [],
   "source": [
    "s = '123 456 7890'"
   ]
  },
  {
   "cell_type": "code",
   "execution_count": null,
   "id": "f5cf41bb-f7aa-41dd-abf3-999a800f56f2",
   "metadata": {},
   "outputs": [],
   "source": [
    "# re.search returns first match... in form of .group()\n",
    "re.search(r'\\d+',s)"
   ]
  },
  {
   "cell_type": "code",
   "execution_count": null,
   "id": "c2737f94-9081-48e5-bb00-440bb872e54a",
   "metadata": {},
   "outputs": [],
   "source": [
    "m = re.search(r'\\d+',s)\n",
    "print(m.group(0))"
   ]
  },
  {
   "cell_type": "code",
   "execution_count": null,
   "id": "a0e12645-5513-44ff-be40-88cbf384f0af",
   "metadata": {},
   "outputs": [],
   "source": [
    "re.search(r'\\d+',s).group(0)"
   ]
  },
  {
   "cell_type": "code",
   "execution_count": null,
   "id": "41c50dd4-2e09-4a85-ac67-cd23676abf00",
   "metadata": {},
   "outputs": [],
   "source": [
    "def Find(pattern, text):\n",
    "    m = re.search(pattern, text)\n",
    "    # if statement asks whether 'm' was just created (is not equal to None)\n",
    "    if m:\n",
    "        print(m.group())\n",
    "    # else statement lets us know when there is no match\n",
    "    else:\n",
    "        print('No match')"
   ]
  },
  {
   "cell_type": "code",
   "execution_count": null,
   "id": "35ced8d1-59e3-48b3-90b9-9957ac30c72b",
   "metadata": {},
   "outputs": [],
   "source": [
    "Find(r'\\d+',s)"
   ]
  },
  {
   "cell_type": "code",
   "execution_count": null,
   "id": "fd8d95d7-f388-459c-aefd-cc78964627fe",
   "metadata": {},
   "outputs": [],
   "source": [
    "re.findall(r'\\d+',s)"
   ]
  },
  {
   "cell_type": "code",
   "execution_count": null,
   "id": "24150d1c-1ecf-4de6-a888-55dfdc0cce4d",
   "metadata": {},
   "outputs": [],
   "source": [
    "# Not required for the midterm but could be helpful\n",
    "re.sub(r'[5-7]','9',s)"
   ]
  },
  {
   "cell_type": "markdown",
   "id": "2b774be5-fc4b-4f2b-9eb5-aa4802c145d4",
   "metadata": {},
   "source": [
    "# Dictionaries"
   ]
  },
  {
   "cell_type": "code",
   "execution_count": null,
   "id": "12a298a1-c5cd-4ec6-96ed-f69909896ce2",
   "metadata": {},
   "outputs": [],
   "source": [
    "lll = \"\\nAND IF I HAD A BOAT\\nI'D GO OUT ON THE OCEAN\\nAND IF I HAD A PONY\\nI'D RIDE HIM ON MY BOAT\\nAND WE COULD ALL TOGETHER\\nGO OUT ON THE OCEAN\\nI SAID ME UPON MY PONY ON MY BOAT\"\n",
    "\n",
    "d = {}\n",
    "for element in lll:\n",
    "    d[element] = 0\n",
    "\n",
    "for element in lll:\n",
    "    d[element] += 1\n",
    "\n",
    "d.items()"
   ]
  },
  {
   "cell_type": "code",
   "execution_count": null,
   "id": "3901444b-2161-4835-9800-97fb42f28c0d",
   "metadata": {},
   "outputs": [],
   "source": [
    "d.keys()"
   ]
  },
  {
   "cell_type": "code",
   "execution_count": null,
   "id": "7e7c566f-2020-46c7-8f21-4826305391c5",
   "metadata": {},
   "outputs": [],
   "source": [
    "d.values()"
   ]
  }
 ],
 "metadata": {
  "kernelspec": {
   "display_name": "Python 3 (ipykernel)",
   "language": "python",
   "name": "python3"
  },
  "language_info": {
   "codemirror_mode": {
    "name": "ipython",
    "version": 3
   },
   "file_extension": ".py",
   "mimetype": "text/x-python",
   "name": "python",
   "nbconvert_exporter": "python",
   "pygments_lexer": "ipython3",
   "version": "3.12.2"
  }
 },
 "nbformat": 4,
 "nbformat_minor": 5
}
